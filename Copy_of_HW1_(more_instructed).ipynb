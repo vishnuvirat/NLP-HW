{
  "cells": [
    {
      "cell_type": "markdown",
      "metadata": {
        "id": "view-in-github",
        "colab_type": "text"
      },
      "source": [
        "<a href=\"https://colab.research.google.com/github/vishnuvirat/NLP-HW/blob/main/Copy_of_HW1_(more_instructed).ipynb\" target=\"_parent\"><img src=\"https://colab.research.google.com/assets/colab-badge.svg\" alt=\"Open In Colab\"/></a>"
      ]
    },
    {
      "cell_type": "code",
      "execution_count": 1,
      "metadata": {
        "collapsed": true,
        "id": "j7PKqbDr3K3Z",
        "colab": {
          "base_uri": "https://localhost:8080/"
        },
        "outputId": "0be3dde4-6ac0-4e47-b268-20e75e06e8a4"
      },
      "outputs": [
        {
          "output_type": "stream",
          "name": "stdout",
          "text": [
            "Collecting git+https://github.com/kwang2049/nlp4web-codebase.git\n",
            "  Cloning https://github.com/kwang2049/nlp4web-codebase.git to /tmp/pip-req-build-jdqh_998\n",
            "  Running command git clone --filter=blob:none --quiet https://github.com/kwang2049/nlp4web-codebase.git /tmp/pip-req-build-jdqh_998\n",
            "  Resolved https://github.com/kwang2049/nlp4web-codebase.git to commit 83f9afbbf7e372c116fdd04997a96449007f861f\n",
            "  Preparing metadata (setup.py) ... \u001b[?25l\u001b[?25hdone\n",
            "Collecting nltk==3.8.1 (from nlp4web-codebase==0.0.0)\n",
            "  Downloading nltk-3.8.1-py3-none-any.whl.metadata (2.8 kB)\n",
            "Requirement already satisfied: numpy==1.26.4 in /usr/local/lib/python3.10/dist-packages (from nlp4web-codebase==0.0.0) (1.26.4)\n",
            "Requirement already satisfied: scipy==1.13.1 in /usr/local/lib/python3.10/dist-packages (from nlp4web-codebase==0.0.0) (1.13.1)\n",
            "Requirement already satisfied: pandas==2.2.2 in /usr/local/lib/python3.10/dist-packages (from nlp4web-codebase==0.0.0) (2.2.2)\n",
            "Collecting tqdm==4.66.5 (from nlp4web-codebase==0.0.0)\n",
            "  Downloading tqdm-4.66.5-py3-none-any.whl.metadata (57 kB)\n",
            "\u001b[2K     \u001b[90m━━━━━━━━━━━━━━━━━━━━━━━━━━━━━━━━━━━━━━━━\u001b[0m \u001b[32m57.6/57.6 kB\u001b[0m \u001b[31m3.7 MB/s\u001b[0m eta \u001b[36m0:00:00\u001b[0m\n",
            "\u001b[?25hCollecting ujson==5.10.0 (from nlp4web-codebase==0.0.0)\n",
            "  Downloading ujson-5.10.0-cp310-cp310-manylinux_2_17_x86_64.manylinux2014_x86_64.whl.metadata (9.3 kB)\n",
            "Requirement already satisfied: joblib==1.4.2 in /usr/local/lib/python3.10/dist-packages (from nlp4web-codebase==0.0.0) (1.4.2)\n",
            "Collecting datasets==3.0.1 (from nlp4web-codebase==0.0.0)\n",
            "  Downloading datasets-3.0.1-py3-none-any.whl.metadata (20 kB)\n",
            "Collecting pytrec_eval==0.5 (from nlp4web-codebase==0.0.0)\n",
            "  Downloading pytrec_eval-0.5.tar.gz (15 kB)\n",
            "  Preparing metadata (setup.py) ... \u001b[?25l\u001b[?25hdone\n",
            "Requirement already satisfied: filelock in /usr/local/lib/python3.10/dist-packages (from datasets==3.0.1->nlp4web-codebase==0.0.0) (3.16.1)\n",
            "Requirement already satisfied: pyarrow>=15.0.0 in /usr/local/lib/python3.10/dist-packages (from datasets==3.0.1->nlp4web-codebase==0.0.0) (17.0.0)\n",
            "Collecting dill<0.3.9,>=0.3.0 (from datasets==3.0.1->nlp4web-codebase==0.0.0)\n",
            "  Downloading dill-0.3.8-py3-none-any.whl.metadata (10 kB)\n",
            "Requirement already satisfied: requests>=2.32.2 in /usr/local/lib/python3.10/dist-packages (from datasets==3.0.1->nlp4web-codebase==0.0.0) (2.32.3)\n",
            "Collecting xxhash (from datasets==3.0.1->nlp4web-codebase==0.0.0)\n",
            "  Downloading xxhash-3.5.0-cp310-cp310-manylinux_2_17_x86_64.manylinux2014_x86_64.whl.metadata (12 kB)\n",
            "Collecting multiprocess (from datasets==3.0.1->nlp4web-codebase==0.0.0)\n",
            "  Downloading multiprocess-0.70.17-py310-none-any.whl.metadata (7.2 kB)\n",
            "Collecting fsspec<=2024.6.1,>=2023.1.0 (from fsspec[http]<=2024.6.1,>=2023.1.0->datasets==3.0.1->nlp4web-codebase==0.0.0)\n",
            "  Downloading fsspec-2024.6.1-py3-none-any.whl.metadata (11 kB)\n",
            "Requirement already satisfied: aiohttp in /usr/local/lib/python3.10/dist-packages (from datasets==3.0.1->nlp4web-codebase==0.0.0) (3.11.2)\n",
            "Requirement already satisfied: huggingface-hub>=0.22.0 in /usr/local/lib/python3.10/dist-packages (from datasets==3.0.1->nlp4web-codebase==0.0.0) (0.26.2)\n",
            "Requirement already satisfied: packaging in /usr/local/lib/python3.10/dist-packages (from datasets==3.0.1->nlp4web-codebase==0.0.0) (24.2)\n",
            "Requirement already satisfied: pyyaml>=5.1 in /usr/local/lib/python3.10/dist-packages (from datasets==3.0.1->nlp4web-codebase==0.0.0) (6.0.2)\n",
            "Requirement already satisfied: click in /usr/local/lib/python3.10/dist-packages (from nltk==3.8.1->nlp4web-codebase==0.0.0) (8.1.7)\n",
            "Requirement already satisfied: regex>=2021.8.3 in /usr/local/lib/python3.10/dist-packages (from nltk==3.8.1->nlp4web-codebase==0.0.0) (2024.9.11)\n",
            "Requirement already satisfied: python-dateutil>=2.8.2 in /usr/local/lib/python3.10/dist-packages (from pandas==2.2.2->nlp4web-codebase==0.0.0) (2.8.2)\n",
            "Requirement already satisfied: pytz>=2020.1 in /usr/local/lib/python3.10/dist-packages (from pandas==2.2.2->nlp4web-codebase==0.0.0) (2024.2)\n",
            "Requirement already satisfied: tzdata>=2022.7 in /usr/local/lib/python3.10/dist-packages (from pandas==2.2.2->nlp4web-codebase==0.0.0) (2024.2)\n",
            "Requirement already satisfied: aiohappyeyeballs>=2.3.0 in /usr/local/lib/python3.10/dist-packages (from aiohttp->datasets==3.0.1->nlp4web-codebase==0.0.0) (2.4.3)\n",
            "Requirement already satisfied: aiosignal>=1.1.2 in /usr/local/lib/python3.10/dist-packages (from aiohttp->datasets==3.0.1->nlp4web-codebase==0.0.0) (1.3.1)\n",
            "Requirement already satisfied: attrs>=17.3.0 in /usr/local/lib/python3.10/dist-packages (from aiohttp->datasets==3.0.1->nlp4web-codebase==0.0.0) (24.2.0)\n",
            "Requirement already satisfied: frozenlist>=1.1.1 in /usr/local/lib/python3.10/dist-packages (from aiohttp->datasets==3.0.1->nlp4web-codebase==0.0.0) (1.5.0)\n",
            "Requirement already satisfied: multidict<7.0,>=4.5 in /usr/local/lib/python3.10/dist-packages (from aiohttp->datasets==3.0.1->nlp4web-codebase==0.0.0) (6.1.0)\n",
            "Requirement already satisfied: propcache>=0.2.0 in /usr/local/lib/python3.10/dist-packages (from aiohttp->datasets==3.0.1->nlp4web-codebase==0.0.0) (0.2.0)\n",
            "Requirement already satisfied: yarl<2.0,>=1.17.0 in /usr/local/lib/python3.10/dist-packages (from aiohttp->datasets==3.0.1->nlp4web-codebase==0.0.0) (1.17.2)\n",
            "Requirement already satisfied: async-timeout<6.0,>=4.0 in /usr/local/lib/python3.10/dist-packages (from aiohttp->datasets==3.0.1->nlp4web-codebase==0.0.0) (4.0.3)\n",
            "Requirement already satisfied: typing-extensions>=3.7.4.3 in /usr/local/lib/python3.10/dist-packages (from huggingface-hub>=0.22.0->datasets==3.0.1->nlp4web-codebase==0.0.0) (4.12.2)\n",
            "Requirement already satisfied: six>=1.5 in /usr/local/lib/python3.10/dist-packages (from python-dateutil>=2.8.2->pandas==2.2.2->nlp4web-codebase==0.0.0) (1.16.0)\n",
            "Requirement already satisfied: charset-normalizer<4,>=2 in /usr/local/lib/python3.10/dist-packages (from requests>=2.32.2->datasets==3.0.1->nlp4web-codebase==0.0.0) (3.4.0)\n",
            "Requirement already satisfied: idna<4,>=2.5 in /usr/local/lib/python3.10/dist-packages (from requests>=2.32.2->datasets==3.0.1->nlp4web-codebase==0.0.0) (3.10)\n",
            "Requirement already satisfied: urllib3<3,>=1.21.1 in /usr/local/lib/python3.10/dist-packages (from requests>=2.32.2->datasets==3.0.1->nlp4web-codebase==0.0.0) (2.2.3)\n",
            "Requirement already satisfied: certifi>=2017.4.17 in /usr/local/lib/python3.10/dist-packages (from requests>=2.32.2->datasets==3.0.1->nlp4web-codebase==0.0.0) (2024.8.30)\n",
            "INFO: pip is looking at multiple versions of multiprocess to determine which version is compatible with other requirements. This could take a while.\n",
            "Collecting multiprocess (from datasets==3.0.1->nlp4web-codebase==0.0.0)\n",
            "  Downloading multiprocess-0.70.16-py310-none-any.whl.metadata (7.2 kB)\n",
            "Downloading datasets-3.0.1-py3-none-any.whl (471 kB)\n",
            "\u001b[2K   \u001b[90m━━━━━━━━━━━━━━━━━━━━━━━━━━━━━━━━━━━━━━━━\u001b[0m \u001b[32m471.6/471.6 kB\u001b[0m \u001b[31m24.5 MB/s\u001b[0m eta \u001b[36m0:00:00\u001b[0m\n",
            "\u001b[?25hDownloading nltk-3.8.1-py3-none-any.whl (1.5 MB)\n",
            "\u001b[2K   \u001b[90m━━━━━━━━━━━━━━━━━━━━━━━━━━━━━━━━━━━━━━━━\u001b[0m \u001b[32m1.5/1.5 MB\u001b[0m \u001b[31m47.2 MB/s\u001b[0m eta \u001b[36m0:00:00\u001b[0m\n",
            "\u001b[?25hDownloading tqdm-4.66.5-py3-none-any.whl (78 kB)\n",
            "\u001b[2K   \u001b[90m━━━━━━━━━━━━━━━━━━━━━━━━━━━━━━━━━━━━━━━━\u001b[0m \u001b[32m78.4/78.4 kB\u001b[0m \u001b[31m6.5 MB/s\u001b[0m eta \u001b[36m0:00:00\u001b[0m\n",
            "\u001b[?25hDownloading ujson-5.10.0-cp310-cp310-manylinux_2_17_x86_64.manylinux2014_x86_64.whl (53 kB)\n",
            "\u001b[2K   \u001b[90m━━━━━━━━━━━━━━━━━━━━━━━━━━━━━━━━━━━━━━━━\u001b[0m \u001b[32m53.6/53.6 kB\u001b[0m \u001b[31m4.2 MB/s\u001b[0m eta \u001b[36m0:00:00\u001b[0m\n",
            "\u001b[?25hDownloading dill-0.3.8-py3-none-any.whl (116 kB)\n",
            "\u001b[2K   \u001b[90m━━━━━━━━━━━━━━━━━━━━━━━━━━━━━━━━━━━━━━━━\u001b[0m \u001b[32m116.3/116.3 kB\u001b[0m \u001b[31m10.2 MB/s\u001b[0m eta \u001b[36m0:00:00\u001b[0m\n",
            "\u001b[?25hDownloading fsspec-2024.6.1-py3-none-any.whl (177 kB)\n",
            "\u001b[2K   \u001b[90m━━━━━━━━━━━━━━━━━━━━━━━━━━━━━━━━━━━━━━━━\u001b[0m \u001b[32m177.6/177.6 kB\u001b[0m \u001b[31m12.1 MB/s\u001b[0m eta \u001b[36m0:00:00\u001b[0m\n",
            "\u001b[?25hDownloading multiprocess-0.70.16-py310-none-any.whl (134 kB)\n",
            "\u001b[2K   \u001b[90m━━━━━━━━━━━━━━━━━━━━━━━━━━━━━━━━━━━━━━━━\u001b[0m \u001b[32m134.8/134.8 kB\u001b[0m \u001b[31m7.7 MB/s\u001b[0m eta \u001b[36m0:00:00\u001b[0m\n",
            "\u001b[?25hDownloading xxhash-3.5.0-cp310-cp310-manylinux_2_17_x86_64.manylinux2014_x86_64.whl (194 kB)\n",
            "\u001b[2K   \u001b[90m━━━━━━━━━━━━━━━━━━━━━━━━━━━━━━━━━━━━━━━━\u001b[0m \u001b[32m194.1/194.1 kB\u001b[0m \u001b[31m12.7 MB/s\u001b[0m eta \u001b[36m0:00:00\u001b[0m\n",
            "\u001b[?25hBuilding wheels for collected packages: nlp4web-codebase, pytrec_eval\n",
            "  Building wheel for nlp4web-codebase (setup.py) ... \u001b[?25l\u001b[?25hdone\n",
            "  Created wheel for nlp4web-codebase: filename=nlp4web_codebase-0.0.0-py3-none-any.whl size=6547 sha256=eaba029d242f049c590282c6c697b5c035748e8f5cacabc4cc04d39e02ff381e\n",
            "  Stored in directory: /tmp/pip-ephem-wheel-cache-txji0h42/wheels/3c/a4/0e/4ba0570e6e4c6784c7c78d1b64c13ca541f6e39cff3ed06fa8\n",
            "  Building wheel for pytrec_eval (setup.py) ... \u001b[?25l\u001b[?25hdone\n",
            "  Created wheel for pytrec_eval: filename=pytrec_eval-0.5-cp310-cp310-linux_x86_64.whl size=308216 sha256=bb7eb45043a205935dca0d5c1da357beb971ffe8c61fc05a6f4fae13df7630ac\n",
            "  Stored in directory: /root/.cache/pip/wheels/51/3a/cd/dcc1ddfc763987d5cb237165d8ac249aa98a23ab90f67317a8\n",
            "Successfully built nlp4web-codebase pytrec_eval\n",
            "Installing collected packages: xxhash, ujson, tqdm, pytrec_eval, fsspec, dill, nltk, multiprocess, datasets, nlp4web-codebase\n",
            "  Attempting uninstall: tqdm\n",
            "    Found existing installation: tqdm 4.66.6\n",
            "    Uninstalling tqdm-4.66.6:\n",
            "      Successfully uninstalled tqdm-4.66.6\n",
            "  Attempting uninstall: fsspec\n",
            "    Found existing installation: fsspec 2024.10.0\n",
            "    Uninstalling fsspec-2024.10.0:\n",
            "      Successfully uninstalled fsspec-2024.10.0\n",
            "  Attempting uninstall: nltk\n",
            "    Found existing installation: nltk 3.9.1\n",
            "    Uninstalling nltk-3.9.1:\n",
            "      Successfully uninstalled nltk-3.9.1\n",
            "\u001b[31mERROR: pip's dependency resolver does not currently take into account all the packages that are installed. This behaviour is the source of the following dependency conflicts.\n",
            "gcsfs 2024.10.0 requires fsspec==2024.10.0, but you have fsspec 2024.6.1 which is incompatible.\u001b[0m\u001b[31m\n",
            "\u001b[0mSuccessfully installed datasets-3.0.1 dill-0.3.8 fsspec-2024.6.1 multiprocess-0.70.16 nlp4web-codebase-0.0.0 nltk-3.8.1 pytrec_eval-0.5 tqdm-4.66.5 ujson-5.10.0 xxhash-3.5.0\n",
            "Cloning into 'nlp4web-codebase'...\n",
            "remote: Enumerating objects: 42, done.\u001b[K\n",
            "remote: Counting objects: 100% (42/42), done.\u001b[K\n",
            "remote: Compressing objects: 100% (33/33), done.\u001b[K\n",
            "remote: Total 42 (delta 14), reused 30 (delta 5), pack-reused 0 (from 0)\u001b[K\n",
            "Receiving objects: 100% (42/42), 8.79 KiB | 1.46 MiB/s, done.\n",
            "Resolving deltas: 100% (14/14), done.\n",
            "Collecting gradio\n",
            "  Downloading gradio-5.6.0-py3-none-any.whl.metadata (16 kB)\n",
            "Collecting aiofiles<24.0,>=22.0 (from gradio)\n",
            "  Downloading aiofiles-23.2.1-py3-none-any.whl.metadata (9.7 kB)\n",
            "Requirement already satisfied: anyio<5.0,>=3.0 in /usr/local/lib/python3.10/dist-packages (from gradio) (3.7.1)\n",
            "Collecting fastapi<1.0,>=0.115.2 (from gradio)\n",
            "  Downloading fastapi-0.115.5-py3-none-any.whl.metadata (27 kB)\n",
            "Collecting ffmpy (from gradio)\n",
            "  Downloading ffmpy-0.4.0-py3-none-any.whl.metadata (2.9 kB)\n",
            "Collecting gradio-client==1.4.3 (from gradio)\n",
            "  Downloading gradio_client-1.4.3-py3-none-any.whl.metadata (7.1 kB)\n",
            "Requirement already satisfied: httpx>=0.24.1 in /usr/local/lib/python3.10/dist-packages (from gradio) (0.27.2)\n",
            "Requirement already satisfied: huggingface-hub>=0.25.1 in /usr/local/lib/python3.10/dist-packages (from gradio) (0.26.2)\n",
            "Requirement already satisfied: jinja2<4.0 in /usr/local/lib/python3.10/dist-packages (from gradio) (3.1.4)\n",
            "Collecting markupsafe~=2.0 (from gradio)\n",
            "  Downloading MarkupSafe-2.1.5-cp310-cp310-manylinux_2_17_x86_64.manylinux2014_x86_64.whl.metadata (3.0 kB)\n",
            "Requirement already satisfied: numpy<3.0,>=1.0 in /usr/local/lib/python3.10/dist-packages (from gradio) (1.26.4)\n",
            "Requirement already satisfied: orjson~=3.0 in /usr/local/lib/python3.10/dist-packages (from gradio) (3.10.11)\n",
            "Requirement already satisfied: packaging in /usr/local/lib/python3.10/dist-packages (from gradio) (24.2)\n",
            "Requirement already satisfied: pandas<3.0,>=1.0 in /usr/local/lib/python3.10/dist-packages (from gradio) (2.2.2)\n",
            "Requirement already satisfied: pillow<12.0,>=8.0 in /usr/local/lib/python3.10/dist-packages (from gradio) (11.0.0)\n",
            "Requirement already satisfied: pydantic>=2.0 in /usr/local/lib/python3.10/dist-packages (from gradio) (2.9.2)\n",
            "Collecting pydub (from gradio)\n",
            "  Downloading pydub-0.25.1-py2.py3-none-any.whl.metadata (1.4 kB)\n",
            "Collecting python-multipart==0.0.12 (from gradio)\n",
            "  Downloading python_multipart-0.0.12-py3-none-any.whl.metadata (1.9 kB)\n",
            "Requirement already satisfied: pyyaml<7.0,>=5.0 in /usr/local/lib/python3.10/dist-packages (from gradio) (6.0.2)\n",
            "Collecting ruff>=0.2.2 (from gradio)\n",
            "  Downloading ruff-0.7.4-py3-none-manylinux_2_17_x86_64.manylinux2014_x86_64.whl.metadata (25 kB)\n",
            "Collecting safehttpx<1.0,>=0.1.1 (from gradio)\n",
            "  Downloading safehttpx-0.1.1-py3-none-any.whl.metadata (4.1 kB)\n",
            "Collecting semantic-version~=2.0 (from gradio)\n",
            "  Downloading semantic_version-2.10.0-py2.py3-none-any.whl.metadata (9.7 kB)\n",
            "Collecting starlette<1.0,>=0.40.0 (from gradio)\n",
            "  Downloading starlette-0.41.3-py3-none-any.whl.metadata (6.0 kB)\n",
            "Collecting tomlkit==0.12.0 (from gradio)\n",
            "  Downloading tomlkit-0.12.0-py3-none-any.whl.metadata (2.7 kB)\n",
            "Requirement already satisfied: typer<1.0,>=0.12 in /usr/local/lib/python3.10/dist-packages (from gradio) (0.13.0)\n",
            "Requirement already satisfied: typing-extensions~=4.0 in /usr/local/lib/python3.10/dist-packages (from gradio) (4.12.2)\n",
            "Collecting uvicorn>=0.14.0 (from gradio)\n",
            "  Downloading uvicorn-0.32.1-py3-none-any.whl.metadata (6.6 kB)\n",
            "Requirement already satisfied: fsspec in /usr/local/lib/python3.10/dist-packages (from gradio-client==1.4.3->gradio) (2024.6.1)\n",
            "Collecting websockets<13.0,>=10.0 (from gradio-client==1.4.3->gradio)\n",
            "  Downloading websockets-12.0-cp310-cp310-manylinux_2_5_x86_64.manylinux1_x86_64.manylinux_2_17_x86_64.manylinux2014_x86_64.whl.metadata (6.6 kB)\n",
            "Requirement already satisfied: idna>=2.8 in /usr/local/lib/python3.10/dist-packages (from anyio<5.0,>=3.0->gradio) (3.10)\n",
            "Requirement already satisfied: sniffio>=1.1 in /usr/local/lib/python3.10/dist-packages (from anyio<5.0,>=3.0->gradio) (1.3.1)\n",
            "Requirement already satisfied: exceptiongroup in /usr/local/lib/python3.10/dist-packages (from anyio<5.0,>=3.0->gradio) (1.2.2)\n",
            "Requirement already satisfied: certifi in /usr/local/lib/python3.10/dist-packages (from httpx>=0.24.1->gradio) (2024.8.30)\n",
            "Requirement already satisfied: httpcore==1.* in /usr/local/lib/python3.10/dist-packages (from httpx>=0.24.1->gradio) (1.0.7)\n",
            "Requirement already satisfied: h11<0.15,>=0.13 in /usr/local/lib/python3.10/dist-packages (from httpcore==1.*->httpx>=0.24.1->gradio) (0.14.0)\n",
            "Requirement already satisfied: filelock in /usr/local/lib/python3.10/dist-packages (from huggingface-hub>=0.25.1->gradio) (3.16.1)\n",
            "Requirement already satisfied: requests in /usr/local/lib/python3.10/dist-packages (from huggingface-hub>=0.25.1->gradio) (2.32.3)\n",
            "Requirement already satisfied: tqdm>=4.42.1 in /usr/local/lib/python3.10/dist-packages (from huggingface-hub>=0.25.1->gradio) (4.66.5)\n",
            "Requirement already satisfied: python-dateutil>=2.8.2 in /usr/local/lib/python3.10/dist-packages (from pandas<3.0,>=1.0->gradio) (2.8.2)\n",
            "Requirement already satisfied: pytz>=2020.1 in /usr/local/lib/python3.10/dist-packages (from pandas<3.0,>=1.0->gradio) (2024.2)\n",
            "Requirement already satisfied: tzdata>=2022.7 in /usr/local/lib/python3.10/dist-packages (from pandas<3.0,>=1.0->gradio) (2024.2)\n",
            "Requirement already satisfied: annotated-types>=0.6.0 in /usr/local/lib/python3.10/dist-packages (from pydantic>=2.0->gradio) (0.7.0)\n",
            "Requirement already satisfied: pydantic-core==2.23.4 in /usr/local/lib/python3.10/dist-packages (from pydantic>=2.0->gradio) (2.23.4)\n",
            "Requirement already satisfied: click>=8.0.0 in /usr/local/lib/python3.10/dist-packages (from typer<1.0,>=0.12->gradio) (8.1.7)\n",
            "Requirement already satisfied: shellingham>=1.3.0 in /usr/local/lib/python3.10/dist-packages (from typer<1.0,>=0.12->gradio) (1.5.4)\n",
            "Requirement already satisfied: rich>=10.11.0 in /usr/local/lib/python3.10/dist-packages (from typer<1.0,>=0.12->gradio) (13.9.4)\n",
            "Requirement already satisfied: six>=1.5 in /usr/local/lib/python3.10/dist-packages (from python-dateutil>=2.8.2->pandas<3.0,>=1.0->gradio) (1.16.0)\n",
            "Requirement already satisfied: markdown-it-py>=2.2.0 in /usr/local/lib/python3.10/dist-packages (from rich>=10.11.0->typer<1.0,>=0.12->gradio) (3.0.0)\n",
            "Requirement already satisfied: pygments<3.0.0,>=2.13.0 in /usr/local/lib/python3.10/dist-packages (from rich>=10.11.0->typer<1.0,>=0.12->gradio) (2.18.0)\n",
            "Requirement already satisfied: charset-normalizer<4,>=2 in /usr/local/lib/python3.10/dist-packages (from requests->huggingface-hub>=0.25.1->gradio) (3.4.0)\n",
            "Requirement already satisfied: urllib3<3,>=1.21.1 in /usr/local/lib/python3.10/dist-packages (from requests->huggingface-hub>=0.25.1->gradio) (2.2.3)\n",
            "Requirement already satisfied: mdurl~=0.1 in /usr/local/lib/python3.10/dist-packages (from markdown-it-py>=2.2.0->rich>=10.11.0->typer<1.0,>=0.12->gradio) (0.1.2)\n",
            "Downloading gradio-5.6.0-py3-none-any.whl (57.1 MB)\n",
            "\u001b[2K   \u001b[90m━━━━━━━━━━━━━━━━━━━━━━━━━━━━━━━━━━━━━━━━\u001b[0m \u001b[32m57.1/57.1 MB\u001b[0m \u001b[31m13.3 MB/s\u001b[0m eta \u001b[36m0:00:00\u001b[0m\n",
            "\u001b[?25hDownloading gradio_client-1.4.3-py3-none-any.whl (320 kB)\n",
            "\u001b[2K   \u001b[90m━━━━━━━━━━━━━━━━━━━━━━━━━━━━━━━━━━━━━━━━\u001b[0m \u001b[32m320.1/320.1 kB\u001b[0m \u001b[31m27.0 MB/s\u001b[0m eta \u001b[36m0:00:00\u001b[0m\n",
            "\u001b[?25hDownloading python_multipart-0.0.12-py3-none-any.whl (23 kB)\n",
            "Downloading tomlkit-0.12.0-py3-none-any.whl (37 kB)\n",
            "Downloading aiofiles-23.2.1-py3-none-any.whl (15 kB)\n",
            "Downloading fastapi-0.115.5-py3-none-any.whl (94 kB)\n",
            "\u001b[2K   \u001b[90m━━━━━━━━━━━━━━━━━━━━━━━━━━━━━━━━━━━━━━━━\u001b[0m \u001b[32m94.9/94.9 kB\u001b[0m \u001b[31m9.0 MB/s\u001b[0m eta \u001b[36m0:00:00\u001b[0m\n",
            "\u001b[?25hDownloading MarkupSafe-2.1.5-cp310-cp310-manylinux_2_17_x86_64.manylinux2014_x86_64.whl (25 kB)\n",
            "Downloading ruff-0.7.4-py3-none-manylinux_2_17_x86_64.manylinux2014_x86_64.whl (11.1 MB)\n",
            "\u001b[2K   \u001b[90m━━━━━━━━━━━━━━━━━━━━━━━━━━━━━━━━━━━━━━━━\u001b[0m \u001b[32m11.1/11.1 MB\u001b[0m \u001b[31m110.0 MB/s\u001b[0m eta \u001b[36m0:00:00\u001b[0m\n",
            "\u001b[?25hDownloading safehttpx-0.1.1-py3-none-any.whl (8.4 kB)\n",
            "Downloading semantic_version-2.10.0-py2.py3-none-any.whl (15 kB)\n",
            "Downloading starlette-0.41.3-py3-none-any.whl (73 kB)\n",
            "\u001b[2K   \u001b[90m━━━━━━━━━━━━━━━━━━━━━━━━━━━━━━━━━━━━━━━━\u001b[0m \u001b[32m73.2/73.2 kB\u001b[0m \u001b[31m6.7 MB/s\u001b[0m eta \u001b[36m0:00:00\u001b[0m\n",
            "\u001b[?25hDownloading uvicorn-0.32.1-py3-none-any.whl (63 kB)\n",
            "\u001b[2K   \u001b[90m━━━━━━━━━━━━━━━━━━━━━━━━━━━━━━━━━━━━━━━━\u001b[0m \u001b[32m63.8/63.8 kB\u001b[0m \u001b[31m6.2 MB/s\u001b[0m eta \u001b[36m0:00:00\u001b[0m\n",
            "\u001b[?25hDownloading ffmpy-0.4.0-py3-none-any.whl (5.8 kB)\n",
            "Downloading pydub-0.25.1-py2.py3-none-any.whl (32 kB)\n",
            "Downloading websockets-12.0-cp310-cp310-manylinux_2_5_x86_64.manylinux1_x86_64.manylinux_2_17_x86_64.manylinux2014_x86_64.whl (130 kB)\n",
            "\u001b[2K   \u001b[90m━━━━━━━━━━━━━━━━━━━━━━━━━━━━━━━━━━━━━━━━\u001b[0m \u001b[32m130.2/130.2 kB\u001b[0m \u001b[31m12.5 MB/s\u001b[0m eta \u001b[36m0:00:00\u001b[0m\n",
            "\u001b[?25hInstalling collected packages: pydub, websockets, uvicorn, tomlkit, semantic-version, ruff, python-multipart, markupsafe, ffmpy, aiofiles, starlette, safehttpx, gradio-client, fastapi, gradio\n",
            "  Attempting uninstall: markupsafe\n",
            "    Found existing installation: MarkupSafe 3.0.2\n",
            "    Uninstalling MarkupSafe-3.0.2:\n",
            "      Successfully uninstalled MarkupSafe-3.0.2\n",
            "Successfully installed aiofiles-23.2.1 fastapi-0.115.5 ffmpy-0.4.0 gradio-5.6.0 gradio-client-1.4.3 markupsafe-2.1.5 pydub-0.25.1 python-multipart-0.0.12 ruff-0.7.4 safehttpx-0.1.1 semantic-version-2.10.0 starlette-0.41.3 tomlkit-0.12.0 uvicorn-0.32.1 websockets-12.0\n"
          ]
        }
      ],
      "source": [
        "!pip install git+https://github.com/kwang2049/nlp4web-codebase.git\n",
        "!git clone https://github.com/kwang2049/nlp4web-codebase.git  # You can always check the content of this simple codebase at any time\n",
        "!pip install gradio  # we also need this additionally for this homework"
      ]
    },
    {
      "cell_type": "markdown",
      "metadata": {
        "id": "hH6-uB8T4zAP"
      },
      "source": [
        "## Pre-requisite code"
      ]
    },
    {
      "cell_type": "markdown",
      "metadata": {
        "id": "M9Km4AcLVC4A"
      },
      "source": [
        "The code within this section will be used in the tasks. Please do not change these code lines."
      ]
    },
    {
      "cell_type": "markdown",
      "source": [
        "### SciQ loading and counting"
      ],
      "metadata": {
        "id": "QqG-h8d_FHES"
      }
    },
    {
      "cell_type": "code",
      "execution_count": 7,
      "metadata": {
        "id": "FqnuoZqh4yfk",
        "colab": {
          "base_uri": "https://localhost:8080/",
          "height": 432,
          "referenced_widgets": [
            "12c62701e7cd439f97f86444fb2a10ee",
            "216a4830cf26454d91a743069112d68e",
            "bd32b1c9e2404a7e92d9d698d61e3891",
            "3603141d1f324a6b99ecdddb9b322b10",
            "e0a0096f1b3442a2a9d8c14571a84e06",
            "70cd9e286d1a43ab872033abcdd1db50",
            "63beeb1f6fbc44efac3cbfb5a679dfce",
            "d9247f6729e545e6b51e6a087b62f3e1",
            "8a9cd382b34a47eea9febe9828f433af",
            "7d515782645e4b369770d5aa0a6afa93",
            "e69868fd20df4b618ac56c18ab26545e",
            "f4f1ae44cdc6412687b645ce6bb22a61",
            "68271d4643db45ae8d10e7cfeb6d1730",
            "1dbcaf128ddb485887a7cecb61a270e0",
            "dfaee57db58c425581a7a172d1023072",
            "012847b0f5304b05a25362ea4875d44e",
            "97014180478043f091a2adb9a11c9dfa",
            "2b52a8aab1f94ed49ea59883f97b514a",
            "a2417b569cb94c93af32666e38e22c0d",
            "8e28037d6f1b43a78e2d5743bd46d8f9",
            "d161e82b7c1d4ca7a6c9512fbd941bad",
            "3604d1ed261f450794535d26adef4139",
            "8ffbbd44786a4d12bea99e47ddd541a5",
            "9620e6d4190548d9bf0817e8968eef68",
            "e5da4459328f4e44b01b54aac526305b",
            "5eb57c93fefc458a9cc4e99fd731f33d",
            "a7964fbb6d2e4b308f2d7a1c7ed4820f",
            "bae9a5553f524f53ac41ebfa34ffdd0d",
            "a80238ad023f42ddbbe4627e1b4c0a4a",
            "c05c7990c91d4c708872f52c3a0abd9b",
            "49ba716bf6dd4e1f84a244347d71da81",
            "6cdf5b951b91499f8e0f43dc912a92e4",
            "65cda0988e024252830af1eabb6f494e",
            "53ec98e5854147cc941eb671316541bc",
            "eefff75a0d0940399885745a2550fc8f",
            "2094c51cbe3c48a4afc9e55b42a3c9a6",
            "882b556a420b47cfbdd93f572fb79d82",
            "ea5dce366c654861b1ab3394ffd2aed3",
            "648fa63d9bad4d37b4824555dd6f5fb3",
            "1d6d00b5d8014801964d4567c9ee43cc",
            "7b321b4a0b8c495ab88d6e3328881ebd",
            "e41a0645631e4f81b569ac87ac409fc6",
            "7088e2d2e5a54567bb2cfc4c5430fcf3",
            "fa0dc120ee9b41b794ccc55aaa7aef30",
            "d8700dccedf247d4ba8e55aadc9f1067",
            "9524df42be1c413989277843b344b256",
            "200e8200951e43f1a789eb3d1ce9438a",
            "bc3532cdc8104fb387d14dadcf39058a",
            "0d80ebfd4b8644678d6bb03228bf305d",
            "893b076bb8db405c933152e3e7c40625",
            "5bd66da9f31040b492178b55ab6ea32b",
            "87d25452a84741a7826529bee35f9c6b",
            "81c6fce6a74d43778351a4474acf952c",
            "b0cea47e5a094499b8c4cb11ee3fffd4",
            "1f695d972f154524b8c953539c87f3fc",
            "08c9855748744321bc3cb27bc8e3fa39",
            "9daadf9a39734f898494a384924da446",
            "88491ef90bd54fd694d1679a1eccfe65",
            "2639405dc99743a3b479e4e9f6a1e118",
            "84f565da9e0b485e9d218b3f4872800f",
            "760ed77fd9bd43009d7a91ddaaef39cf",
            "aa168702ed8a414ba340acaf8b823ee3",
            "9019b7ed1fa245d78b52774764a6dd77",
            "a73951dccf874b58bbcbf59ae685df28",
            "b98298fb304641e6909d710c8f258a21",
            "883fb0724f9648c4a7d195a8f664053f",
            "4f1ac6cfdc244e5989e7f153fef0aecf",
            "358a3b2a308c4aa3872935e553fbfe0d",
            "74ca68ce707241988293e511d6790a8c",
            "f79aea9e9c284d5b82eaed559ae5d665",
            "374a2d44f9b84e9199b0ef661683cb00",
            "54cd387ae53548fa893a1d72fd306a93",
            "b87efa5fbcd0445b8fd1e265f7dc7cf7",
            "177d4bf15e20408cbc5777fca6cd2eb0",
            "71f3a8633074409b92268aa6a7be4640",
            "a7bd8e9b095942d4806285800ee8d307",
            "d3f1b91b29384380b6c2b74f543b3073"
          ]
        },
        "outputId": "56f19ec6-ea2d-480a-d880-6e70ff71dd36"
      },
      "outputs": [
        {
          "output_type": "stream",
          "name": "stdout",
          "text": [
            "________________________________________________________________________________\n",
            "[Memory] Calling nlp4web_codebase.ir.data_loaders.sciq.load_sciq...\n",
            "load_sciq()\n"
          ]
        },
        {
          "output_type": "stream",
          "name": "stderr",
          "text": [
            "/usr/local/lib/python3.10/dist-packages/huggingface_hub/utils/_auth.py:94: UserWarning: \n",
            "The secret `HF_TOKEN` does not exist in your Colab secrets.\n",
            "To authenticate with the Hugging Face Hub, create a token in your settings tab (https://huggingface.co/settings/tokens), set it as secret in your Google Colab and restart your session.\n",
            "You will be able to reuse this secret in all of your notebooks.\n",
            "Please note that authentication is recommended but still optional to access public models or datasets.\n",
            "  warnings.warn(\n"
          ]
        },
        {
          "output_type": "display_data",
          "data": {
            "text/plain": [
              "README.md:   0%|          | 0.00/7.02k [00:00<?, ?B/s]"
            ],
            "application/vnd.jupyter.widget-view+json": {
              "version_major": 2,
              "version_minor": 0,
              "model_id": "12c62701e7cd439f97f86444fb2a10ee"
            }
          },
          "metadata": {}
        },
        {
          "output_type": "display_data",
          "data": {
            "text/plain": [
              "train-00000-of-00001.parquet:   0%|          | 0.00/3.99M [00:00<?, ?B/s]"
            ],
            "application/vnd.jupyter.widget-view+json": {
              "version_major": 2,
              "version_minor": 0,
              "model_id": "f4f1ae44cdc6412687b645ce6bb22a61"
            }
          },
          "metadata": {}
        },
        {
          "output_type": "display_data",
          "data": {
            "text/plain": [
              "validation-00000-of-00001.parquet:   0%|          | 0.00/339k [00:00<?, ?B/s]"
            ],
            "application/vnd.jupyter.widget-view+json": {
              "version_major": 2,
              "version_minor": 0,
              "model_id": "8ffbbd44786a4d12bea99e47ddd541a5"
            }
          },
          "metadata": {}
        },
        {
          "output_type": "display_data",
          "data": {
            "text/plain": [
              "test-00000-of-00001.parquet:   0%|          | 0.00/343k [00:00<?, ?B/s]"
            ],
            "application/vnd.jupyter.widget-view+json": {
              "version_major": 2,
              "version_minor": 0,
              "model_id": "53ec98e5854147cc941eb671316541bc"
            }
          },
          "metadata": {}
        },
        {
          "output_type": "display_data",
          "data": {
            "text/plain": [
              "Generating train split:   0%|          | 0/11679 [00:00<?, ? examples/s]"
            ],
            "application/vnd.jupyter.widget-view+json": {
              "version_major": 2,
              "version_minor": 0,
              "model_id": "d8700dccedf247d4ba8e55aadc9f1067"
            }
          },
          "metadata": {}
        },
        {
          "output_type": "display_data",
          "data": {
            "text/plain": [
              "Generating validation split:   0%|          | 0/1000 [00:00<?, ? examples/s]"
            ],
            "application/vnd.jupyter.widget-view+json": {
              "version_major": 2,
              "version_minor": 0,
              "model_id": "08c9855748744321bc3cb27bc8e3fa39"
            }
          },
          "metadata": {}
        },
        {
          "output_type": "display_data",
          "data": {
            "text/plain": [
              "Generating test split:   0%|          | 0/1000 [00:00<?, ? examples/s]"
            ],
            "application/vnd.jupyter.widget-view+json": {
              "version_major": 2,
              "version_minor": 0,
              "model_id": "4f1ac6cfdc244e5989e7f153fef0aecf"
            }
          },
          "metadata": {}
        },
        {
          "output_type": "stream",
          "name": "stdout",
          "text": [
            "________________________________________________________load_sciq - 5.2s, 0.1min\n"
          ]
        },
        {
          "output_type": "stream",
          "name": "stderr",
          "text": [
            "Counting: 100%|██████████| 12160/12160 [00:01<00:00, 7241.90it/s]\n"
          ]
        }
      ],
      "source": [
        "from dataclasses import dataclass\n",
        "import pickle\n",
        "import os\n",
        "from typing import Iterable, Callable, List, Dict, Optional, Type, TypeVar\n",
        "from nlp4web_codebase.ir.data_loaders.dm import Document\n",
        "from collections import Counter\n",
        "import tqdm\n",
        "import re\n",
        "import nltk\n",
        "nltk.download(\"stopwords\", quiet=True)\n",
        "from nltk.corpus import stopwords as nltk_stopwords\n",
        "\n",
        "LANGUAGE = \"english\"\n",
        "word_splitter = re.compile(r\"(?u)\\b\\w\\w+\\b\").findall\n",
        "stopwords = set(nltk_stopwords.words(LANGUAGE))\n",
        "\n",
        "\n",
        "def word_splitting(text: str) -> List[str]:\n",
        "    return word_splitter(text.lower())\n",
        "\n",
        "def lemmatization(words: List[str]) -> List[str]:\n",
        "    return words  # We ignore lemmatization here for simplicity\n",
        "\n",
        "def simple_tokenize(text: str) -> List[str]:\n",
        "    words = word_splitting(text)\n",
        "    tokenized = list(filter(lambda w: w not in stopwords, words))\n",
        "    tokenized = lemmatization(tokenized)\n",
        "    return tokenized\n",
        "\n",
        "T = TypeVar(\"T\", bound=\"InvertedIndex\")\n",
        "\n",
        "@dataclass\n",
        "class PostingList:\n",
        "    term: str  # The term\n",
        "    docid_postings: List[int]  # docid_postings[i] means the docid (int) of the i-th associated posting\n",
        "    tweight_postings: List[float]  # tweight_postings[i] means the term weight (float) of the i-th associated posting\n",
        "\n",
        "\n",
        "@dataclass\n",
        "class InvertedIndex:\n",
        "    posting_lists: List[PostingList]  # docid -> posting_list\n",
        "    vocab: Dict[str, int]\n",
        "    cid2docid: Dict[str, int]  # collection_id -> docid\n",
        "    collection_ids: List[str]  # docid -> collection_id\n",
        "    doc_texts: Optional[List[str]] = None  # docid -> document text\n",
        "\n",
        "    def save(self, output_dir: str) -> None:\n",
        "        os.makedirs(output_dir, exist_ok=True)\n",
        "        with open(os.path.join(output_dir, \"index.pkl\"), \"wb\") as f:\n",
        "            pickle.dump(self, f)\n",
        "\n",
        "    @classmethod\n",
        "    def from_saved(cls: Type[T], saved_dir: str) -> T:\n",
        "        index = cls(\n",
        "            posting_lists=[], vocab={}, cid2docid={}, collection_ids=[], doc_texts=None\n",
        "        )\n",
        "        with open(os.path.join(saved_dir, \"index.pkl\"), \"rb\") as f:\n",
        "            index = pickle.load(f)\n",
        "        return index\n",
        "\n",
        "\n",
        "# The output of the counting function:\n",
        "@dataclass\n",
        "class Counting:\n",
        "    posting_lists: List[PostingList]\n",
        "    vocab: Dict[str, int]\n",
        "    cid2docid: Dict[str, int]\n",
        "    collection_ids: List[str]\n",
        "    dfs: List[int]  # tid -> df\n",
        "    dls: List[int]  # docid -> doc length\n",
        "    avgdl: float\n",
        "    nterms: int\n",
        "    doc_texts: Optional[List[str]] = None\n",
        "\n",
        "def run_counting(\n",
        "    documents: Iterable[Document],\n",
        "    tokenize_fn: Callable[[str], List[str]] = simple_tokenize,\n",
        "    store_raw: bool = True,  # store the document text in doc_texts\n",
        "    ndocs: Optional[int] = None,\n",
        "    show_progress_bar: bool = True,\n",
        ") -> Counting:\n",
        "    \"\"\"Counting TFs, DFs, doc_lengths, etc.\"\"\"\n",
        "    posting_lists: List[PostingList] = []\n",
        "    vocab: Dict[str, int] = {}\n",
        "    cid2docid: Dict[str, int] = {}\n",
        "    collection_ids: List[str] = []\n",
        "    dfs: List[int] = []  # tid -> df\n",
        "    dls: List[int] = []  # docid -> doc length\n",
        "    nterms: int = 0\n",
        "    doc_texts: Optional[List[str]] = []\n",
        "    for doc in tqdm.tqdm(\n",
        "        documents,\n",
        "        desc=\"Counting\",\n",
        "        total=ndocs,\n",
        "        disable=not show_progress_bar,\n",
        "    ):\n",
        "        if doc.collection_id in cid2docid:\n",
        "            continue\n",
        "        collection_ids.append(doc.collection_id)\n",
        "        docid = cid2docid.setdefault(doc.collection_id, len(cid2docid))\n",
        "        toks = tokenize_fn(doc.text)\n",
        "        tok2tf = Counter(toks)\n",
        "        dls.append(sum(tok2tf.values()))\n",
        "        for tok, tf in tok2tf.items():\n",
        "            nterms += tf\n",
        "            tid = vocab.get(tok, None)\n",
        "            if tid is None:\n",
        "                posting_lists.append(\n",
        "                    PostingList(term=tok, docid_postings=[], tweight_postings=[])\n",
        "                )\n",
        "                tid = vocab.setdefault(tok, len(vocab))\n",
        "            posting_lists[tid].docid_postings.append(docid)\n",
        "            posting_lists[tid].tweight_postings.append(tf)\n",
        "            if tid < len(dfs):\n",
        "                dfs[tid] += 1\n",
        "            else:\n",
        "                dfs.append(0)\n",
        "        if store_raw:\n",
        "            doc_texts.append(doc.text)\n",
        "        else:\n",
        "            doc_texts = None\n",
        "    return Counting(\n",
        "        posting_lists=posting_lists,\n",
        "        vocab=vocab,\n",
        "        cid2docid=cid2docid,\n",
        "        collection_ids=collection_ids,\n",
        "        dfs=dfs,\n",
        "        dls=dls,\n",
        "        avgdl=sum(dls) / len(dls),\n",
        "        nterms=nterms,\n",
        "        doc_texts=doc_texts,\n",
        "    )\n",
        "\n",
        "from nlp4web_codebase.ir.data_loaders.sciq import load_sciq\n",
        "sciq = load_sciq()\n",
        "counting = run_counting(documents=iter(sciq.corpus), ndocs=len(sciq.corpus))"
      ]
    },
    {
      "cell_type": "markdown",
      "source": [
        "### BM25 Index"
      ],
      "metadata": {
        "id": "YHhmfpt8FI9X"
      }
    },
    {
      "cell_type": "code",
      "execution_count": 8,
      "metadata": {
        "id": "cSMCdmPi5vnF",
        "colab": {
          "base_uri": "https://localhost:8080/"
        },
        "outputId": "060a24d8-aa70-4c1d-83fd-6cc38a5437d8"
      },
      "outputs": [
        {
          "output_type": "stream",
          "name": "stderr",
          "text": [
            "Counting: 100%|██████████| 12160/12160 [00:01<00:00, 9222.52it/s] \n",
            "Regularizing TFs: 100%|██████████| 22683/22683 [00:00<00:00, 70614.12it/s]\n"
          ]
        },
        {
          "output_type": "stream",
          "name": "stdout",
          "text": [
            "nlp4web-codebase  output  sample_data\n"
          ]
        }
      ],
      "source": [
        "from __future__ import annotations\n",
        "from dataclasses import asdict, dataclass\n",
        "import math\n",
        "import os\n",
        "from typing import Iterable, List, Optional, Type\n",
        "import tqdm\n",
        "from nlp4web_codebase.ir.data_loaders.dm import Document\n",
        "\n",
        "\n",
        "@dataclass\n",
        "class BM25Index(InvertedIndex):\n",
        "\n",
        "    @staticmethod\n",
        "    def tokenize(text: str) -> List[str]:\n",
        "        return simple_tokenize(text)\n",
        "\n",
        "    @staticmethod\n",
        "    def cache_term_weights(\n",
        "        posting_lists: List[PostingList],\n",
        "        total_docs: int,\n",
        "        avgdl: float,\n",
        "        dfs: List[int],\n",
        "        dls: List[int],\n",
        "        k1: float,\n",
        "        b: float,\n",
        "    ) -> None:\n",
        "        \"\"\"Compute term weights and caching\"\"\"\n",
        "\n",
        "        N = total_docs\n",
        "        for tid, posting_list in enumerate(\n",
        "            tqdm.tqdm(posting_lists, desc=\"Regularizing TFs\")\n",
        "        ):\n",
        "            idf = BM25Index.calc_idf(df=dfs[tid], N=N)\n",
        "            for i in range(len(posting_list.docid_postings)):\n",
        "                docid = posting_list.docid_postings[i]\n",
        "                tf = posting_list.tweight_postings[i]\n",
        "                dl = dls[docid]\n",
        "                regularized_tf = BM25Index.calc_regularized_tf(\n",
        "                    tf=tf, dl=dl, avgdl=avgdl, k1=k1, b=b\n",
        "                )\n",
        "                posting_list.tweight_postings[i] = regularized_tf * idf\n",
        "\n",
        "    @staticmethod\n",
        "    def calc_regularized_tf(\n",
        "        tf: int, dl: float, avgdl: float, k1: float, b: float\n",
        "    ) -> float:\n",
        "        return tf / (tf + k1 * (1 - b + b * dl / avgdl))\n",
        "\n",
        "    @staticmethod\n",
        "    def calc_idf(df: int, N: int):\n",
        "        return math.log(1 + (N - df + 0.5) / (df + 0.5))\n",
        "\n",
        "    @classmethod\n",
        "    def build_from_documents(\n",
        "        cls: Type[BM25Index],\n",
        "        documents: Iterable[Document],\n",
        "        store_raw: bool = True,\n",
        "        output_dir: Optional[str] = None,\n",
        "        ndocs: Optional[int] = None,\n",
        "        show_progress_bar: bool = True,\n",
        "        k1: float = 0.9,\n",
        "        b: float = 0.4,\n",
        "    ) -> BM25Index:\n",
        "        # Counting TFs, DFs, doc_lengths, etc.:\n",
        "        counting = run_counting(\n",
        "            documents=documents,\n",
        "            tokenize_fn=BM25Index.tokenize,\n",
        "            store_raw=store_raw,\n",
        "            ndocs=ndocs,\n",
        "            show_progress_bar=show_progress_bar,\n",
        "        )\n",
        "\n",
        "        # Compute term weights and caching:\n",
        "        posting_lists = counting.posting_lists\n",
        "        total_docs = len(counting.cid2docid)\n",
        "        BM25Index.cache_term_weights(\n",
        "            posting_lists=posting_lists,\n",
        "            total_docs=total_docs,\n",
        "            avgdl=counting.avgdl,\n",
        "            dfs=counting.dfs,\n",
        "            dls=counting.dls,\n",
        "            k1=k1,\n",
        "            b=b,\n",
        "        )\n",
        "\n",
        "        # Assembly and save:\n",
        "        index = BM25Index(\n",
        "            posting_lists=posting_lists,\n",
        "            vocab=counting.vocab,\n",
        "            cid2docid=counting.cid2docid,\n",
        "            collection_ids=counting.collection_ids,\n",
        "            doc_texts=counting.doc_texts,\n",
        "        )\n",
        "        return index\n",
        "\n",
        "bm25_index = BM25Index.build_from_documents(\n",
        "    documents=iter(sciq.corpus),\n",
        "    ndocs=12160,\n",
        "    show_progress_bar=True,\n",
        ")\n",
        "bm25_index.save(\"output/bm25_index\")\n",
        "!ls"
      ]
    },
    {
      "cell_type": "markdown",
      "source": [
        "### BM25 Retriever"
      ],
      "metadata": {
        "id": "hrE6FantFNiV"
      }
    },
    {
      "cell_type": "code",
      "execution_count": 9,
      "metadata": {
        "id": "y7JfKdE_534_",
        "colab": {
          "base_uri": "https://localhost:8080/"
        },
        "outputId": "40035a61-8506-4343-f824-a8e64ab7cb44"
      },
      "outputs": [
        {
          "output_type": "execute_result",
          "data": {
            "text/plain": [
              "{'train-3853': 18.39371996097932,\n",
              " 'test-362': 18.002600808728054,\n",
              " 'train-1691': 14.98319943729318,\n",
              " 'train-5648': 14.225622632392252,\n",
              " 'train-7688': 14.141510761865732,\n",
              " 'train-10422': 13.788370394753311,\n",
              " 'train-7781': 13.678582437573862,\n",
              " 'train-6098': 13.616357245339572,\n",
              " 'train-10113': 11.547290474329134,\n",
              " 'train-11549': 11.53109468073725}"
            ]
          },
          "metadata": {},
          "execution_count": 9
        }
      ],
      "source": [
        "from nlp4web_codebase.ir.models import BaseRetriever\n",
        "from typing import Type\n",
        "from abc import abstractmethod\n",
        "\n",
        "\n",
        "class BaseInvertedIndexRetriever(BaseRetriever):\n",
        "\n",
        "    @property\n",
        "    @abstractmethod\n",
        "    def index_class(self) -> Type[InvertedIndex]:\n",
        "        pass\n",
        "\n",
        "    def __init__(self, index_dir: str) -> None:\n",
        "        self.index = self.index_class.from_saved(index_dir)\n",
        "\n",
        "    def get_term_weights(self, query: str, cid: str) -> Dict[str, float]:\n",
        "        toks = self.index.tokenize(query)\n",
        "        target_docid = self.index.cid2docid[cid]\n",
        "        term_weights = {}\n",
        "        for tok in toks:\n",
        "            if tok not in self.index.vocab:\n",
        "                continue\n",
        "            tid = self.index.vocab[tok]\n",
        "            posting_list = self.index.posting_lists[tid]\n",
        "            for docid, tweight in zip(\n",
        "                posting_list.docid_postings, posting_list.tweight_postings\n",
        "            ):\n",
        "                if docid == target_docid:\n",
        "                    term_weights[tok] = tweight\n",
        "                    break\n",
        "        return term_weights\n",
        "\n",
        "    def score(self, query: str, cid: str) -> float:\n",
        "        return sum(self.get_term_weights(query=query, cid=cid).values())\n",
        "\n",
        "    def retrieve(self, query: str, topk: int = 10) -> Dict[str, float]:\n",
        "        toks = self.index.tokenize(query)\n",
        "        docid2score: Dict[int, float] = {}\n",
        "        for tok in toks:\n",
        "            if tok not in self.index.vocab:\n",
        "                continue\n",
        "            tid = self.index.vocab[tok]\n",
        "            posting_list = self.index.posting_lists[tid]\n",
        "            for docid, tweight in zip(\n",
        "                posting_list.docid_postings, posting_list.tweight_postings\n",
        "            ):\n",
        "                docid2score.setdefault(docid, 0)\n",
        "                docid2score[docid] += tweight\n",
        "        docid2score = dict(\n",
        "            sorted(docid2score.items(), key=lambda pair: pair[1], reverse=True)[:topk]\n",
        "        )\n",
        "        return {\n",
        "            self.index.collection_ids[docid]: score\n",
        "            for docid, score in docid2score.items()\n",
        "        }\n",
        "\n",
        "\n",
        "class BM25Retriever(BaseInvertedIndexRetriever):\n",
        "\n",
        "    @property\n",
        "    def index_class(self) -> Type[BM25Index]:\n",
        "        return BM25Index\n",
        "\n",
        "bm25_retriever = BM25Retriever(index_dir=\"output/bm25_index\")\n",
        "bm25_retriever.retrieve(\"What type of diseases occur when the immune system attacks normal body cells?\")"
      ]
    },
    {
      "cell_type": "markdown",
      "metadata": {
        "id": "4dq5_op63f9K"
      },
      "source": [
        "# TASK1: tune b and k1 (4 points)"
      ]
    },
    {
      "cell_type": "markdown",
      "metadata": {
        "id": "SlBx1Wpu3nOV"
      },
      "source": [
        "Tune b and k1 on the **dev** split of SciQ using the metric MAP@10. The evaluation function (`evalaute_map`) is provided. Record the values in `plots_k1` and `plots_b`. Do it in a greedy manner: as the influence from b is larger, please first tune b (with k1 fixed to the default value 0.9) and use the best value of b to further tune k1.\n",
        "\n",
        "$${\\displaystyle {\\text{score}}(D,Q)=\\sum _{i=1}^{n}{\\text{IDF}}(q_{i})\\cdot {\\frac {f(q_{i},D)\\cdot (k_{1}+1)}{f(q_{i},D)+k_{1}\\cdot \\left(1-b+b\\cdot {\\frac {|D|}{\\text{avgdl}}}\\right)}}}$$"
      ]
    },
    {
      "cell_type": "code",
      "execution_count": 10,
      "metadata": {
        "id": "1-HXUcE1yFJj"
      },
      "outputs": [],
      "source": [
        "from nlp4web_codebase.ir.data_loaders import Split\n",
        "import pytrec_eval\n",
        "\n",
        "\n",
        "def evaluate_map(rankings: Dict[str, Dict[str, float]], split=Split.dev) -> float:\n",
        "  metric = \"map_cut_10\"\n",
        "  qrels = sciq.get_qrels_dict(split)\n",
        "  evaluator = pytrec_eval.RelevanceEvaluator(sciq.get_qrels_dict(split), (metric,))\n",
        "  qps = evaluator.evaluate(rankings)\n",
        "  return float(np.mean([qp[metric] for qp in qps.values()]))"
      ]
    },
    {
      "cell_type": "markdown",
      "source": [
        "Example of using the pre-requisite code:"
      ],
      "metadata": {
        "id": "1kHPA7HaFXgF"
      }
    },
    {
      "cell_type": "code",
      "source": [
        "# Loading dataset:\n",
        "from nlp4web_codebase.ir.data_loaders.sciq import load_sciq\n",
        "sciq = load_sciq()\n",
        "counting = run_counting(documents=iter(sciq.corpus), ndocs=len(sciq.corpus))\n",
        "\n",
        "# Building BM25 index and save:\n",
        "bm25_index = BM25Index.build_from_documents(\n",
        "    documents=iter(sciq.corpus),\n",
        "    ndocs=12160,\n",
        "    show_progress_bar=True\n",
        ")\n",
        "bm25_index.save(\"output/bm25_index\")\n",
        "\n",
        "# Loading index and use BM25 retriever to retrieve:\n",
        "bm25_retriever = BM25Retriever(index_dir=\"output/bm25_index\")\n",
        "print(bm25_retriever.retrieve(\"What type of diseases occur when the immune system attacks normal body cells?\"))  # the ranking"
      ],
      "metadata": {
        "id": "cl4S9a05FYDd",
        "colab": {
          "base_uri": "https://localhost:8080/"
        },
        "outputId": "f71253ab-e0ea-481c-acac-91d7a0ba8aad"
      },
      "execution_count": 11,
      "outputs": [
        {
          "output_type": "stream",
          "name": "stderr",
          "text": [
            "Counting: 100%|██████████| 12160/12160 [00:01<00:00, 8441.27it/s]\n",
            "Counting: 100%|██████████| 12160/12160 [00:01<00:00, 8202.32it/s]\n",
            "Regularizing TFs: 100%|██████████| 22683/22683 [00:00<00:00, 40020.41it/s]\n"
          ]
        },
        {
          "output_type": "stream",
          "name": "stdout",
          "text": [
            "{'train-3853': 18.39371996097932, 'test-362': 18.002600808728054, 'train-1691': 14.98319943729318, 'train-5648': 14.225622632392252, 'train-7688': 14.141510761865732, 'train-10422': 13.788370394753311, 'train-7781': 13.678582437573862, 'train-6098': 13.616357245339572, 'train-10113': 11.547290474329134, 'train-11549': 11.53109468073725}\n"
          ]
        }
      ]
    },
    {
      "cell_type": "code",
      "execution_count": 12,
      "metadata": {
        "collapsed": true,
        "id": "27YWWM3i4m2b",
        "colab": {
          "base_uri": "https://localhost:8080/"
        },
        "outputId": "efd5d151-729e-45c3-9c76-caef9431e3a3"
      },
      "outputs": [
        {
          "output_type": "stream",
          "name": "stderr",
          "text": [
            "Tuning b:   0%|          | 0/11 [00:00<?, ?it/s]\n",
            "Regularizing TFs:   0%|          | 0/22683 [00:00<?, ?it/s]\u001b[A\n",
            "Regularizing TFs:   1%|          | 204/22683 [00:00<00:11, 1941.72it/s]\u001b[A\n",
            "Regularizing TFs:   2%|▏         | 399/22683 [00:00<00:12, 1828.40it/s]\u001b[A\n",
            "Regularizing TFs:   3%|▎         | 615/22683 [00:00<00:11, 1959.83it/s]\u001b[A\n",
            "Regularizing TFs:   4%|▍         | 863/22683 [00:00<00:10, 2158.50it/s]\u001b[A\n",
            "Regularizing TFs:   8%|▊         | 1717/22683 [00:00<00:04, 4411.66it/s]\u001b[A\n",
            "Regularizing TFs:  16%|█▋        | 3694/22683 [00:00<00:01, 9560.35it/s]\u001b[A\n",
            "Regularizing TFs: 100%|██████████| 22683/22683 [00:00<00:00, 28818.09it/s]\n",
            "Tuning b:   9%|▉         | 1/11 [00:06<01:07,  6.75s/it]"
          ]
        },
        {
          "output_type": "stream",
          "name": "stdout",
          "text": [
            "b=0.0: MAP@10=0.7070653061224489\n"
          ]
        },
        {
          "output_type": "stream",
          "name": "stderr",
          "text": [
            "\n",
            "Regularizing TFs:   0%|          | 0/22683 [00:00<?, ?it/s]\u001b[A\n",
            "Regularizing TFs:   2%|▏         | 519/22683 [00:00<00:04, 5186.15it/s]\u001b[A\n",
            "Regularizing TFs:   6%|▌         | 1285/22683 [00:00<00:03, 6639.42it/s]\u001b[A\n",
            "Regularizing TFs:  12%|█▏        | 2696/22683 [00:00<00:01, 10048.18it/s]\u001b[A\n",
            "Regularizing TFs:  31%|███       | 7071/22683 [00:00<00:00, 23347.83it/s]\u001b[A\n",
            "Regularizing TFs: 100%|██████████| 22683/22683 [00:00<00:00, 44028.12it/s]\n",
            "Tuning b:  18%|█▊        | 2/11 [00:11<00:52,  5.78s/it]"
          ]
        },
        {
          "output_type": "stream",
          "name": "stdout",
          "text": [
            "b=0.1: MAP@10=0.7512916099773244\n"
          ]
        },
        {
          "output_type": "stream",
          "name": "stderr",
          "text": [
            "\n",
            "Regularizing TFs:   0%|          | 0/22683 [00:00<?, ?it/s]\u001b[A\n",
            "Regularizing TFs:   1%|          | 219/22683 [00:00<00:10, 2153.06it/s]\u001b[A\n",
            "Regularizing TFs:   2%|▏         | 524/22683 [00:00<00:08, 2670.54it/s]\u001b[A\n",
            "Regularizing TFs:   4%|▎         | 835/22683 [00:00<00:07, 2869.17it/s]\u001b[A\n",
            "Regularizing TFs:   8%|▊         | 1862/22683 [00:00<00:03, 5779.37it/s]\u001b[A\n",
            "Regularizing TFs:  18%|█▊        | 4026/22683 [00:00<00:01, 11485.14it/s]\u001b[A\n",
            "Regularizing TFs: 100%|██████████| 22683/22683 [00:00<00:00, 34932.00it/s]\n",
            "Tuning b:  27%|██▋       | 3/11 [00:18<00:47,  5.98s/it]"
          ]
        },
        {
          "output_type": "stream",
          "name": "stdout",
          "text": [
            "b=0.2: MAP@10=0.7732204081632653\n"
          ]
        },
        {
          "output_type": "stream",
          "name": "stderr",
          "text": [
            "\n",
            "Regularizing TFs:   0%|          | 0/22683 [00:00<?, ?it/s]\u001b[A\n",
            "Regularizing TFs:   2%|▏         | 478/22683 [00:00<00:04, 4774.15it/s]\u001b[A\n",
            "Regularizing TFs:   5%|▌         | 1166/22683 [00:00<00:03, 6005.46it/s]\u001b[A\n",
            "Regularizing TFs:  10%|█         | 2370/22683 [00:00<00:02, 8754.36it/s]\u001b[A\n",
            "Regularizing TFs:  26%|██▌       | 5789/22683 [00:00<00:00, 18784.83it/s]\u001b[A\n",
            "Regularizing TFs: 100%|██████████| 22683/22683 [00:00<00:00, 44029.42it/s]\n",
            "Tuning b:  36%|███▋      | 4/11 [00:22<00:38,  5.52s/it]"
          ]
        },
        {
          "output_type": "stream",
          "name": "stdout",
          "text": [
            "b=0.30000000000000004: MAP@10=0.7862639455782313\n"
          ]
        },
        {
          "output_type": "stream",
          "name": "stderr",
          "text": [
            "\n",
            "Regularizing TFs:   0%|          | 0/22683 [00:00<?, ?it/s]\u001b[A\n",
            "Regularizing TFs:   2%|▏         | 369/22683 [00:00<00:06, 3653.57it/s]\u001b[A\n",
            "Regularizing TFs:   3%|▎         | 735/22683 [00:00<00:06, 3606.59it/s]\u001b[A\n",
            "Regularizing TFs:   5%|▌         | 1160/22683 [00:00<00:05, 3894.62it/s]\u001b[A\n",
            "Regularizing TFs:   8%|▊         | 1727/22683 [00:00<00:04, 4590.77it/s]\u001b[A\n",
            "Regularizing TFs:  11%|█         | 2504/22683 [00:00<00:03, 5728.50it/s]\u001b[A\n",
            "Regularizing TFs:  18%|█▊        | 4010/22683 [00:00<00:02, 8888.91it/s]\u001b[A\n",
            "Regularizing TFs:  30%|███       | 6883/22683 [00:00<00:01, 15324.98it/s]\u001b[A\n",
            "Regularizing TFs: 100%|██████████| 22683/22683 [00:00<00:00, 26220.50it/s]\n",
            "Tuning b:  45%|████▌     | 5/11 [00:29<00:34,  5.76s/it]"
          ]
        },
        {
          "output_type": "stream",
          "name": "stdout",
          "text": [
            "b=0.4: MAP@10=0.8018367346938776\n"
          ]
        },
        {
          "output_type": "stream",
          "name": "stderr",
          "text": [
            "\n",
            "Regularizing TFs:   0%|          | 0/22683 [00:00<?, ?it/s]\u001b[A\n",
            "Regularizing TFs:   2%|▏         | 414/22683 [00:00<00:05, 4139.04it/s]\u001b[A\n",
            "Regularizing TFs:   5%|▌         | 1148/22683 [00:00<00:03, 6020.63it/s]\u001b[A\n",
            "Regularizing TFs:  10%|█         | 2348/22683 [00:00<00:02, 8749.18it/s]\u001b[A\n",
            "Regularizing TFs:  25%|██▌       | 5684/22683 [00:00<00:00, 18462.59it/s]\u001b[A\n",
            "Regularizing TFs: 100%|██████████| 22683/22683 [00:00<00:00, 43670.89it/s]\n",
            "Tuning b:  55%|█████▍    | 6/11 [00:34<00:27,  5.54s/it]"
          ]
        },
        {
          "output_type": "stream",
          "name": "stdout",
          "text": [
            "b=0.5: MAP@10=0.8078639455782312\n"
          ]
        },
        {
          "output_type": "stream",
          "name": "stderr",
          "text": [
            "\n",
            "Regularizing TFs:   0%|          | 0/22683 [00:00<?, ?it/s]\u001b[A\n",
            "Regularizing TFs:   2%|▏         | 509/22683 [00:00<00:04, 5031.86it/s]\u001b[A\n",
            "Regularizing TFs:   6%|▌         | 1284/22683 [00:00<00:03, 6622.72it/s]\u001b[A\n",
            "Regularizing TFs:  11%|█         | 2504/22683 [00:00<00:02, 9154.91it/s]\u001b[A\n",
            "Regularizing TFs:  24%|██▍       | 5410/22683 [00:00<00:01, 16995.42it/s]\u001b[A\n",
            "Regularizing TFs: 100%|██████████| 22683/22683 [00:00<00:00, 43552.64it/s]\n",
            "Tuning b:  64%|██████▎   | 7/11 [00:40<00:22,  5.64s/it]"
          ]
        },
        {
          "output_type": "stream",
          "name": "stdout",
          "text": [
            "b=0.6000000000000001: MAP@10=0.8135637188208616\n"
          ]
        },
        {
          "output_type": "stream",
          "name": "stderr",
          "text": [
            "\n",
            "Regularizing TFs:   0%|          | 0/22683 [00:00<?, ?it/s]\u001b[A\n",
            "Regularizing TFs:   2%|▏         | 527/22683 [00:00<00:04, 5263.84it/s]\u001b[A\n",
            "Regularizing TFs:   6%|▌         | 1261/22683 [00:00<00:03, 6477.44it/s]\u001b[A\n",
            "Regularizing TFs:  11%|█         | 2542/22683 [00:00<00:02, 9365.97it/s]\u001b[A\n",
            "Regularizing TFs:  28%|██▊       | 6345/22683 [00:00<00:00, 20674.84it/s]\u001b[A\n",
            "Regularizing TFs: 100%|██████████| 22683/22683 [00:00<00:00, 43728.56it/s]\n",
            "Tuning b:  73%|███████▎  | 8/11 [00:45<00:16,  5.49s/it]"
          ]
        },
        {
          "output_type": "stream",
          "name": "stdout",
          "text": [
            "b=0.7000000000000001: MAP@10=0.8121732426303855\n"
          ]
        },
        {
          "output_type": "stream",
          "name": "stderr",
          "text": [
            "\n",
            "Regularizing TFs:   0%|          | 0/22683 [00:00<?, ?it/s]\u001b[A\n",
            "Regularizing TFs:   2%|▏         | 502/22683 [00:00<00:04, 5018.01it/s]\u001b[A\n",
            "Regularizing TFs:   5%|▌         | 1205/22683 [00:00<00:03, 6190.47it/s]\u001b[A\n",
            "Regularizing TFs:  11%|█         | 2520/22683 [00:00<00:02, 9357.24it/s]\u001b[A\n",
            "Regularizing TFs: 100%|██████████| 22683/22683 [00:00<00:00, 45473.75it/s]\n",
            "Tuning b:  82%|████████▏ | 9/11 [00:49<00:10,  5.27s/it]"
          ]
        },
        {
          "output_type": "stream",
          "name": "stdout",
          "text": [
            "b=0.8: MAP@10=0.813178231292517\n"
          ]
        },
        {
          "output_type": "stream",
          "name": "stderr",
          "text": [
            "\n",
            "Regularizing TFs:   0%|          | 0/22683 [00:00<?, ?it/s]\u001b[A\n",
            "Regularizing TFs:   1%|          | 219/22683 [00:00<00:10, 2136.98it/s]\u001b[A\n",
            "Regularizing TFs:   2%|▏         | 513/22683 [00:00<00:08, 2604.36it/s]\u001b[A\n",
            "Regularizing TFs:   3%|▎         | 780/22683 [00:00<00:08, 2630.76it/s]\u001b[A\n",
            "Regularizing TFs:   5%|▌         | 1217/22683 [00:00<00:06, 3314.20it/s]\u001b[A\n",
            "Regularizing TFs:   8%|▊         | 1743/22683 [00:00<00:05, 4013.71it/s]\u001b[A\n",
            "Regularizing TFs:  11%|█         | 2504/22683 [00:00<00:03, 5233.65it/s]\u001b[A\n",
            "Regularizing TFs:  16%|█▋        | 3729/22683 [00:00<00:02, 7522.30it/s]\u001b[A\n",
            "Regularizing TFs:  29%|██▊       | 6472/22683 [00:00<00:01, 13852.49it/s]\u001b[A\n",
            "Regularizing TFs:  51%|█████▏    | 11648/22683 [00:00<00:00, 25690.73it/s]\u001b[A\n",
            "Regularizing TFs: 100%|██████████| 22683/22683 [00:01<00:00, 22023.74it/s]\n",
            "Tuning b:  91%|█████████ | 10/11 [00:55<00:05,  5.49s/it]"
          ]
        },
        {
          "output_type": "stream",
          "name": "stdout",
          "text": [
            "b=0.9: MAP@10=0.8116893424036281\n"
          ]
        },
        {
          "output_type": "stream",
          "name": "stderr",
          "text": [
            "\n",
            "Regularizing TFs:   0%|          | 0/22683 [00:00<?, ?it/s]\u001b[A\n",
            "Regularizing TFs:   2%|▏         | 520/22683 [00:00<00:04, 5195.35it/s]\u001b[A\n",
            "Regularizing TFs:   5%|▍         | 1105/22683 [00:00<00:03, 5575.72it/s]\u001b[A\n",
            "Regularizing TFs:  10%|█         | 2269/22683 [00:00<00:02, 8339.08it/s]\u001b[A\n",
            "Regularizing TFs:  24%|██▍       | 5418/22683 [00:00<00:00, 17466.59it/s]\u001b[A\n",
            "Regularizing TFs: 100%|██████████| 22683/22683 [00:00<00:00, 43193.76it/s]\n",
            "Tuning b: 100%|██████████| 11/11 [01:01<00:00,  5.55s/it]\n"
          ]
        },
        {
          "output_type": "stream",
          "name": "stdout",
          "text": [
            "b=1.0: MAP@10=0.8080462585034013\n",
            "Best b: 0.6000000000000001 with MAP@10: 0.8135637188208616\n"
          ]
        },
        {
          "output_type": "stream",
          "name": "stderr",
          "text": [
            "Tuning k1:   0%|          | 0/16 [00:00<?, ?it/s]\n",
            "Regularizing TFs:   0%|          | 0/22683 [00:00<?, ?it/s]\u001b[A\n",
            "Regularizing TFs:   2%|▏         | 438/22683 [00:00<00:05, 4371.09it/s]\u001b[A\n",
            "Regularizing TFs:   5%|▌         | 1192/22683 [00:00<00:03, 6228.91it/s]\u001b[A\n",
            "Regularizing TFs:  11%|█         | 2492/22683 [00:00<00:02, 9316.69it/s]\u001b[A\n",
            "Regularizing TFs:  28%|██▊       | 6360/22683 [00:00<00:00, 20899.70it/s]\u001b[A\n",
            "Regularizing TFs: 100%|██████████| 22683/22683 [00:00<00:00, 43647.49it/s]\n",
            "Tuning k1:   6%|▋         | 1/16 [00:06<01:30,  6.02s/it]"
          ]
        },
        {
          "output_type": "stream",
          "name": "stdout",
          "text": [
            "k1=0.5: MAP@10=0.8119233560090704\n"
          ]
        },
        {
          "output_type": "stream",
          "name": "stderr",
          "text": [
            "\n",
            "Regularizing TFs:   0%|          | 0/22683 [00:00<?, ?it/s]\u001b[A\n",
            "Regularizing TFs:   2%|▏         | 528/22683 [00:00<00:04, 5276.76it/s]\u001b[A\n",
            "Regularizing TFs:   6%|▌         | 1290/22683 [00:00<00:03, 6653.50it/s]\u001b[A\n",
            "Regularizing TFs:  11%|█         | 2550/22683 [00:00<00:02, 9367.05it/s]\u001b[A\n",
            "Regularizing TFs: 100%|██████████| 22683/22683 [00:00<00:00, 46058.59it/s]\n",
            "Tuning k1:  12%|█▎        | 2/16 [00:10<01:15,  5.40s/it]"
          ]
        },
        {
          "output_type": "stream",
          "name": "stdout",
          "text": [
            "k1=0.6: MAP@10=0.8135614512471654\n"
          ]
        },
        {
          "output_type": "stream",
          "name": "stderr",
          "text": [
            "\n",
            "Regularizing TFs:   0%|          | 0/22683 [00:00<?, ?it/s]\u001b[A\n",
            "Regularizing TFs:   2%|▏         | 462/22683 [00:00<00:04, 4618.44it/s]\u001b[A\n",
            "Regularizing TFs:   5%|▌         | 1183/22683 [00:00<00:03, 6137.39it/s]\u001b[A\n",
            "Regularizing TFs:  11%|█         | 2463/22683 [00:00<00:02, 9174.56it/s]\u001b[A\n",
            "Regularizing TFs: 100%|██████████| 22683/22683 [00:00<00:00, 45561.05it/s]\n",
            "Tuning k1:  19%|█▉        | 3/16 [00:16<01:13,  5.64s/it]"
          ]
        },
        {
          "output_type": "stream",
          "name": "stdout",
          "text": [
            "k1=0.7: MAP@10=0.8126621315192744\n"
          ]
        },
        {
          "output_type": "stream",
          "name": "stderr",
          "text": [
            "\n",
            "Regularizing TFs:   0%|          | 0/22683 [00:00<?, ?it/s]\u001b[A\n",
            "Regularizing TFs:   1%|          | 216/22683 [00:00<00:10, 2141.86it/s]\u001b[A\n",
            "Regularizing TFs:   2%|▏         | 431/22683 [00:00<00:10, 2053.23it/s]\u001b[A\n",
            "Regularizing TFs:   3%|▎         | 760/22683 [00:00<00:08, 2598.90it/s]\u001b[A\n",
            "Regularizing TFs:   5%|▌         | 1185/22683 [00:00<00:06, 3239.58it/s]\u001b[A\n",
            "Regularizing TFs:   7%|▋         | 1684/22683 [00:00<00:05, 3855.30it/s]\u001b[A\n",
            "Regularizing TFs:  13%|█▎        | 3007/22683 [00:00<00:02, 7014.49it/s]\u001b[A\n",
            "Regularizing TFs: 100%|██████████| 22683/22683 [00:00<00:00, 28619.10it/s]\n",
            "Tuning k1:  25%|██▌       | 4/16 [00:22<01:08,  5.73s/it]"
          ]
        },
        {
          "output_type": "stream",
          "name": "stdout",
          "text": [
            "k1=0.7999999999999999: MAP@10=0.813863492063492\n"
          ]
        },
        {
          "output_type": "stream",
          "name": "stderr",
          "text": [
            "\n",
            "Regularizing TFs:   0%|          | 0/22683 [00:00<?, ?it/s]\u001b[A\n",
            "Regularizing TFs:   1%|          | 215/22683 [00:00<00:10, 2093.00it/s]\u001b[A\n",
            "Regularizing TFs:   2%|▏         | 425/22683 [00:00<00:16, 1335.54it/s]\u001b[A\n",
            "Regularizing TFs:   3%|▎         | 574/22683 [00:00<00:17, 1238.37it/s]\u001b[A\n",
            "Regularizing TFs:   3%|▎         | 760/22683 [00:00<00:15, 1414.95it/s]\u001b[A\n",
            "Regularizing TFs:   6%|▌         | 1306/22683 [00:00<00:08, 2636.58it/s]\u001b[A\n",
            "Regularizing TFs:  12%|█▏        | 2649/22683 [00:00<00:03, 5889.82it/s]\u001b[A\n",
            "Regularizing TFs:  28%|██▊       | 6406/22683 [00:00<00:01, 15424.40it/s]\u001b[A\n",
            "Regularizing TFs: 100%|██████████| 22683/22683 [00:00<00:00, 23600.26it/s]\n",
            "Tuning k1:  31%|███▏      | 5/16 [00:28<01:04,  5.83s/it]"
          ]
        },
        {
          "output_type": "stream",
          "name": "stdout",
          "text": [
            "k1=0.8999999999999999: MAP@10=0.8135637188208616\n"
          ]
        },
        {
          "output_type": "stream",
          "name": "stderr",
          "text": [
            "\n",
            "Regularizing TFs:   0%|          | 0/22683 [00:00<?, ?it/s]\u001b[A\n",
            "Regularizing TFs:   1%|          | 221/22683 [00:00<00:10, 2201.11it/s]\u001b[A\n",
            "Regularizing TFs:   2%|▏         | 527/22683 [00:00<00:08, 2687.30it/s]\u001b[A\n",
            "Regularizing TFs:   4%|▎         | 840/22683 [00:00<00:07, 2885.06it/s]\u001b[A\n",
            "Regularizing TFs:   6%|▌         | 1260/22683 [00:00<00:06, 3401.34it/s]\u001b[A\n",
            "Regularizing TFs:   8%|▊         | 1787/22683 [00:00<00:05, 4073.44it/s]\u001b[A\n",
            "Regularizing TFs:  11%|█▏        | 2588/22683 [00:00<00:03, 5407.49it/s]\u001b[A\n",
            "Regularizing TFs:  18%|█▊        | 3978/22683 [00:00<00:02, 8179.34it/s]\u001b[A\n",
            "Regularizing TFs:  30%|███       | 6825/22683 [00:00<00:01, 14630.14it/s]\u001b[A\n",
            "Regularizing TFs: 100%|██████████| 22683/22683 [00:00<00:00, 23137.15it/s]\n",
            "Tuning k1:  38%|███▊      | 6/16 [00:35<00:59,  5.99s/it]"
          ]
        },
        {
          "output_type": "stream",
          "name": "stdout",
          "text": [
            "k1=0.9999999999999999: MAP@10=0.8092172335600907\n"
          ]
        },
        {
          "output_type": "stream",
          "name": "stderr",
          "text": [
            "\n",
            "Regularizing TFs:   0%|          | 0/22683 [00:00<?, ?it/s]\u001b[A\n",
            "Regularizing TFs:   2%|▏         | 454/22683 [00:00<00:04, 4527.74it/s]\u001b[A\n",
            "Regularizing TFs:   5%|▌         | 1166/22683 [00:00<00:03, 6035.15it/s]\u001b[A\n",
            "Regularizing TFs:  11%|█         | 2386/22683 [00:00<00:02, 8843.38it/s]\u001b[A\n",
            "Regularizing TFs:  25%|██▌       | 5725/22683 [00:00<00:00, 18520.60it/s]\u001b[A\n",
            "Regularizing TFs: 100%|██████████| 22683/22683 [00:00<00:00, 44003.58it/s]\n",
            "Tuning k1:  44%|████▍     | 7/16 [00:39<00:50,  5.61s/it]"
          ]
        },
        {
          "output_type": "stream",
          "name": "stdout",
          "text": [
            "k1=1.0999999999999999: MAP@10=0.808904761904762\n"
          ]
        },
        {
          "output_type": "stream",
          "name": "stderr",
          "text": [
            "\n",
            "Regularizing TFs:   0%|          | 0/22683 [00:00<?, ?it/s]\u001b[A\n",
            "Regularizing TFs:   2%|▏         | 520/22683 [00:00<00:04, 5192.00it/s]\u001b[A\n",
            "Regularizing TFs:   5%|▌         | 1220/22683 [00:00<00:03, 6252.29it/s]\u001b[A\n",
            "Regularizing TFs:  11%|█         | 2435/22683 [00:00<00:02, 8934.49it/s]\u001b[A\n",
            "Regularizing TFs:  26%|██▋       | 5961/22683 [00:00<00:00, 19315.68it/s]\u001b[A\n",
            "Regularizing TFs: 100%|██████████| 22683/22683 [00:00<00:00, 44294.39it/s]\n",
            "Tuning k1:  50%|█████     | 8/16 [00:45<00:46,  5.75s/it]"
          ]
        },
        {
          "output_type": "stream",
          "name": "stdout",
          "text": [
            "k1=1.1999999999999997: MAP@10=0.8049600907029479\n"
          ]
        },
        {
          "output_type": "stream",
          "name": "stderr",
          "text": [
            "\n",
            "Regularizing TFs:   0%|          | 0/22683 [00:00<?, ?it/s]\u001b[A\n",
            "Regularizing TFs:   2%|▏         | 493/22683 [00:00<00:04, 4928.76it/s]\u001b[A\n",
            "Regularizing TFs:   5%|▍         | 1111/22683 [00:00<00:03, 5661.88it/s]\u001b[A\n",
            "Regularizing TFs:  11%|█         | 2404/22683 [00:00<00:02, 8977.72it/s]\u001b[A\n",
            "Regularizing TFs:  26%|██▌       | 5854/22683 [00:00<00:00, 19048.12it/s]\u001b[A\n",
            "Regularizing TFs: 100%|██████████| 22683/22683 [00:00<00:00, 44096.61it/s]\n",
            "Tuning k1:  56%|█████▋    | 9/16 [00:50<00:38,  5.47s/it]"
          ]
        },
        {
          "output_type": "stream",
          "name": "stdout",
          "text": [
            "k1=1.2999999999999998: MAP@10=0.8015328798185941\n"
          ]
        },
        {
          "output_type": "stream",
          "name": "stderr",
          "text": [
            "\n",
            "Regularizing TFs:   0%|          | 0/22683 [00:00<?, ?it/s]\u001b[A\n",
            "Regularizing TFs:   2%|▏         | 532/22683 [00:00<00:04, 5318.07it/s]\u001b[A\n",
            "Regularizing TFs:   6%|▌         | 1337/22683 [00:00<00:03, 6919.09it/s]\u001b[A\n",
            "Regularizing TFs:  10%|█         | 2309/22683 [00:00<00:02, 8195.10it/s]\u001b[A\n",
            "Regularizing TFs:  25%|██▍       | 5578/22683 [00:00<00:00, 17860.02it/s]\u001b[A\n",
            "Regularizing TFs: 100%|██████████| 22683/22683 [00:00<00:00, 41237.17it/s]\n",
            "Tuning k1:  62%|██████▎   | 10/16 [00:55<00:31,  5.27s/it]"
          ]
        },
        {
          "output_type": "stream",
          "name": "stdout",
          "text": [
            "k1=1.4: MAP@10=0.7995124716553288\n"
          ]
        },
        {
          "output_type": "stream",
          "name": "stderr",
          "text": [
            "\n",
            "Regularizing TFs:   0%|          | 0/22683 [00:00<?, ?it/s]\u001b[A\n",
            "Regularizing TFs:   1%|          | 219/22683 [00:00<00:10, 2156.13it/s]\u001b[A\n",
            "Regularizing TFs:   2%|▏         | 500/22683 [00:00<00:08, 2536.52it/s]\u001b[A\n",
            "Regularizing TFs:   4%|▎         | 814/22683 [00:00<00:07, 2809.62it/s]\u001b[A\n",
            "Regularizing TFs:   5%|▌         | 1221/22683 [00:00<00:06, 3298.65it/s]\u001b[A\n",
            "Regularizing TFs:   8%|▊         | 1796/22683 [00:00<00:05, 4173.54it/s]\u001b[A\n",
            "Regularizing TFs:  12%|█▏        | 2693/22683 [00:00<00:03, 5798.71it/s]\u001b[A\n",
            "Regularizing TFs:  19%|█▊        | 4211/22683 [00:00<00:02, 8855.48it/s]\u001b[A\n",
            "Regularizing TFs:  33%|███▎      | 7501/22683 [00:00<00:00, 16495.97it/s]\u001b[A\n",
            "Regularizing TFs: 100%|██████████| 22683/22683 [00:00<00:00, 23813.40it/s]\n",
            "Tuning k1:  69%|██████▉   | 11/16 [01:01<00:27,  5.54s/it]"
          ]
        },
        {
          "output_type": "stream",
          "name": "stdout",
          "text": [
            "k1=1.4999999999999998: MAP@10=0.7995868480725624\n"
          ]
        },
        {
          "output_type": "stream",
          "name": "stderr",
          "text": [
            "\n",
            "Regularizing TFs:   0%|          | 0/22683 [00:00<?, ?it/s]\u001b[A\n",
            "Regularizing TFs:   2%|▏         | 508/22683 [00:00<00:04, 5071.44it/s]\u001b[A\n",
            "Regularizing TFs:   6%|▌         | 1262/22683 [00:00<00:03, 6520.87it/s]\u001b[A\n",
            "Regularizing TFs:  10%|█         | 2378/22683 [00:00<00:02, 8635.76it/s]\u001b[A\n",
            "Regularizing TFs:  23%|██▎       | 5222/22683 [00:00<00:01, 16449.99it/s]\u001b[A\n",
            "Regularizing TFs: 100%|██████████| 22683/22683 [00:00<00:00, 43298.81it/s]\n",
            "Tuning k1:  75%|███████▌  | 12/16 [01:06<00:21,  5.33s/it]"
          ]
        },
        {
          "output_type": "stream",
          "name": "stdout",
          "text": [
            "k1=1.5999999999999996: MAP@10=0.7986725623582765\n"
          ]
        },
        {
          "output_type": "stream",
          "name": "stderr",
          "text": [
            "\n",
            "Regularizing TFs:   0%|          | 0/22683 [00:00<?, ?it/s]\u001b[A\n",
            "Regularizing TFs:   2%|▏         | 527/22683 [00:00<00:04, 5218.74it/s]\u001b[A\n",
            "Regularizing TFs:   5%|▌         | 1136/22683 [00:00<00:03, 5723.38it/s]\u001b[A\n",
            "Regularizing TFs:  10%|▉         | 2236/22683 [00:00<00:02, 8125.06it/s]\u001b[A\n",
            "Regularizing TFs:  22%|██▏       | 4971/22683 [00:00<00:01, 15699.59it/s]\u001b[A\n",
            "Regularizing TFs: 100%|██████████| 22683/22683 [00:00<00:00, 41671.77it/s]\n",
            "Tuning k1:  81%|████████▏ | 13/16 [01:12<00:16,  5.54s/it]"
          ]
        },
        {
          "output_type": "stream",
          "name": "stdout",
          "text": [
            "k1=1.6999999999999997: MAP@10=0.7984961451247166\n"
          ]
        },
        {
          "output_type": "stream",
          "name": "stderr",
          "text": [
            "\n",
            "Regularizing TFs:   0%|          | 0/22683 [00:00<?, ?it/s]\u001b[A\n",
            "Regularizing TFs:   2%|▏         | 404/22683 [00:00<00:05, 4038.61it/s]\u001b[A\n",
            "Regularizing TFs:   5%|▍         | 1124/22683 [00:00<00:03, 5896.33it/s]\u001b[A\n",
            "Regularizing TFs:  10%|█         | 2269/22683 [00:00<00:02, 8430.30it/s]\u001b[A\n",
            "Regularizing TFs:  23%|██▎       | 5157/22683 [00:00<00:01, 16499.67it/s]\u001b[A\n",
            "Regularizing TFs: 100%|██████████| 22683/22683 [00:00<00:00, 43103.96it/s]\n",
            "Tuning k1:  88%|████████▊ | 14/16 [01:17<00:10,  5.30s/it]"
          ]
        },
        {
          "output_type": "stream",
          "name": "stdout",
          "text": [
            "k1=1.7999999999999998: MAP@10=0.7973718820861678\n"
          ]
        },
        {
          "output_type": "stream",
          "name": "stderr",
          "text": [
            "\n",
            "Regularizing TFs:   0%|          | 0/22683 [00:00<?, ?it/s]\u001b[A\n",
            "Regularizing TFs:   2%|▏         | 519/22683 [00:00<00:04, 5184.08it/s]\u001b[A\n",
            "Regularizing TFs:   6%|▌         | 1265/22683 [00:00<00:03, 6513.99it/s]\u001b[A\n",
            "Regularizing TFs:  11%|█         | 2517/22683 [00:00<00:02, 9253.49it/s]\u001b[A\n",
            "Regularizing TFs:  25%|██▍       | 5665/22683 [00:00<00:00, 18021.21it/s]\u001b[A\n",
            "Regularizing TFs: 100%|██████████| 22683/22683 [00:00<00:00, 43239.74it/s]\n",
            "Tuning k1:  94%|█████████▍| 15/16 [01:22<00:05,  5.12s/it]"
          ]
        },
        {
          "output_type": "stream",
          "name": "stdout",
          "text": [
            "k1=1.8999999999999997: MAP@10=0.7961591836734694\n"
          ]
        },
        {
          "output_type": "stream",
          "name": "stderr",
          "text": [
            "\n",
            "Regularizing TFs:   0%|          | 0/22683 [00:00<?, ?it/s]\u001b[A\n",
            "Regularizing TFs:   1%|          | 217/22683 [00:00<00:10, 2156.55it/s]\u001b[A\n",
            "Regularizing TFs:   2%|▏         | 515/22683 [00:00<00:08, 2593.92it/s]\u001b[A\n",
            "Regularizing TFs:   3%|▎         | 774/22683 [00:00<00:08, 2492.20it/s]\u001b[A\n",
            "Regularizing TFs:   5%|▌         | 1175/22683 [00:00<00:06, 3073.01it/s]\u001b[A\n",
            "Regularizing TFs:   7%|▋         | 1666/22683 [00:00<00:05, 3718.33it/s]\u001b[A\n",
            "Regularizing TFs:  11%|█         | 2455/22683 [00:00<00:03, 5116.69it/s]\u001b[A\n",
            "Regularizing TFs:  17%|█▋        | 3866/22683 [00:00<00:02, 8027.95it/s]\u001b[A\n",
            "Regularizing TFs:  28%|██▊       | 6385/22683 [00:00<00:01, 13453.24it/s]\u001b[A\n",
            "Regularizing TFs: 100%|██████████| 22683/22683 [00:00<00:00, 22837.07it/s]\n",
            "Tuning k1: 100%|██████████| 16/16 [01:28<00:00,  5.53s/it]"
          ]
        },
        {
          "output_type": "stream",
          "name": "stdout",
          "text": [
            "k1=1.9999999999999996: MAP@10=0.7945628117913831\n",
            "Best k1: 0.7999999999999999 with MAP@10: 0.813863492063492\n"
          ]
        },
        {
          "output_type": "stream",
          "name": "stderr",
          "text": [
            "\n"
          ]
        }
      ],
      "source": [
        "import shutil\n",
        "import numpy as np\n",
        "from concurrent.futures import ThreadPoolExecutor\n",
        "\n",
        "# Helper function to evaluate MAP@10 for a given b and k1\n",
        "def evaluate_bm25(k1, b):\n",
        "    temp_index_dir = f\"output/bm25_index_b_{b}_k1_{k1}\"\n",
        "    try:\n",
        "        bm25_index = BM25Index.build_from_documents(\n",
        "            documents=iter(sciq.corpus),\n",
        "            ndocs=len(sciq.corpus),\n",
        "            show_progress_bar=False,\n",
        "            k1=k1,\n",
        "            b=b\n",
        "        )\n",
        "        bm25_index.save(temp_index_dir)\n",
        "        retriever = BM25Retriever(index_dir=temp_index_dir)\n",
        "        dev_queries_list = sciq.get_split_queries(Split.dev)\n",
        "        dev_queries = {query.query_id: query.text for query in dev_queries_list}\n",
        "        rankings = {\n",
        "            qid: retriever.retrieve(query_text, topk=10)\n",
        "            for qid, query_text in dev_queries.items()\n",
        "        }\n",
        "        map_score = evaluate_map(rankings, split=Split.dev)\n",
        "    finally:\n",
        "        shutil.rmtree(temp_index_dir, ignore_errors=True)\n",
        "    return map_score\n",
        "\n",
        "# Step 1: Tune b\n",
        "b_values = np.arange(0.0, 1.1, 0.1)  # Adjust step size for finer tuning\n",
        "k1_fixed = 0.9\n",
        "plots_b = {\"X\": list(b_values), \"Y\": []}\n",
        "\n",
        "for b in tqdm.tqdm(plots_b[\"X\"], desc=\"Tuning b\"):\n",
        "    map_score = evaluate_bm25(k1=k1_fixed, b=b)\n",
        "    plots_b[\"Y\"].append(map_score)\n",
        "    print(f\"b={b}: MAP@10={map_score}\")\n",
        "\n",
        "best_b_index = np.argmax(plots_b[\"Y\"])\n",
        "best_b = plots_b[\"X\"][best_b_index]\n",
        "print(f\"Best b: {best_b} with MAP@10: {plots_b['Y'][best_b_index]}\")\n",
        "\n",
        "# Step 2: Tune k1\n",
        "k1_values = np.arange(0.5, 2.1, 0.1)  # Adjust range and step size for finer tuning\n",
        "plots_k1 = {\"X\": list(k1_values), \"Y\": []}\n",
        "\n",
        "for k1 in tqdm.tqdm(plots_k1[\"X\"], desc=\"Tuning k1\"):\n",
        "    map_score = evaluate_bm25(k1=k1, b=best_b)\n",
        "    plots_k1[\"Y\"].append(map_score)\n",
        "    print(f\"k1={k1}: MAP@10={map_score}\")\n",
        "\n",
        "best_k1_index = np.argmax(plots_k1[\"Y\"])\n",
        "best_k1 = plots_k1[\"X\"][best_k1_index]\n",
        "print(f\"Best k1: {best_k1} with MAP@10: {plots_k1['Y'][best_k1_index]}\")\n"
      ]
    },
    {
      "cell_type": "code",
      "source": [
        "## TEST_CASES (should be close to 0.8135637188208616 and 0.7512916099773244)\n",
        "print(plots_k1[\"Y\"][9])\n",
        "print(plots_b[\"Y\"][1])"
      ],
      "metadata": {
        "id": "39tPdZtvBn6E",
        "colab": {
          "base_uri": "https://localhost:8080/"
        },
        "outputId": "693a17ea-1d5e-4691-952c-0deb44f66ba5"
      },
      "execution_count": 13,
      "outputs": [
        {
          "output_type": "stream",
          "name": "stdout",
          "text": [
            "0.7995124716553288\n",
            "0.7512916099773244\n"
          ]
        }
      ]
    },
    {
      "cell_type": "code",
      "execution_count": 14,
      "metadata": {
        "id": "8jkyz5qB7ijo",
        "colab": {
          "base_uri": "https://localhost:8080/"
        },
        "outputId": "4809c360-7447-4564-babb-f52fa3cbc49b"
      },
      "outputs": [
        {
          "output_type": "stream",
          "name": "stdout",
          "text": [
            "{'X': [0.5, 0.6, 0.7, 0.7999999999999999, 0.8999999999999999, 0.9999999999999999, 1.0999999999999999, 1.1999999999999997, 1.2999999999999998, 1.4, 1.4999999999999998, 1.5999999999999996, 1.6999999999999997, 1.7999999999999998, 1.8999999999999997, 1.9999999999999996], 'Y': [0.8119233560090704, 0.8135614512471654, 0.8126621315192744, 0.813863492063492, 0.8135637188208616, 0.8092172335600907, 0.808904761904762, 0.8049600907029479, 0.8015328798185941, 0.7995124716553288, 0.7995868480725624, 0.7986725623582765, 0.7984961451247166, 0.7973718820861678, 0.7961591836734694, 0.7945628117913831]}\n",
            "{'X': [0.0, 0.1, 0.2, 0.30000000000000004, 0.4, 0.5, 0.6000000000000001, 0.7000000000000001, 0.8, 0.9, 1.0], 'Y': [0.7070653061224489, 0.7512916099773244, 0.7732204081632653, 0.7862639455782313, 0.8018367346938776, 0.8078639455782312, 0.8135637188208616, 0.8121732426303855, 0.813178231292517, 0.8116893424036281, 0.8080462585034013]}\n"
          ]
        }
      ],
      "source": [
        "## RESULT_CHECKING_POINT\n",
        "print(plots_k1)\n",
        "print(plots_b)"
      ]
    },
    {
      "cell_type": "code",
      "execution_count": 15,
      "metadata": {
        "id": "DzoLFRPJ7jC4",
        "colab": {
          "base_uri": "https://localhost:8080/",
          "height": 430
        },
        "outputId": "87479853-75d7-49eb-b449-0f347099756f"
      },
      "outputs": [
        {
          "output_type": "display_data",
          "data": {
            "text/plain": [
              "<Figure size 640x480 with 1 Axes>"
            ],
            "image/png": "[encoded data removed]"
          },
          "metadata": {}
        }
      ],
      "source": [
        "from matplotlib import pyplot as plt\n",
        "plt.plot(plots_b[\"X\"], plots_b[\"Y\"], label=\"b\")\n",
        "plt.plot(plots_k1[\"X\"], plots_k1[\"Y\"], label=\"k1\")\n",
        "plt.ylabel(\"MAP\")\n",
        "plt.legend()\n",
        "plt.grid()\n",
        "plt.show()"
      ]
    },
    {
      "cell_type": "markdown",
      "metadata": {
        "id": "ETCrAger_s5S"
      },
      "source": [
        "Let's check the effectiveness gain on test after this tuning on dev"
      ]
    },
    {
      "cell_type": "code",
      "execution_count": 16,
      "metadata": {
        "id": "YrPj7YQk_iTe",
        "colab": {
          "base_uri": "https://localhost:8080/"
        },
        "outputId": "eab8381e-f8f7-46a6-e71e-7fcba172898c"
      },
      "outputs": [
        {
          "output_type": "stream",
          "name": "stderr",
          "text": [
            "Counting: 100%|██████████| 12160/12160 [00:02<00:00, 4877.83it/s]\n",
            "Regularizing TFs: 100%|██████████| 22683/22683 [00:00<00:00, 32793.49it/s]\n"
          ]
        },
        {
          "output_type": "stream",
          "name": "stdout",
          "text": [
            "0.7849 0.7990718090889324\n"
          ]
        }
      ],
      "source": [
        "default_map = 0.7849\n",
        "best_b = plots_b[\"X\"][np.argmax(plots_b[\"Y\"])]\n",
        "best_k1 = plots_k1[\"X\"][np.argmax(plots_k1[\"Y\"])]\n",
        "bm25_index = BM25Index.build_from_documents(\n",
        "    documents=iter(sciq.corpus),\n",
        "    ndocs=12160,\n",
        "    show_progress_bar=True,\n",
        "    k1=best_k1,\n",
        "    b=best_b\n",
        ")\n",
        "bm25_index.save(\"output/bm25_index\")\n",
        "bm25_retriever = BM25Retriever(index_dir=\"output/bm25_index\")\n",
        "rankings = {}\n",
        "for query in sciq.get_split_queries(Split.test):  # note this is now on test\n",
        "  ranking = bm25_retriever.retrieve(query=query.text)\n",
        "  rankings[query.query_id] = ranking\n",
        "optimized_map = evaluate_map(rankings, split=Split.test)  # note this is now on test\n",
        "print(default_map, optimized_map)"
      ]
    },
    {
      "cell_type": "markdown",
      "metadata": {
        "id": "XY4ubnEy3mRY"
      },
      "source": [
        "# TASK2: CSC matrix and `CSCBM25Index` (12 points)"
      ]
    },
    {
      "cell_type": "markdown",
      "metadata": {
        "id": "hXjAaBpl4YzE"
      },
      "source": [
        "Recall that we use Python lists to implement posting lists, mapping term IDs to the documents in which they appear. This is inefficient due to its naive design. Actually [Compressed Sparse Column matrix](https://docs.scipy.org/doc/scipy/reference/generated/scipy.sparse.csc_matrix.html) is very suitable for storing the posting lists and can boost the efficiency."
      ]
    },
    {
      "cell_type": "markdown",
      "metadata": {
        "id": "LJs5_A5TFGf8"
      },
      "source": [
        "## TASK2.1: learn about `scipy.sparse.csc_matrix` (2 point)"
      ]
    },
    {
      "cell_type": "markdown",
      "metadata": {
        "id": "luGpN7BYHAx1"
      },
      "source": [
        "Convert the matrix \\begin{bmatrix}\n",
        "0 & 1 & 0 & 3 \\\\\n",
        "10 & 2 & 1 & 0 \\\\\n",
        "0 & 0 & 0 & 9\n",
        "\\end{bmatrix} to a `csc_matrix` by specifying `data`, `indices`, `indptr` and `shape`."
      ]
    },
    {
      "cell_type": "code",
      "execution_count": 17,
      "metadata": {
        "id": "1u3qj8aWEqWM",
        "colab": {
          "base_uri": "https://localhost:8080/"
        },
        "outputId": "3aea83b4-4b6e-4f7a-bb94-4d2323471bea"
      },
      "outputs": [
        {
          "output_type": "stream",
          "name": "stdout",
          "text": [
            "[[ 0  1  0  3]\n",
            " [10  2  1  0]\n",
            " [ 0  0  0  9]]\n"
          ]
        }
      ],
      "source": [
        "from scipy.sparse._csc import csc_matrix\n",
        "\n",
        "# Input matrix\n",
        "input_matrix = [[0, 1, 0, 3], [10, 2, 1, 0], [0, 0, 0, 9]]\n",
        "\n",
        "# Define data, indices, indptr, and shape\n",
        "data = [10, 1, 2, 1, 3, 9]\n",
        "indices = [1, 0, 1, 1, 0, 2]\n",
        "indptr = [0, 1, 3, 4, 6]\n",
        "shape = (3, 4)\n",
        "\n",
        "# Create the csc_matrix\n",
        "output_matrix = csc_matrix((data, indices, indptr), shape=shape)\n",
        "\n",
        "# Print the result for verification\n",
        "print(output_matrix.toarray())\n"
      ]
    },
    {
      "cell_type": "code",
      "source": [
        "## TEST_CASES (should be 3 and 11)\n",
        "print((output_matrix.indices + output_matrix.data).tolist()[2])\n",
        "print((output_matrix.indices + output_matrix.data).tolist()[-1])"
      ],
      "metadata": {
        "id": "O9lDN2b9CIcs",
        "colab": {
          "base_uri": "https://localhost:8080/"
        },
        "outputId": "6ec041be-fea3-4bb7-d4b4-cfe03baf5cff"
      },
      "execution_count": 18,
      "outputs": [
        {
          "output_type": "stream",
          "name": "stdout",
          "text": [
            "3\n",
            "11\n"
          ]
        }
      ]
    },
    {
      "cell_type": "code",
      "execution_count": 19,
      "metadata": {
        "id": "yqzjCTmeK-hJ",
        "colab": {
          "base_uri": "https://localhost:8080/"
        },
        "outputId": "4f4b6bcd-f3ae-40da-9c8c-5c02b85a08a3"
      },
      "outputs": [
        {
          "output_type": "stream",
          "name": "stdout",
          "text": [
            "[11, 1, 3, 2, 3, 11]\n"
          ]
        }
      ],
      "source": [
        "## RESULT_CHECKING_POINT\n",
        "print((output_matrix.indices + output_matrix.data).tolist())"
      ]
    },
    {
      "cell_type": "markdown",
      "metadata": {
        "id": "HGpCFiobFixb"
      },
      "source": [
        "## TASK2.2: implement `CSCBM25Index` (4 points)"
      ]
    },
    {
      "cell_type": "markdown",
      "metadata": {
        "id": "a1BGug3cQTwQ"
      },
      "source": [
        "Implement `CSCBM25Index` by completing the missing code. Note that `CSCInvertedIndex` is similar to `InvertedIndex` which we talked about during the class. The main difference is posting lists are represented by a CSC sparse matrix."
      ]
    },
    {
      "cell_type": "code",
      "execution_count": 20,
      "metadata": {
        "id": "XJSHVK9oLt_4"
      },
      "outputs": [],
      "source": [
        "@dataclass\n",
        "class CSCInvertedIndex:\n",
        "    posting_lists_matrix: csc_matrix  # docid -> posting_list\n",
        "    vocab: Dict[str, int]\n",
        "    cid2docid: Dict[str, int]  # collection_id -> docid\n",
        "    collection_ids: List[str]  # docid -> collection_id\n",
        "    doc_texts: Optional[List[str]] = None  # docid -> document text\n",
        "\n",
        "    def save(self, output_dir: str) -> None:\n",
        "        os.makedirs(output_dir, exist_ok=True)\n",
        "        with open(os.path.join(output_dir, \"index.pkl\"), \"wb\") as f:\n",
        "            pickle.dump(self, f)\n",
        "\n",
        "    @classmethod\n",
        "    def from_saved(cls: Type[T], saved_dir: str) -> T:\n",
        "        index = cls(\n",
        "            posting_lists_matrix=None, vocab={}, cid2docid={}, collection_ids=[], doc_texts=None\n",
        "        )\n",
        "        with open(os.path.join(saved_dir, \"index.pkl\"), \"rb\") as f:\n",
        "            index = pickle.load(f)\n",
        "        return index"
      ]
    },
    {
      "cell_type": "code",
      "execution_count": 21,
      "metadata": {
        "id": "DWLuNHKXPL1w",
        "colab": {
          "base_uri": "https://localhost:8080/"
        },
        "outputId": "f3e0a4bc-ec6d-4408-fd91-039a584821a5"
      },
      "outputs": [
        {
          "output_type": "stream",
          "name": "stderr",
          "text": [
            "Counting: 100%|██████████| 12160/12160 [00:02<00:00, 5387.82it/s]\n"
          ]
        }
      ],
      "source": [
        "@dataclass\n",
        "class CSCBM25Index(CSCInvertedIndex):\n",
        "\n",
        "    @staticmethod\n",
        "    def tokenize(text: str) -> List[str]:\n",
        "        return simple_tokenize(text)\n",
        "\n",
        "    @staticmethod\n",
        "    def cache_term_weights(\n",
        "        posting_lists: List[PostingList],\n",
        "        total_docs: int,\n",
        "        avgdl: float,\n",
        "        dfs: List[int],\n",
        "        dls: List[int],\n",
        "        k1: float,\n",
        "        b: float,\n",
        "    ) -> csc_matrix:\n",
        "        \"\"\"Compute term weights and caching\"\"\"\n",
        "\n",
        "        ## YOUR_CODE_STARTS_HERE\n",
        "        from scipy.sparse import csc_matrix\n",
        "        import numpy as np\n",
        "\n",
        "        # Prepare data for the CSC matrix\n",
        "        data = []      # Term weights\n",
        "        indices = []   # Row indices (document IDs)\n",
        "        indptr = [0]   # Column pointers (term IDs)\n",
        "\n",
        "        # Total number of documents\n",
        "        N = total_docs\n",
        "\n",
        "        # Efficiently compute and store term weights\n",
        "        for tid, posting_list in enumerate(posting_lists):\n",
        "            idf = CSCBM25Index.calc_idf(df=dfs[tid], N=N)  # Compute IDF for the term\n",
        "            for docid, tf in zip(posting_list.docid_postings, posting_list.tweight_postings):\n",
        "                dl = dls[docid]\n",
        "                # Compute the regularized term weight and round it for compression\n",
        "                term_weight = round(CSCBM25Index.calc_regularized_tf(tf, dl, avgdl, k1, b) * idf, 6)\n",
        "                # Append the term weight and document ID\n",
        "                data.append(term_weight)\n",
        "                indices.append(docid)\n",
        "            # Append the cumulative count of non-zero elements for the current term\n",
        "            indptr.append(len(data))\n",
        "\n",
        "        # Convert data to a more efficient numpy array\n",
        "        data = np.array(data, dtype=np.float32)\n",
        "        indices = np.array(indices, dtype=np.int32)\n",
        "        indptr = np.array(indptr, dtype=np.int32)\n",
        "\n",
        "        # Create the CSC matrix\n",
        "        shape = (total_docs, len(posting_lists))  # (number of documents, number of terms)\n",
        "        return csc_matrix((data, indices, indptr), shape=shape)\n",
        "        ## YOUR_CODE_ENDS_HERE\n",
        "\n",
        "    @staticmethod\n",
        "    def calc_regularized_tf(\n",
        "        tf: int, dl: float, avgdl: float, k1: float, b: float\n",
        "    ) -> float:\n",
        "        return tf / (tf + k1 * (1 - b + b * dl / avgdl))\n",
        "\n",
        "    @staticmethod\n",
        "    def calc_idf(df: int, N: int):\n",
        "        return math.log(1 + (N - df + 0.5) / (df + 0.5))\n",
        "\n",
        "    @classmethod\n",
        "    def build_from_documents(\n",
        "        cls: Type[CSCBM25Index],\n",
        "        documents: Iterable[Document],\n",
        "        store_raw: bool = True,\n",
        "        output_dir: Optional[str] = None,\n",
        "        ndocs: Optional[int] = None,\n",
        "        show_progress_bar: bool = True,\n",
        "        k1: float = 0.9,\n",
        "        b: float = 0.4,\n",
        "    ) -> CSCBM25Index:\n",
        "        # Counting TFs, DFs, doc_lengths, etc.:\n",
        "        counting = run_counting(\n",
        "            documents=documents,\n",
        "            tokenize_fn=CSCBM25Index.tokenize,\n",
        "            store_raw=store_raw,\n",
        "            ndocs=ndocs,\n",
        "            show_progress_bar=show_progress_bar,\n",
        "        )\n",
        "\n",
        "        # Compute term weights and caching:\n",
        "        posting_lists = counting.posting_lists\n",
        "        total_docs = len(counting.cid2docid)\n",
        "        posting_lists_matrix = CSCBM25Index.cache_term_weights(\n",
        "            posting_lists=posting_lists,\n",
        "            total_docs=total_docs,\n",
        "            avgdl=counting.avgdl,\n",
        "            dfs=counting.dfs,\n",
        "            dls=counting.dls,\n",
        "            k1=k1,\n",
        "            b=b,\n",
        "        )\n",
        "\n",
        "        # Assembly and save:\n",
        "        index = CSCBM25Index(\n",
        "            posting_lists_matrix=posting_lists_matrix,\n",
        "            vocab=counting.vocab,\n",
        "            cid2docid=counting.cid2docid,\n",
        "            collection_ids=counting.collection_ids,\n",
        "            doc_texts=counting.doc_texts,\n",
        "        )\n",
        "        return index\n",
        "\n",
        "csc_bm25_index = CSCBM25Index.build_from_documents(\n",
        "    documents=iter(sciq.corpus),\n",
        "    ndocs=12160,\n",
        "    show_progress_bar=True,\n",
        "    k1=best_k1,\n",
        "    b=best_b\n",
        ")\n",
        "csc_bm25_index.save(\"output/csc_bm25_index\")"
      ]
    },
    {
      "cell_type": "code",
      "source": [
        "## TEST_CASES (should be 7 and 95)\n",
        "print(len(str(os.path.getsize(\"output/csc_bm25_index/index.pkl\"))))\n",
        "print(os.path.getsize(\"output/csc_bm25_index/index.pkl\") // int(1e5))"
      ],
      "metadata": {
        "id": "Wro-I30eCzLi",
        "colab": {
          "base_uri": "https://localhost:8080/"
        },
        "outputId": "8ce0a224-de20-477e-c826-054163f0abbb"
      },
      "execution_count": 22,
      "outputs": [
        {
          "output_type": "stream",
          "name": "stdout",
          "text": [
            "7\n",
            "95\n"
          ]
        }
      ]
    },
    {
      "cell_type": "code",
      "execution_count": 23,
      "metadata": {
        "id": "EdEaUJQQQm9q",
        "colab": {
          "base_uri": "https://localhost:8080/"
        },
        "outputId": "44a099d4-a655-43d8-c86f-f77d5ce2ba36"
      },
      "outputs": [
        {
          "output_type": "stream",
          "name": "stdout",
          "text": [
            "9522880\n"
          ]
        }
      ],
      "source": [
        "## RESULT_CHECKING_POINT\n",
        "print(os.path.getsize(\"output/csc_bm25_index/index.pkl\"))"
      ]
    },
    {
      "cell_type": "markdown",
      "metadata": {
        "id": "2xdqwO6cRv3x"
      },
      "source": [
        "We can compare the size of the CSC-based index with the Python-list-based index:"
      ]
    },
    {
      "cell_type": "code",
      "execution_count": 24,
      "metadata": {
        "id": "Uj3CLhyHReo2",
        "colab": {
          "base_uri": "https://localhost:8080/"
        },
        "outputId": "990468bf-6ae7-4f93-9fd6-2a3539a52acf"
      },
      "outputs": [
        {
          "output_type": "stream",
          "name": "stdout",
          "text": [
            "15525075\n"
          ]
        }
      ],
      "source": [
        "print(os.path.getsize(\"output/bm25_index/index.pkl\"))"
      ]
    },
    {
      "cell_type": "markdown",
      "metadata": {
        "id": "98oW2_M1SEAQ"
      },
      "source": [
        "## TASK2.3: implement `CSCInvertedIndexRetriever` (6 points)"
      ]
    },
    {
      "cell_type": "markdown",
      "metadata": {
        "id": "HusNZmapSMOz"
      },
      "source": [
        "Implement `CSCInvertedIndexRetriever` by completing the missing code."
      ]
    },
    {
      "cell_type": "code",
      "execution_count": 25,
      "metadata": {
        "id": "_XJwg3oHQAMw"
      },
      "outputs": [],
      "source": [
        "class BaseCSCInvertedIndexRetriever(BaseRetriever):\n",
        "\n",
        "    @property\n",
        "    @abstractmethod\n",
        "    def index_class(self) -> Type[CSCInvertedIndex]:\n",
        "        pass\n",
        "\n",
        "    def __init__(self, index_dir: str) -> None:\n",
        "        self.index = self.index_class.from_saved(index_dir)\n",
        "\n",
        "    def get_term_weights(self, query: str, cid: str) -> Dict[str, float]:\n",
        "        ## YOUR_CODE_STARTS_HERE\n",
        "        # Tokenize the query\n",
        "        terms = self.index_class.tokenize(query)\n",
        "        term_weights = {}\n",
        "\n",
        "        # Get the document ID from the collection ID\n",
        "        docid = self.index.cid2docid.get(cid)\n",
        "        if docid is None:\n",
        "            # If the collection ID is not found, return empty dict\n",
        "            return term_weights\n",
        "\n",
        "        # Iterate over each term in the query\n",
        "        for term in terms:\n",
        "            tid = self.index.vocab.get(term)\n",
        "            if tid is not None:\n",
        "                # Retrieve the BM25 weight from the CSC matrix\n",
        "                bm25_weight = self.index.posting_lists_matrix[docid, tid]\n",
        "                if bm25_weight > 0:\n",
        "                    term_weights[term] = float(bm25_weight)\n",
        "\n",
        "        return term_weights\n",
        "        ## YOUR_CODE_ENDS_HERE\n",
        "\n",
        "    def score(self, query: str, cid: str) -> float:\n",
        "        return sum(self.get_term_weights(query=query, cid=cid).values())\n",
        "\n",
        "    def retrieve(self, query: str, topk: int = 10) -> Dict[str, float]:\n",
        "        ## YOUR_CODE_STARTS_HERE\n",
        "        # Tokenize the query\n",
        "        terms = self.index_class.tokenize(query)\n",
        "\n",
        "        # Get term IDs for the query terms\n",
        "        term_ids = [self.index.vocab[term] for term in terms if term in self.index.vocab]\n",
        "        if not term_ids:\n",
        "            # If no terms are found in the vocabulary, return empty dict\n",
        "            return {}\n",
        "\n",
        "        # Create a sparse vector for the query terms\n",
        "        # Each term's weight in the query can be set to 1 (binary) or use term frequencies, etc.\n",
        "        # For simplicity, we'll use binary weights\n",
        "        query_vector = np.zeros(len(self.index.vocab), dtype=np.float32)\n",
        "        for tid in term_ids:\n",
        "            query_vector[tid] = 1.0\n",
        "\n",
        "        # Compute BM25 scores by multiplying the CSC matrix with the query vector\n",
        "        # This results in a dense array of BM25 scores for each document\n",
        "        scores = self.index.posting_lists_matrix[:, term_ids].sum(axis=1).A1  # .A1 converts to 1D array\n",
        "\n",
        "        # Identify the topk documents with the highest scores\n",
        "        if topk >= len(scores):\n",
        "            topk = len(scores)\n",
        "        topk_docids = np.argpartition(-scores, topk)[:topk]\n",
        "        topk_scores = scores[topk_docids]\n",
        "        sorted_topk_indices = topk_docids[np.argsort(-topk_scores)]\n",
        "\n",
        "        # Map document IDs back to collection IDs\n",
        "        topk_collection_ids = [self.index.collection_ids[docid] for docid in sorted_topk_indices]\n",
        "        topk_scores_sorted = scores[sorted_topk_indices]\n",
        "\n",
        "        # Construct the result dictionary\n",
        "        result = {\n",
        "            cid: float(score) for cid, score in zip(topk_collection_ids, topk_scores_sorted)\n",
        "        }\n",
        "\n",
        "        return result\n",
        "        ## YOUR_CODE_ENDS_HERE\n",
        "\n",
        "\n",
        "class CSCBM25Retriever(BaseCSCInvertedIndexRetriever):\n",
        "\n",
        "    @property\n",
        "    def index_class(self) -> Type[CSCBM25Index]:\n",
        "        return CSCBM25Index  # Ensure no extra characters or spaces"
      ]
    },
    {
      "cell_type": "code",
      "source": [
        "## TEST_CASES (should be close to\n",
        "# {'theory': 3.1838157176971436, 'evolution': 3.488086223602295, 'natural': 2.629807710647583, 'selection': 3.552377462387085}\n",
        "# {'train-11632': 16.241527557373047, 'train-10931': 13.352127075195312, 'train-2006': 12.854086875915527, 'train-7040': 12.690572738647461, 'train-1719': 11.01913833618164, 'train-9875': 10.886155128479004, 'train-1971': 10.796306610107422, 'train-9882': 10.535819053649902, 'train-2018': 10.481085777282715, 'test-586': 10.478515625}\n",
        "#)\n",
        "csc_bm25_retriever = CSCBM25Retriever(index_dir=\"output/csc_bm25_index\")\n",
        "query = \"Who proposed the theory of evolution by natural selection?\"\n",
        "print(csc_bm25_retriever.get_term_weights(query=query, cid=\"train-2006\"))\n",
        "print(csc_bm25_retriever.retrieve(query))"
      ],
      "metadata": {
        "id": "7JAsGW3rDQ6x",
        "colab": {
          "base_uri": "https://localhost:8080/"
        },
        "outputId": "8ffe5fdd-8faa-4be4-92d2-f0f9ce3e82d9"
      },
      "execution_count": 26,
      "outputs": [
        {
          "output_type": "stream",
          "name": "stdout",
          "text": [
            "{'theory': 3.1838159561157227, 'evolution': 3.488085985183716, 'natural': 2.629807949066162, 'selection': 3.5523769855499268}\n",
            "{'train-11632': 16.241527557373047, 'train-10931': 13.352128982543945, 'train-2006': 12.854086875915527, 'train-7040': 12.690572738647461, 'train-1719': 11.01913833618164, 'train-9875': 10.886154174804688, 'train-1971': 10.796306610107422, 'train-9882': 10.535819053649902, 'train-2018': 10.481085777282715, 'test-586': 10.478516578674316}\n"
          ]
        }
      ]
    },
    {
      "cell_type": "code",
      "execution_count": 27,
      "metadata": {
        "id": "NsW7dz4BSZwK",
        "colab": {
          "base_uri": "https://localhost:8080/"
        },
        "outputId": "10a67b87-dda0-49ae-976f-c6944ad04606"
      },
      "outputs": [
        {
          "output_type": "stream",
          "name": "stdout",
          "text": [
            "{'autoimmune': 5.041913986206055, 'diseases': 3.4281160831451416}\n",
            "{'train-3853': 8.614161491394043, 'train-11549': 8.596598625183105, 'train-1691': 8.470029830932617, 'train-7688': 8.097203254699707, 'train-9715': 8.058815956115723, 'test-362': 7.84877872467041, 'test-264': 7.738605976104736, 'dev-529': 7.51554012298584, 'test-933': 6.5692033767700195, 'train-10248': 5.7757368087768555}\n"
          ]
        }
      ],
      "source": [
        "## RESULT_CHECKING_POINT\n",
        "csc_bm25_retriever = CSCBM25Retriever(index_dir=\"output/csc_bm25_index\")\n",
        "query = \"What are the differences between immunodeficiency and autoimmune diseases?\"\n",
        "print(csc_bm25_retriever.get_term_weights(query=query, cid=\"train-1691\"))\n",
        "print(csc_bm25_retriever.retrieve(\"What are the differences between immunodeficiency and autoimmune diseases?\"))"
      ]
    },
    {
      "cell_type": "markdown",
      "metadata": {
        "id": "pqtBUOO14ZJN"
      },
      "source": [
        "# TASK3: a search-engine demo based on Huggingface space (4 points)"
      ]
    },
    {
      "cell_type": "markdown",
      "metadata": {
        "id": "nterwuqakpmt"
      },
      "source": [
        "## TASK3.1: create the gradio app (2 point)"
      ]
    },
    {
      "cell_type": "markdown",
      "metadata": {
        "id": "p11R8Nk3k2VD"
      },
      "source": [
        "Create a gradio app to demo the BM25 search engine index on SciQ. The app should have a single input variable for the query (of type `str`) and a single output variable for the returned ranking (of type `List[Hit]` in the code below). Please use the BM25 system with default k1 and b values.\n",
        "\n",
        "Hint: it should use a \"search\" function of signature:\n",
        "\n",
        "```python\n",
        "def search(query: str) -> List[Hit]:\n",
        "  ...\n",
        "```"
      ]
    },
    {
      "cell_type": "code",
      "execution_count": 3,
      "metadata": {
        "collapsed": true,
        "id": "qHganJOtV-gF",
        "colab": {
          "base_uri": "https://localhost:8080/"
        },
        "outputId": "733ecef9-8fd9-43c8-b5cf-1b234b62f5d4"
      },
      "outputs": [
        {
          "output_type": "stream",
          "name": "stdout",
          "text": [
            "Requirement already satisfied: gradio in /usr/local/lib/python3.10/dist-packages (5.6.0)\n",
            "Requirement already satisfied: aiofiles<24.0,>=22.0 in /usr/local/lib/python3.10/dist-packages (from gradio) (23.2.1)\n",
            "Requirement already satisfied: anyio<5.0,>=3.0 in /usr/local/lib/python3.10/dist-packages (from gradio) (3.7.1)\n",
            "Requirement already satisfied: fastapi<1.0,>=0.115.2 in /usr/local/lib/python3.10/dist-packages (from gradio) (0.115.5)\n",
            "Requirement already satisfied: ffmpy in /usr/local/lib/python3.10/dist-packages (from gradio) (0.4.0)\n",
            "Requirement already satisfied: gradio-client==1.4.3 in /usr/local/lib/python3.10/dist-packages (from gradio) (1.4.3)\n",
            "Requirement already satisfied: httpx>=0.24.1 in /usr/local/lib/python3.10/dist-packages (from gradio) (0.27.2)\n",
            "Requirement already satisfied: huggingface-hub>=0.25.1 in /usr/local/lib/python3.10/dist-packages (from gradio) (0.26.2)\n",
            "Requirement already satisfied: jinja2<4.0 in /usr/local/lib/python3.10/dist-packages (from gradio) (3.1.4)\n",
            "Requirement already satisfied: markupsafe~=2.0 in /usr/local/lib/python3.10/dist-packages (from gradio) (2.1.5)\n",
            "Requirement already satisfied: numpy<3.0,>=1.0 in /usr/local/lib/python3.10/dist-packages (from gradio) (1.26.4)\n",
            "Requirement already satisfied: orjson~=3.0 in /usr/local/lib/python3.10/dist-packages (from gradio) (3.10.11)\n",
            "Requirement already satisfied: packaging in /usr/local/lib/python3.10/dist-packages (from gradio) (24.2)\n",
            "Requirement already satisfied: pandas<3.0,>=1.0 in /usr/local/lib/python3.10/dist-packages (from gradio) (2.2.2)\n",
            "Requirement already satisfied: pillow<12.0,>=8.0 in /usr/local/lib/python3.10/dist-packages (from gradio) (11.0.0)\n",
            "Requirement already satisfied: pydantic>=2.0 in /usr/local/lib/python3.10/dist-packages (from gradio) (2.9.2)\n",
            "Requirement already satisfied: pydub in /usr/local/lib/python3.10/dist-packages (from gradio) (0.25.1)\n",
            "Requirement already satisfied: python-multipart==0.0.12 in /usr/local/lib/python3.10/dist-packages (from gradio) (0.0.12)\n",
            "Requirement already satisfied: pyyaml<7.0,>=5.0 in /usr/local/lib/python3.10/dist-packages (from gradio) (6.0.2)\n",
            "Requirement already satisfied: ruff>=0.2.2 in /usr/local/lib/python3.10/dist-packages (from gradio) (0.7.4)\n",
            "Requirement already satisfied: safehttpx<1.0,>=0.1.1 in /usr/local/lib/python3.10/dist-packages (from gradio) (0.1.1)\n",
            "Requirement already satisfied: semantic-version~=2.0 in /usr/local/lib/python3.10/dist-packages (from gradio) (2.10.0)\n",
            "Requirement already satisfied: starlette<1.0,>=0.40.0 in /usr/local/lib/python3.10/dist-packages (from gradio) (0.41.3)\n",
            "Requirement already satisfied: tomlkit==0.12.0 in /usr/local/lib/python3.10/dist-packages (from gradio) (0.12.0)\n",
            "Requirement already satisfied: typer<1.0,>=0.12 in /usr/local/lib/python3.10/dist-packages (from gradio) (0.13.0)\n",
            "Requirement already satisfied: typing-extensions~=4.0 in /usr/local/lib/python3.10/dist-packages (from gradio) (4.12.2)\n",
            "Requirement already satisfied: uvicorn>=0.14.0 in /usr/local/lib/python3.10/dist-packages (from gradio) (0.32.1)\n",
            "Requirement already satisfied: fsspec in /usr/local/lib/python3.10/dist-packages (from gradio-client==1.4.3->gradio) (2024.6.1)\n",
            "Requirement already satisfied: websockets<13.0,>=10.0 in /usr/local/lib/python3.10/dist-packages (from gradio-client==1.4.3->gradio) (12.0)\n",
            "Requirement already satisfied: idna>=2.8 in /usr/local/lib/python3.10/dist-packages (from anyio<5.0,>=3.0->gradio) (3.10)\n",
            "Requirement already satisfied: sniffio>=1.1 in /usr/local/lib/python3.10/dist-packages (from anyio<5.0,>=3.0->gradio) (1.3.1)\n",
            "Requirement already satisfied: exceptiongroup in /usr/local/lib/python3.10/dist-packages (from anyio<5.0,>=3.0->gradio) (1.2.2)\n",
            "Requirement already satisfied: certifi in /usr/local/lib/python3.10/dist-packages (from httpx>=0.24.1->gradio) (2024.8.30)\n",
            "Requirement already satisfied: httpcore==1.* in /usr/local/lib/python3.10/dist-packages (from httpx>=0.24.1->gradio) (1.0.7)\n",
            "Requirement already satisfied: h11<0.15,>=0.13 in /usr/local/lib/python3.10/dist-packages (from httpcore==1.*->httpx>=0.24.1->gradio) (0.14.0)\n",
            "Requirement already satisfied: filelock in /usr/local/lib/python3.10/dist-packages (from huggingface-hub>=0.25.1->gradio) (3.16.1)\n",
            "Requirement already satisfied: requests in /usr/local/lib/python3.10/dist-packages (from huggingface-hub>=0.25.1->gradio) (2.32.3)\n",
            "Requirement already satisfied: tqdm>=4.42.1 in /usr/local/lib/python3.10/dist-packages (from huggingface-hub>=0.25.1->gradio) (4.66.5)\n",
            "Requirement already satisfied: python-dateutil>=2.8.2 in /usr/local/lib/python3.10/dist-packages (from pandas<3.0,>=1.0->gradio) (2.8.2)\n",
            "Requirement already satisfied: pytz>=2020.1 in /usr/local/lib/python3.10/dist-packages (from pandas<3.0,>=1.0->gradio) (2024.2)\n",
            "Requirement already satisfied: tzdata>=2022.7 in /usr/local/lib/python3.10/dist-packages (from pandas<3.0,>=1.0->gradio) (2024.2)\n",
            "Requirement already satisfied: annotated-types>=0.6.0 in /usr/local/lib/python3.10/dist-packages (from pydantic>=2.0->gradio) (0.7.0)\n",
            "Requirement already satisfied: pydantic-core==2.23.4 in /usr/local/lib/python3.10/dist-packages (from pydantic>=2.0->gradio) (2.23.4)\n",
            "Requirement already satisfied: click>=8.0.0 in /usr/local/lib/python3.10/dist-packages (from typer<1.0,>=0.12->gradio) (8.1.7)\n",
            "Requirement already satisfied: shellingham>=1.3.0 in /usr/local/lib/python3.10/dist-packages (from typer<1.0,>=0.12->gradio) (1.5.4)\n",
            "Requirement already satisfied: rich>=10.11.0 in /usr/local/lib/python3.10/dist-packages (from typer<1.0,>=0.12->gradio) (13.9.4)\n",
            "Requirement already satisfied: six>=1.5 in /usr/local/lib/python3.10/dist-packages (from python-dateutil>=2.8.2->pandas<3.0,>=1.0->gradio) (1.16.0)\n",
            "Requirement already satisfied: markdown-it-py>=2.2.0 in /usr/local/lib/python3.10/dist-packages (from rich>=10.11.0->typer<1.0,>=0.12->gradio) (3.0.0)\n",
            "Requirement already satisfied: pygments<3.0.0,>=2.13.0 in /usr/local/lib/python3.10/dist-packages (from rich>=10.11.0->typer<1.0,>=0.12->gradio) (2.18.0)\n",
            "Requirement already satisfied: charset-normalizer<4,>=2 in /usr/local/lib/python3.10/dist-packages (from requests->huggingface-hub>=0.25.1->gradio) (3.4.0)\n",
            "Requirement already satisfied: urllib3<3,>=1.21.1 in /usr/local/lib/python3.10/dist-packages (from requests->huggingface-hub>=0.25.1->gradio) (2.2.3)\n",
            "Requirement already satisfied: mdurl~=0.1 in /usr/local/lib/python3.10/dist-packages (from markdown-it-py>=2.2.0->rich>=10.11.0->typer<1.0,>=0.12->gradio) (0.1.2)\n"
          ]
        }
      ],
      "source": [
        "!pip install gradio"
      ]
    },
    {
      "cell_type": "code",
      "execution_count": 28,
      "metadata": {
        "id": "jKo3AUk9V9SU",
        "colab": {
          "base_uri": "https://localhost:8080/",
          "height": 646
        },
        "outputId": "128040d5-c016-484b-8a0f-c163f1bfe5ba"
      },
      "outputs": [
        {
          "output_type": "stream",
          "name": "stdout",
          "text": [
            "Running Gradio in a Colab notebook requires sharing enabled. Automatically setting `share=True` (you can turn this off by setting `share=False` in `launch()` explicitly).\n",
            "\n",
            "Colab notebook detected. To show errors in colab notebook, set debug=True in launch()\n",
            "* Running on public URL: https://74bd0e5697b6f971c0.gradio.live\n",
            "\n",
            "This share link expires in 72 hours. For free permanent hosting and GPU upgrades, run `gradio deploy` from the terminal in the working directory to deploy to Hugging Face Spaces (https://huggingface.co/spaces)\n"
          ]
        },
        {
          "output_type": "display_data",
          "data": {
            "text/plain": [
              "<IPython.core.display.HTML object>"
            ],
            "text/html": [
              "<div><iframe src=\"https://74bd0e5697b6f971c0.gradio.live\" width=\"100%\" height=\"500\" allow=\"autoplay; camera; microphone; clipboard-read; clipboard-write;\" frameborder=\"0\" allowfullscreen></iframe></div>"
            ]
          },
          "metadata": {}
        },
        {
          "output_type": "execute_result",
          "data": {
            "text/plain": []
          },
          "metadata": {},
          "execution_count": 28
        }
      ],
      "source": [
        "import gradio as gr\n",
        "from typing import TypedDict\n",
        "\n",
        "class Hit(TypedDict):\n",
        "  cid: str\n",
        "  score: float\n",
        "  text: str\n",
        "\n",
        "demo: Optional[gr.Interface] = None  # Assign your gradio demo to this variable\n",
        "return_type = List[Hit]\n",
        "\n",
        "## YOUR_CODE_STARTS_HERE\n",
        "# Define the BM25 search function\n",
        "def search(query: str) -> List[Hit]:\n",
        "    \"\"\"\n",
        "    Search function for the BM25 engine.\n",
        "\n",
        "    Args:\n",
        "        query (str): The search query.\n",
        "\n",
        "    Returns:\n",
        "        List[Hit]: A list of results (documents) with their scores and texts.\n",
        "    \"\"\"\n",
        "    retriever = CSCBM25Retriever(index_dir=\"output/csc_bm25_index\")  # Use your index directory\n",
        "    results = retriever.retrieve(query=query, topk=10)\n",
        "\n",
        "    hits = []\n",
        "    for cid, score in results.items():\n",
        "        hits.append({\n",
        "            \"cid\": cid,\n",
        "            \"score\": score,\n",
        "            \"text\": retriever.index.doc_texts[retriever.index.cid2docid[cid]]\n",
        "        })\n",
        "    return hits\n",
        "\n",
        "# Define the Gradio app\n",
        "demo = gr.Interface(\n",
        "    fn=search,\n",
        "    inputs=gr.Textbox(label=\"Enter your search query\"),\n",
        "    outputs=gr.Textbox(),\n",
        "    title=\"BM25 Search Engine Demo\",\n",
        "    description=\"A demo search engine using BM25 index on the SciQ dataset.\"\n",
        ")\n",
        "\n",
        "## YOUR_CODE_ENDS_HERE\n",
        "demo.launch()"
      ]
    },
    {
      "cell_type": "code",
      "source": [
        "## TEST_CASES (result should be [{'cid': 'train-10966', 'score': 12.417802868109781, 'text': 'Bacteria can be used to make cheese from milk. The bacteria turn the milk sugars into lactic acid. The acid is what causes the milk to curdle to form cheese. Bacteria are also involved in producing other foods. Yogurt is made by using bacteria to ferment milk ( Figure below ). Fermenting cabbage with bacteria produces sauerkraut.'}, {'cid': 'train-0', 'score': 10.702840907292215, 'text': 'Mesophiles grow best in moderate temperature, typically between 25°C and 40°C (77°F and 104°F). Mesophiles are often found living in or on the bodies of humans or other animals. The optimal growth temperature of many pathogenic mesophiles is 37°C (98°F), the normal human body temperature. Mesophilic organisms have important uses in food preparation, including cheese, yogurt, beer and wine.'}, {'cid': 'dev-569', 'score': 9.78520518303728, 'text': 'A wide range of friendly bacteria live in the gut. Bacteria begin to populate the human digestive system right after birth. Gut bacteria include Lactobacillus , the bacteria commonly used in probiotic foods such as yogurt, and E. coli bacteria. About a third of all bacteria in the gut are members of the Bacteroides species. Bacteroides are key in helping us digest plant food.'}, {'cid': 'train-1133', 'score': 8.292180216871554, 'text': 'Osteoporosis is a disease in which bones lose mass and become more fragile than they should be. Osteoporosis also makes bones more likely to break. Two of the easiest ways to prevent osteoporosis are eating a healthy diet that has the right amount of calcium and vitamin D and to do some sort of weight-bearing exercise every day. Foods that are a good source of calcium include milk, yogurt, and cheese. Non-dairy sources of calcium include Chinese cabbage, kale, and broccoli. Many fruit juices, fruit drinks, tofu, and cereals have calcium added to them. It is recommended that teenagers get 1300 mg of calcium every day. For example, one cup (8 fl. oz. ) of milk provides about 300 mg of calcium, or about 30% of the daily requirement.'}, {'cid': 'train-5314', 'score': 8.211635318028303, 'text': 'Bacteria are often used to make cheese from milk. But making foods is not the only beneficial role of bacteria. For example, they also play an essential role in your gut!.'}, {'cid': 'train-6684', 'score': 8.168255107424818, 'text': 'Osteoporosis is a disease in which bones lose mass and become more fragile than they should be. Osteoporosis also makes bones more likely to break. Two of the easiest ways to prevent osteoporosis are eating a healthy diet that has the right amount of calcium and vitamin D and to do some sort of weight-bearing exercise every day. Foods that are a good source of calcium include milk, yogurt, and cheese. Non-dairy sources of calcium include Chinese cabbage, kale, and broccoli. Many fruit juices, fruit drinks, tofu, and cereals have calcium added to them. It is recommended that teenagers get 1300 mg of calcium every day. For example, one cup (8 fl. oz. ) of milk provides about 300 mg of calcium, or about 30% of the daily requirement. Other sources of calcium are pictured in the Figure below .'}, {'cid': 'train-7890', 'score': 7.930578384187305, 'text': 'Animals and some bacteria and fungi carry out lactic acid fermentation. Lactic acid is a waste product of this process. Our muscles perform lactic acid fermentation during strenuous exercise, since oxygen cannot be delivered to the muscles quickly enough. The buildup of lactic acid is believed to make your muscles sore after exercise. Bacteria that produce lactic acid are used to make cheese and yogurt. The lactic acid causes the proteins in milk to thicken. Lactic acid also causes tooth decay, because bacteria use the sugars in your mouth for energy.'}, {'cid': 'train-6916', 'score': 7.833677059320589, 'text': 'Yogurt is a good source of calcium. Yogurt also contains active cultures of \"good\" bacteria. Foods that contain these beneficial bacteria are sometimes called \"probiotic. \".'}, {'cid': 'train-10029', 'score': 7.725028405457634, 'text': 'Humans have collected and grown mushrooms for food for thousands of years. Figure below shows some of the many types of mushrooms that people eat. Yeasts are used in bread baking and brewing alcoholic beverages. Other fungi are used in fermenting a wide variety of foods, including soy sauce, tempeh, and cheeses. Blue cheese has its distinctive appearance and flavor because of the fungus growing though it (see Figure below ).'}, {'cid': 'train-10983', 'score': 7.334055808872751, 'text': \"No doubt you've had a sore throat before, and you've probably eaten cheese or yogurt. If so, then you've already encountered the amazing world of prokaryotes. Prokaryotes are single-celled organisms that lack a nucleus. They also lack other membrane-bound organelles. Prokaryotes are tiny. They can only be viewed with a microscope (see Figure below ). But they are the most numerous organisms on Earth. Without them, the world would be a very different place.\"}])\n",
        "import requests\n",
        "import json\n",
        "\n",
        "headers = {\"Content-Type\": \"application/json\"}\n",
        "data = {\"data\": [\"What type of organism is commonly used in preparation of foods such as cheese and yogurt?\"]}\n",
        "response = requests.post(f\"{demo.local_api_url.strip('/')}/call/predict\", headers=headers, data=json.dumps(data))\n",
        "event_id = response.json()[\"event_id\"]\n",
        "response = requests.get(f\"{demo.local_api_url.strip('/')}/call/predict/{event_id}\", stream=True)\n",
        "lines = list(response.iter_lines())\n",
        "print(eval(json.loads(lines[1].decode(\"UTF-8\").replace(\"data:\", \"\"))[0]))"
      ],
      "metadata": {
        "id": "MlhhjnSeHmzX",
        "colab": {
          "base_uri": "https://localhost:8080/"
        },
        "outputId": "0211130d-44d3-4d35-90a8-edf5e945d526"
      },
      "execution_count": 29,
      "outputs": [
        {
          "output_type": "stream",
          "name": "stdout",
          "text": [
            "[{'cid': 'train-10966', 'score': 13.210095405578613, 'text': 'Bacteria can be used to make cheese from milk. The bacteria turn the milk sugars into lactic acid. The acid is what causes the milk to curdle to form cheese. Bacteria are also involved in producing other foods. Yogurt is made by using bacteria to ferment milk ( Figure below ). Fermenting cabbage with bacteria produces sauerkraut.'}, {'cid': 'train-0', 'score': 11.36720085144043, 'text': 'Mesophiles grow best in moderate temperature, typically between 25°C and 40°C (77°F and 104°F). Mesophiles are often found living in or on the bodies of humans or other animals. The optimal growth temperature of many pathogenic mesophiles is 37°C (98°F), the normal human body temperature. Mesophilic organisms have important uses in food preparation, including cheese, yogurt, beer and wine.'}, {'cid': 'dev-569', 'score': 10.411890029907227, 'text': 'A wide range of friendly bacteria live in the gut. Bacteria begin to populate the human digestive system right after birth. Gut bacteria include Lactobacillus , the bacteria commonly used in probiotic foods such as yogurt, and E. coli bacteria. About a third of all bacteria in the gut are members of the Bacteroides species. Bacteroides are key in helping us digest plant food.'}, {'cid': 'train-5314', 'score': 9.153642654418945, 'text': 'Bacteria are often used to make cheese from milk. But making foods is not the only beneficial role of bacteria. For example, they also play an essential role in your gut!.'}, {'cid': 'train-6916', 'score': 8.483905792236328, 'text': 'Yogurt is a good source of calcium. Yogurt also contains active cultures of \"good\" bacteria. Foods that contain these beneficial bacteria are sometimes called \"probiotic. \".'}, {'cid': 'train-1133', 'score': 8.308619499206543, 'text': 'Osteoporosis is a disease in which bones lose mass and become more fragile than they should be. Osteoporosis also makes bones more likely to break. Two of the easiest ways to prevent osteoporosis are eating a healthy diet that has the right amount of calcium and vitamin D and to do some sort of weight-bearing exercise every day. Foods that are a good source of calcium include milk, yogurt, and cheese. Non-dairy sources of calcium include Chinese cabbage, kale, and broccoli. Many fruit juices, fruit drinks, tofu, and cereals have calcium added to them. It is recommended that teenagers get 1300 mg of calcium every day. For example, one cup (8 fl. oz. ) of milk provides about 300 mg of calcium, or about 30% of the daily requirement.'}, {'cid': 'train-7890', 'score': 8.15919303894043, 'text': 'Animals and some bacteria and fungi carry out lactic acid fermentation. Lactic acid is a waste product of this process. Our muscles perform lactic acid fermentation during strenuous exercise, since oxygen cannot be delivered to the muscles quickly enough. The buildup of lactic acid is believed to make your muscles sore after exercise. Bacteria that produce lactic acid are used to make cheese and yogurt. The lactic acid causes the proteins in milk to thicken. Lactic acid also causes tooth decay, because bacteria use the sugars in your mouth for energy.'}, {'cid': 'train-6684', 'score': 8.14355754852295, 'text': 'Osteoporosis is a disease in which bones lose mass and become more fragile than they should be. Osteoporosis also makes bones more likely to break. Two of the easiest ways to prevent osteoporosis are eating a healthy diet that has the right amount of calcium and vitamin D and to do some sort of weight-bearing exercise every day. Foods that are a good source of calcium include milk, yogurt, and cheese. Non-dairy sources of calcium include Chinese cabbage, kale, and broccoli. Many fruit juices, fruit drinks, tofu, and cereals have calcium added to them. It is recommended that teenagers get 1300 mg of calcium every day. For example, one cup (8 fl. oz. ) of milk provides about 300 mg of calcium, or about 30% of the daily requirement. Other sources of calcium are pictured in the Figure below .'}, {'cid': 'train-10029', 'score': 8.137770652770996, 'text': 'Humans have collected and grown mushrooms for food for thousands of years. Figure below shows some of the many types of mushrooms that people eat. Yeasts are used in bread baking and brewing alcoholic beverages. Other fungi are used in fermenting a wide variety of foods, including soy sauce, tempeh, and cheeses. Blue cheese has its distinctive appearance and flavor because of the fungus growing though it (see Figure below ).'}, {'cid': 'train-10983', 'score': 7.833222389221191, 'text': \"No doubt you've had a sore throat before, and you've probably eaten cheese or yogurt. If so, then you've already encountered the amazing world of prokaryotes. Prokaryotes are single-celled organisms that lack a nucleus. They also lack other membrane-bound organelles. Prokaryotes are tiny. They can only be viewed with a microscope (see Figure below ). But they are the most numerous organisms on Earth. Without them, the world would be a very different place.\"}]\n"
          ]
        }
      ]
    },
    {
      "cell_type": "code",
      "execution_count": 30,
      "metadata": {
        "id": "Wj4yCDXQea1b",
        "colab": {
          "base_uri": "https://localhost:8080/"
        },
        "outputId": "0d719755-7e0d-4d2e-e8a0-91731ebe7056"
      },
      "outputs": [
        {
          "output_type": "stream",
          "name": "stdout",
          "text": [
            "[{'cid': 'train-3853', 'score': 8.614161491394043, 'text': 'Autoimmune diseases occur when the immune system fails to recognize the body’s own molecules as “self,” or belonging to the person. Instead, it attacks body cells as though they were dangerous pathogens. There are more than 80 known autoimmune diseases. Recall that regulatory T cells help regulate the immune system. When autoimmune disorders occur, these regulatory T cells fail in their function. This results in damage to various organs and tissues. The type of autoimmune disorder depends on the type of body tissue that is affected.'}, {'cid': 'train-11549', 'score': 8.596598625183105, 'text': 'Immunologist The variations in peripheral proteins and carbohydrates that affect a cell’s recognition sites are of prime interest in immunology. These changes are taken into consideration in vaccine development. Many infectious diseases, such as smallpox, polio, diphtheria, and tetanus, were conquered by the use of vaccines. Immunologists are the physicians and scientists who research and develop vaccines, as well as treat and study allergies or other immune problems. Some immunologists study and treat autoimmune problems (diseases in which a person’s immune system attacks his or her own cells or tissues, such as lupus) and immunodeficiencies, whether acquired (such as acquired immunodeficiency syndrome, or AIDS) or hereditary (such as severe combined immunodeficiency, or SCID). Immunologists are called in to help treat organ transplantation patients, who must have their immune systems suppressed so that their bodies will not reject a transplanted organ. Some immunologists work to understand natural immunity and the effects of a person’s environment on it. Others work on questions about how the immune system affects diseases such as cancer. In the past, the importance of having a healthy immune system in preventing cancer was not at all understood. To work as an immunologist, a PhD or MD is required. In addition, immunologists undertake at least 2–3 years of training in an accredited program and must pass an examination given by the American Board of Allergy and Immunology. Immunologists must possess knowledge of the functions of the human body as they relate to issues beyond immunization, and knowledge of pharmacology and medical technology, such as medications, therapies, test materials, and surgical procedures.'}, {'cid': 'train-1691', 'score': 8.470029830932617, 'text': 'Autoimmune diseases occur when the immune system fails to recognize the body’s own molecules as “self,” or belonging to the person. Instead, it attacks body cells as though they were dangerous pathogens. Some relatively common autoimmune diseases are listed in Table below . These diseases cannot be cured, although they can be treated to relieve symptoms and prevent some of the long-term damage they cause.'}, {'cid': 'train-7688', 'score': 8.097203254699707, 'text': \"Immunodeficiency occurs when the immune system is not working properly. As a result, it cannot fight off pathogens that a normal immune system would be able to resist. Most commonly, immunodeficiency diseases occur when T or B cells (or both) do not work as well as they should, or when your body doesn't produce enough antibodies.\"}, {'cid': 'train-9715', 'score': 8.058815956115723, 'text': 'AIDS is an infectious disease of the immune system caused by a virus. Some diseases of the immune system are noninfectious. They include autoimmune diseases and allergies.'}, {'cid': 'test-362', 'score': 7.84877872467041, 'text': 'Autoimmune diseases occur when the immune system attacks normal body cells.'}, {'cid': 'test-264', 'score': 7.738605976104736, 'text': 'mutation. The chemical and/or physical agents that cause mutations are called mutagens. Diseases that occur due to mutations in critical DNA sequences are referred to as genetic diseases. Viruses are infectious agents composed of a tightly packed central core of nucleic acids enclosed by a protective shell of proteins. Viruses contain either DNA or RNA as their genetic material but not both. Some RNA viruses, calledretroviruses, synthesize DNA in the host cell from their RNA genome. The human immunodeficiency virus (HIV) causes acquired immunodeficiency syndrome (AIDS).'}, {'cid': 'dev-529', 'score': 7.51554012298584, 'text': 'The immune system is the body system that normally fights infections and defends against other causes of disease. When the immune system is working well, it usually keeps you from getting sick. But like any other body system, the immune system can have problems and develop diseases. Two types of immune system diseases are autoimmune diseases and allergies.'}, {'cid': 'test-933', 'score': 6.5692033767700195, 'text': 'Type 1 diabetes and other autoimmune diseases cannot be prevented. But choosing a healthy lifestyle can help prevent type 2 diabetes. Getting plenty of exercise, avoiding high-fat foods, and staying at a healthy weight can reduce the risk of developing this type of diabetes. This is especially important for people who have family members with the disease.'}, {'cid': 'train-10248', 'score': 5.7757368087768555, 'text': 'Immunodeficiency Immunodeficiency is a failure, insufficiency, or delay in the response of the immune system, which may be acquired or inherited. Immunodeficiency can allow pathogens or tumor cells to gain a foothold and replicate or proliferate to high enough levels so that the immune system becomes overwhelmed. Immunodeficiency can be acquired as a result of infection with certain pathogens that attack the cells of the immune system itself (such as HIV), chemical exposure (including certain medical treatments such as chemotherapy), malnutrition, or extreme stress. For instance, radiation exposure can destroy populations of lymphocytes and elevate an individual’s susceptibility to infections and cancer. Rarely, primary immunodeficiencies that are present from birth may also occur. For example, severe combined immunodeficiency disease (SCID) is a condition in which children are born without functioning B or T cells.'}]\n"
          ]
        }
      ],
      "source": [
        "## RESULT_CHECKING_POINT\n",
        "import requests\n",
        "import json\n",
        "\n",
        "headers = {\"Content-Type\": \"application/json\"}\n",
        "data = {\"data\": [\"What are the differences between immunodeficiency and autoimmune diseases?\"]}\n",
        "response = requests.post(f\"{demo.local_api_url.strip('/')}/call/predict\", headers=headers, data=json.dumps(data))\n",
        "event_id = response.json()[\"event_id\"]\n",
        "response = requests.get(f\"{demo.local_api_url.strip('/')}/call/predict/{event_id}\", stream=True)\n",
        "lines = list(response.iter_lines())\n",
        "print(eval(json.loads(lines[1].decode(\"UTF-8\").replace(\"data:\", \"\"))[0]))"
      ]
    },
    {
      "cell_type": "markdown",
      "metadata": {
        "id": "WtQd5hwtlqqA"
      },
      "source": [
        "## TASK3.2: upload it to Huggingface Space (2 point)"
      ]
    },
    {
      "cell_type": "markdown",
      "metadata": {
        "id": "TtG6Be_LpUPN"
      },
      "source": [
        "Upload your gradio app to Huggingface Space. Put your URL to the Space app in the variable `hf_space_url`.\n",
        "\n",
        "IMPORTANT!!! You can get this URL from:\n",
        "\n",
        "*Your Space page* -> *\"three dots\" on the top right* -> \"embedd this space\" -> \"Direct URL\"\n",
        "\n",
        "An example URL (not for our task) is: https://stabilityai-stable-diffusion-3-5-large.hf.space (from https://huggingface.co/spaces/stabilityai/stable-diffusion-3.5-large)"
      ]
    },
    {
      "cell_type": "code",
      "execution_count": null,
      "metadata": {
        "id": "PFMTi5f2pNna"
      },
      "outputs": [],
      "source": [
        "hf_space_url: Optional[str] = None  # Store your created Huggingface Space URL in this variable\n",
        "## YOUR_CODE_STARTS_HERE\n",
        "## YOUR_CODE_ENDS_HERE\n",
        "\n",
        "## RESULT_CHECKING_POINT\n",
        "import requests\n",
        "import json\n",
        "\n",
        "print(hf_space_url)\n",
        "headers = {\"Content-Type\": \"application/json\"}\n",
        "data = {\"data\": [\"What are the differences between immunodeficiency and autoimmune diseases?\"]}\n",
        "response = requests.post(f\"{hf_space_url.strip('/')}/call/predict\", headers=headers, data=json.dumps(data))\n",
        "event_id = response.json()[\"event_id\"]\n",
        "response = requests.get(f\"{hf_space_url.strip('/')}/call/predict/{event_id}\", stream=True)\n",
        "lines = list(response.iter_lines())\n",
        "print(eval(json.loads(lines[1].decode(\"UTF-8\").replace(\"data:\", \"\"))[0]))"
      ]
    },
    {
      "cell_type": "code",
      "source": [
        "## TEST_CASES  (result should be [{'cid': 'train-5587', 'score': 26.74537329473182, 'text': 'The entropy change is positive as the solid state changes into the liquid state. If the transition went from the liquid to the solid state, the numerical value for would be the same, but the sign would be reversed since we are going from a less ordered to a more ordered situation.'}, {'cid': 'train-2', 'score': 25.93532475963942, 'text': 'Summary Changes of state are examples of phase changes, or phase transitions. All phase changes are accompanied by changes in the energy of a system. Changes from a more-ordered state to a less-ordered state (such as a liquid to a gas) areendothermic. Changes from a less-ordered state to a more-ordered state (such as a liquid to a solid) are always exothermic. The conversion of a solid to a liquid is called fusion (or melting). The energy required to melt 1 mol of a substance is its enthalpy of fusion (ΔHfus). The energy change required to vaporize 1 mol of a substance is the enthalpy of vaporization (ΔHvap). The direct conversion of a solid to a gas is sublimation. The amount of energy needed to sublime 1 mol of a substance is its enthalpy of sublimation (ΔHsub) and is the sum of the enthalpies of fusion and vaporization. Plots of the temperature of a substance versus heat added or versus heating time at a constant rate of heating are calledheating curves. Heating curves relate temperature changes to phase transitions. A superheated liquid, a liquid at a temperature and pressure at which it should be a gas, is not stable. A cooling curve is not exactly the reverse of the heating curve because many liquids do not freeze at the expected temperature. Instead, they form a supercooled liquid, a metastable liquid phase that exists below the normal melting point. Supercooled liquids usually crystallize on standing, or adding a seed crystal of the same or another substance can induce crystallization.'}, {'cid': 'train-1658', 'score': 19.0263955721366, 'text': 'There are many examples in the chemical world of changes in entropy. Phase transitions are one obvious example. When a substance makes a transition from the liquid state to the gaseous state, the particles have many more possible arrangements, because they are no longer confined to a specified volume in which they are close to each other; gas particles can move freely throughout their container. Vaporization represents an increase in entropy. In the opposite direction, a liquid loses entropy when it freezes to a solid. Because solids have very ordered structures, there are fewer possible arrangements of particles that would result in the properties associated with a solid.'}, {'cid': 'train-5603', 'score': 16.14918704233498, 'text': 'Chemical energy, the energy stored in molecules and atoms, is one type of potential energy. Certain reactions can cause this energy to be released as heat. Other reactions require an input of energy, in which case the products will store more potential energy than the reactants. When we studied phase changes, we saw a relationship between energy and the state of matter. To melt a solid or boil a liquid, energy needs to be added in order to break up the intermolecular forces holding particles together in more ordered states. The reverse processes, condensation and freezing, release energy, because more favorable intermolecular interactions are formed.'}, {'cid': 'train-8144', 'score': 13.369317026860408, 'text': 'Solid carbon dioxide is also called dry ice. That’s because when it gets warmer and changes state, it doesn’t change to a liquid by melting. Instead, it changes directly to a gas without going through the liquid state. The process in which a solid changes directly to a gas is called sublimation . It occurs when energy is added to a solid such as dry ice. You can watch dry ice changing directly to a gas in the video at this URL: http://www. youtube. com/watch?v=J8mDGwf-5x0 .'}, {'cid': 'train-844', 'score': 12.931270408607555, 'text': 'The water droplets of fog form from water vapor in the air. Fog disappears when the water droplets change back to water vapor. These changes are examples of changes of state. A change of state occurs whenever matter changes from one state to another. Common states of matter on Earth are solid, liquid, and gas. Matter may change back and forth between any two of these states.'}, {'cid': 'train-9811', 'score': 12.904636038613848, 'text': 'Start right above point on the temperature axis and follow the red line vertically. At very low pressure, the particles of the substance are far apart from one another and the substance is in the gas state. As the pressure is increased, the particles of the substance are forced closer and closer together. Eventually the particles are pushed so close together that attractive forces cause the substance to condense into the liquid state. Continually increasing the pressure on the liquid will eventually cause the substance to solidify. For the majority of substances, the solid state is denser than the liquid state and so putting a liquid under great pressure will cause it to turn into a solid. The line segment represents the process of sublimation, where the substance changes directly from a solid to a gas. At a sufficiently low pressure, the liquid phase does not exist. The point labeled is called the triple point . The triple point is the one condition of temperature and pressure where the solid, liquid, and vapor states of a substance can all coexist at equilibrium.'}, {'cid': 'train-8260', 'score': 12.876342252900347, 'text': 'Unlike a crystalline solid, an amorphous solid is a solid that lacks an ordered internal structure. Some examples of amorphous solids include rubber, plastic, and gels. Glass is a very important amorphous solid that is made by cooling a mixture of materials in such a way that it does not crystallize. Glass is sometimes referred to as a supercooled liquid rather than a solid. If you have ever watched a glassblower in action, you have noticed that he takes advantage of the fact that amorphous solids do not have a distinct melting point like crystalline solids do. Instead, as glass is heated, it slowly softens and can be shaped into all sorts of interesting forms. When a glass object shatters, it does so in a very irregular way, unlike crystalline solids, which always break into fragments that have the same shape as dictated by its crystal system.'}, {'cid': 'train-317', 'score': 12.82403749702155, 'text': 'An amorphous solid is a solid that lacks an ordered internal structure.'}, {'cid': 'train-6203', 'score': 12.76684203292532, 'text': 'Matter can exist in one of several different states, including a gas, liquid, or solid state. States of matter differ in the amount of energy their molecules have. When matter recycles, it changes state by gaining or losing energy.'}]\n",
        "import requests\n",
        "import json\n",
        "\n",
        "headers = {\"Content-Type\": \"application/json\"}\n",
        "data = {\"data\": [\"Changes from a less-ordered state to a more-ordered state (such as a liquid to a solid) are always what?\"]}\n",
        "response = requests.post(f\"{hf_space_url.strip('/')}/call/predict\", headers=headers, data=json.dumps(data))\n",
        "event_id = response.json()[\"event_id\"]\n",
        "response = requests.get(f\"{hf_space_url.strip('/')}/call/predict/{event_id}\", stream=True)\n",
        "lines = list(response.iter_lines())\n",
        "print(eval(json.loads(lines[1].decode(\"UTF-8\").replace(\"data:\", \"\"))[0]))"
      ],
      "metadata": {
        "id": "J9DCY6UCH3w3"
      },
      "execution_count": null,
      "outputs": []
    },
    {
      "cell_type": "code",
      "execution_count": null,
      "metadata": {
        "id": "GMfgMiYDqCVp"
      },
      "outputs": [],
      "source": []
    }
  ],
  "metadata": {
    "colab": {
      "provenance": [],
      "toc_visible": true,
      "include_colab_link": true
    },
    "kernelspec": {
      "display_name": "Python 3",
      "name": "python3"
    },
    "language_info": {
      "name": "python"
    },
    "widgets": {
      "application/vnd.jupyter.widget-state+json": {
        "12c62701e7cd439f97f86444fb2a10ee": {
          "model_module": "@jupyter-widgets/controls",
          "model_name": "HBoxModel",
          "model_module_version": "1.5.0",
          "state": {
            "_dom_classes": [],
            "_model_module": "@jupyter-widgets/controls",
            "_model_module_version": "1.5.0",
            "_model_name": "HBoxModel",
            "_view_count": null,
            "_view_module": "@jupyter-widgets/controls",
            "_view_module_version": "1.5.0",
            "_view_name": "HBoxView",
            "box_style": "",
            "children": [
              "IPY_MODEL_216a4830cf26454d91a743069112d68e",
              "IPY_MODEL_bd32b1c9e2404a7e92d9d698d61e3891",
              "IPY_MODEL_3603141d1f324a6b99ecdddb9b322b10"
            ],
            "layout": "IPY_MODEL_e0a0096f1b3442a2a9d8c14571a84e06"
          }
        },
        "216a4830cf26454d91a743069112d68e": {
          "model_module": "@jupyter-widgets/controls",
          "model_name": "HTMLModel",
          "model_module_version": "1.5.0",
          "state": {
            "_dom_classes": [],
            "_model_module": "@jupyter-widgets/controls",
            "_model_module_version": "1.5.0",
            "_model_name": "HTMLModel",
            "_view_count": null,
            "_view_module": "@jupyter-widgets/controls",
            "_view_module_version": "1.5.0",
            "_view_name": "HTMLView",
            "description": "",
            "description_tooltip": null,
            "layout": "IPY_MODEL_70cd9e286d1a43ab872033abcdd1db50",
            "placeholder": "​",
            "style": "IPY_MODEL_63beeb1f6fbc44efac3cbfb5a679dfce",
            "value": "README.md: 100%"
          }
        },
        "bd32b1c9e2404a7e92d9d698d61e3891": {
          "model_module": "@jupyter-widgets/controls",
          "model_name": "FloatProgressModel",
          "model_module_version": "1.5.0",
          "state": {
            "_dom_classes": [],
            "_model_module": "@jupyter-widgets/controls",
            "_model_module_version": "1.5.0",
            "_model_name": "FloatProgressModel",
            "_view_count": null,
            "_view_module": "@jupyter-widgets/controls",
            "_view_module_version": "1.5.0",
            "_view_name": "ProgressView",
            "bar_style": "success",
            "description": "",
            "description_tooltip": null,
            "layout": "IPY_MODEL_d9247f6729e545e6b51e6a087b62f3e1",
            "max": 7016,
            "min": 0,
            "orientation": "horizontal",
            "style": "IPY_MODEL_8a9cd382b34a47eea9febe9828f433af",
            "value": 7016
          }
        },
        "3603141d1f324a6b99ecdddb9b322b10": {
          "model_module": "@jupyter-widgets/controls",
          "model_name": "HTMLModel",
          "model_module_version": "1.5.0",
          "state": {
            "_dom_classes": [],
            "_model_module": "@jupyter-widgets/controls",
            "_model_module_version": "1.5.0",
            "_model_name": "HTMLModel",
            "_view_count": null,
            "_view_module": "@jupyter-widgets/controls",
            "_view_module_version": "1.5.0",
            "_view_name": "HTMLView",
            "description": "",
            "description_tooltip": null,
            "layout": "IPY_MODEL_7d515782645e4b369770d5aa0a6afa93",
            "placeholder": "​",
            "style": "IPY_MODEL_e69868fd20df4b618ac56c18ab26545e",
            "value": " 7.02k/7.02k [00:00&lt;00:00, 227kB/s]"
          }
        },
        "e0a0096f1b3442a2a9d8c14571a84e06": {
          "model_module": "@jupyter-widgets/base",
          "model_name": "LayoutModel",
          "model_module_version": "1.2.0",
          "state": {
            "_model_module": "@jupyter-widgets/base",
            "_model_module_version": "1.2.0",
            "_model_name": "LayoutModel",
            "_view_count": null,
            "_view_module": "@jupyter-widgets/base",
            "_view_module_version": "1.2.0",
            "_view_name": "LayoutView",
            "align_content": null,
            "align_items": null,
            "align_self": null,
            "border": null,
            "bottom": null,
            "display": null,
            "flex": null,
            "flex_flow": null,
            "grid_area": null,
            "grid_auto_columns": null,
            "grid_auto_flow": null,
            "grid_auto_rows": null,
            "grid_column": null,
            "grid_gap": null,
            "grid_row": null,
            "grid_template_areas": null,
            "grid_template_columns": null,
            "grid_template_rows": null,
            "height": null,
            "justify_content": null,
            "justify_items": null,
            "left": null,
            "margin": null,
            "max_height": null,
            "max_width": null,
            "min_height": null,
            "min_width": null,
            "object_fit": null,
            "object_position": null,
            "order": null,
            "overflow": null,
            "overflow_x": null,
            "overflow_y": null,
            "padding": null,
            "right": null,
            "top": null,
            "visibility": null,
            "width": null
          }
        },
        "70cd9e286d1a43ab872033abcdd1db50": {
          "model_module": "@jupyter-widgets/base",
          "model_name": "LayoutModel",
          "model_module_version": "1.2.0",
          "state": {
            "_model_module": "@jupyter-widgets/base",
            "_model_module_version": "1.2.0",
            "_model_name": "LayoutModel",
            "_view_count": null,
            "_view_module": "@jupyter-widgets/base",
            "_view_module_version": "1.2.0",
            "_view_name": "LayoutView",
            "align_content": null,
            "align_items": null,
            "align_self": null,
            "border": null,
            "bottom": null,
            "display": null,
            "flex": null,
            "flex_flow": null,
            "grid_area": null,
            "grid_auto_columns": null,
            "grid_auto_flow": null,
            "grid_auto_rows": null,
            "grid_column": null,
            "grid_gap": null,
            "grid_row": null,
            "grid_template_areas": null,
            "grid_template_columns": null,
            "grid_template_rows": null,
            "height": null,
            "justify_content": null,
            "justify_items": null,
            "left": null,
            "margin": null,
            "max_height": null,
            "max_width": null,
            "min_height": null,
            "min_width": null,
            "object_fit": null,
            "object_position": null,
            "order": null,
            "overflow": null,
            "overflow_x": null,
            "overflow_y": null,
            "padding": null,
            "right": null,
            "top": null,
            "visibility": null,
            "width": null
          }
        },
        "63beeb1f6fbc44efac3cbfb5a679dfce": {
          "model_module": "@jupyter-widgets/controls",
          "model_name": "DescriptionStyleModel",
          "model_module_version": "1.5.0",
          "state": {
            "_model_module": "@jupyter-widgets/controls",
            "_model_module_version": "1.5.0",
            "_model_name": "DescriptionStyleModel",
            "_view_count": null,
            "_view_module": "@jupyter-widgets/base",
            "_view_module_version": "1.2.0",
            "_view_name": "StyleView",
            "description_width": ""
          }
        },
        "d9247f6729e545e6b51e6a087b62f3e1": {
          "model_module": "@jupyter-widgets/base",
          "model_name": "LayoutModel",
          "model_module_version": "1.2.0",
          "state": {
            "_model_module": "@jupyter-widgets/base",
            "_model_module_version": "1.2.0",
            "_model_name": "LayoutModel",
            "_view_count": null,
            "_view_module": "@jupyter-widgets/base",
            "_view_module_version": "1.2.0",
            "_view_name": "LayoutView",
            "align_content": null,
            "align_items": null,
            "align_self": null,
            "border": null,
            "bottom": null,
            "display": null,
            "flex": null,
            "flex_flow": null,
            "grid_area": null,
            "grid_auto_columns": null,
            "grid_auto_flow": null,
            "grid_auto_rows": null,
            "grid_column": null,
            "grid_gap": null,
            "grid_row": null,
            "grid_template_areas": null,
            "grid_template_columns": null,
            "grid_template_rows": null,
            "height": null,
            "justify_content": null,
            "justify_items": null,
            "left": null,
            "margin": null,
            "max_height": null,
            "max_width": null,
            "min_height": null,
            "min_width": null,
            "object_fit": null,
            "object_position": null,
            "order": null,
            "overflow": null,
            "overflow_x": null,
            "overflow_y": null,
            "padding": null,
            "right": null,
            "top": null,
            "visibility": null,
            "width": null
          }
        },
        "8a9cd382b34a47eea9febe9828f433af": {
          "model_module": "@jupyter-widgets/controls",
          "model_name": "ProgressStyleModel",
          "model_module_version": "1.5.0",
          "state": {
            "_model_module": "@jupyter-widgets/controls",
            "_model_module_version": "1.5.0",
            "_model_name": "ProgressStyleModel",
            "_view_count": null,
            "_view_module": "@jupyter-widgets/base",
            "_view_module_version": "1.2.0",
            "_view_name": "StyleView",
            "bar_color": null,
            "description_width": ""
          }
        },
        "7d515782645e4b369770d5aa0a6afa93": {
          "model_module": "@jupyter-widgets/base",
          "model_name": "LayoutModel",
          "model_module_version": "1.2.0",
          "state": {
            "_model_module": "@jupyter-widgets/base",
            "_model_module_version": "1.2.0",
            "_model_name": "LayoutModel",
            "_view_count": null,
            "_view_module": "@jupyter-widgets/base",
            "_view_module_version": "1.2.0",
            "_view_name": "LayoutView",
            "align_content": null,
            "align_items": null,
            "align_self": null,
            "border": null,
            "bottom": null,
            "display": null,
            "flex": null,
            "flex_flow": null,
            "grid_area": null,
            "grid_auto_columns": null,
            "grid_auto_flow": null,
            "grid_auto_rows": null,
            "grid_column": null,
            "grid_gap": null,
            "grid_row": null,
            "grid_template_areas": null,
            "grid_template_columns": null,
            "grid_template_rows": null,
            "height": null,
            "justify_content": null,
            "justify_items": null,
            "left": null,
            "margin": null,
            "max_height": null,
            "max_width": null,
            "min_height": null,
            "min_width": null,
            "object_fit": null,
            "object_position": null,
            "order": null,
            "overflow": null,
            "overflow_x": null,
            "overflow_y": null,
            "padding": null,
            "right": null,
            "top": null,
            "visibility": null,
            "width": null
          }
        },
        "e69868fd20df4b618ac56c18ab26545e": {
          "model_module": "@jupyter-widgets/controls",
          "model_name": "DescriptionStyleModel",
          "model_module_version": "1.5.0",
          "state": {
            "_model_module": "@jupyter-widgets/controls",
            "_model_module_version": "1.5.0",
            "_model_name": "DescriptionStyleModel",
            "_view_count": null,
            "_view_module": "@jupyter-widgets/base",
            "_view_module_version": "1.2.0",
            "_view_name": "StyleView",
            "description_width": ""
          }
        },
        "f4f1ae44cdc6412687b645ce6bb22a61": {
          "model_module": "@jupyter-widgets/controls",
          "model_name": "HBoxModel",
          "model_module_version": "1.5.0",
          "state": {
            "_dom_classes": [],
            "_model_module": "@jupyter-widgets/controls",
            "_model_module_version": "1.5.0",
            "_model_name": "HBoxModel",
            "_view_count": null,
            "_view_module": "@jupyter-widgets/controls",
            "_view_module_version": "1.5.0",
            "_view_name": "HBoxView",
            "box_style": "",
            "children": [
              "IPY_MODEL_68271d4643db45ae8d10e7cfeb6d1730",
              "IPY_MODEL_1dbcaf128ddb485887a7cecb61a270e0",
              "IPY_MODEL_dfaee57db58c425581a7a172d1023072"
            ],
            "layout": "IPY_MODEL_012847b0f5304b05a25362ea4875d44e"
          }
        },
        "68271d4643db45ae8d10e7cfeb6d1730": {
          "model_module": "@jupyter-widgets/controls",
          "model_name": "HTMLModel",
          "model_module_version": "1.5.0",
          "state": {
            "_dom_classes": [],
            "_model_module": "@jupyter-widgets/controls",
            "_model_module_version": "1.5.0",
            "_model_name": "HTMLModel",
            "_view_count": null,
            "_view_module": "@jupyter-widgets/controls",
            "_view_module_version": "1.5.0",
            "_view_name": "HTMLView",
            "description": "",
            "description_tooltip": null,
            "layout": "IPY_MODEL_97014180478043f091a2adb9a11c9dfa",
            "placeholder": "​",
            "style": "IPY_MODEL_2b52a8aab1f94ed49ea59883f97b514a",
            "value": "train-00000-of-00001.parquet: 100%"
          }
        },
        "1dbcaf128ddb485887a7cecb61a270e0": {
          "model_module": "@jupyter-widgets/controls",
          "model_name": "FloatProgressModel",
          "model_module_version": "1.5.0",
          "state": {
            "_dom_classes": [],
            "_model_module": "@jupyter-widgets/controls",
            "_model_module_version": "1.5.0",
            "_model_name": "FloatProgressModel",
            "_view_count": null,
            "_view_module": "@jupyter-widgets/controls",
            "_view_module_version": "1.5.0",
            "_view_name": "ProgressView",
            "bar_style": "success",
            "description": "",
            "description_tooltip": null,
            "layout": "IPY_MODEL_a2417b569cb94c93af32666e38e22c0d",
            "max": 3993099,
            "min": 0,
            "orientation": "horizontal",
            "style": "IPY_MODEL_8e28037d6f1b43a78e2d5743bd46d8f9",
            "value": 3993099
          }
        },
        "dfaee57db58c425581a7a172d1023072": {
          "model_module": "@jupyter-widgets/controls",
          "model_name": "HTMLModel",
          "model_module_version": "1.5.0",
          "state": {
            "_dom_classes": [],
            "_model_module": "@jupyter-widgets/controls",
            "_model_module_version": "1.5.0",
            "_model_name": "HTMLModel",
            "_view_count": null,
            "_view_module": "@jupyter-widgets/controls",
            "_view_module_version": "1.5.0",
            "_view_name": "HTMLView",
            "description": "",
            "description_tooltip": null,
            "layout": "IPY_MODEL_d161e82b7c1d4ca7a6c9512fbd941bad",
            "placeholder": "​",
            "style": "IPY_MODEL_3604d1ed261f450794535d26adef4139",
            "value": " 3.99M/3.99M [00:00&lt;00:00, 88.5MB/s]"
          }
        },
        "012847b0f5304b05a25362ea4875d44e": {
          "model_module": "@jupyter-widgets/base",
          "model_name": "LayoutModel",
          "model_module_version": "1.2.0",
          "state": {
            "_model_module": "@jupyter-widgets/base",
            "_model_module_version": "1.2.0",
            "_model_name": "LayoutModel",
            "_view_count": null,
            "_view_module": "@jupyter-widgets/base",
            "_view_module_version": "1.2.0",
            "_view_name": "LayoutView",
            "align_content": null,
            "align_items": null,
            "align_self": null,
            "border": null,
            "bottom": null,
            "display": null,
            "flex": null,
            "flex_flow": null,
            "grid_area": null,
            "grid_auto_columns": null,
            "grid_auto_flow": null,
            "grid_auto_rows": null,
            "grid_column": null,
            "grid_gap": null,
            "grid_row": null,
            "grid_template_areas": null,
            "grid_template_columns": null,
            "grid_template_rows": null,
            "height": null,
            "justify_content": null,
            "justify_items": null,
            "left": null,
            "margin": null,
            "max_height": null,
            "max_width": null,
            "min_height": null,
            "min_width": null,
            "object_fit": null,
            "object_position": null,
            "order": null,
            "overflow": null,
            "overflow_x": null,
            "overflow_y": null,
            "padding": null,
            "right": null,
            "top": null,
            "visibility": null,
            "width": null
          }
        },
        "97014180478043f091a2adb9a11c9dfa": {
          "model_module": "@jupyter-widgets/base",
          "model_name": "LayoutModel",
          "model_module_version": "1.2.0",
          "state": {
            "_model_module": "@jupyter-widgets/base",
            "_model_module_version": "1.2.0",
            "_model_name": "LayoutModel",
            "_view_count": null,
            "_view_module": "@jupyter-widgets/base",
            "_view_module_version": "1.2.0",
            "_view_name": "LayoutView",
            "align_content": null,
            "align_items": null,
            "align_self": null,
            "border": null,
            "bottom": null,
            "display": null,
            "flex": null,
            "flex_flow": null,
            "grid_area": null,
            "grid_auto_columns": null,
            "grid_auto_flow": null,
            "grid_auto_rows": null,
            "grid_column": null,
            "grid_gap": null,
            "grid_row": null,
            "grid_template_areas": null,
            "grid_template_columns": null,
            "grid_template_rows": null,
            "height": null,
            "justify_content": null,
            "justify_items": null,
            "left": null,
            "margin": null,
            "max_height": null,
            "max_width": null,
            "min_height": null,
            "min_width": null,
            "object_fit": null,
            "object_position": null,
            "order": null,
            "overflow": null,
            "overflow_x": null,
            "overflow_y": null,
            "padding": null,
            "right": null,
            "top": null,
            "visibility": null,
            "width": null
          }
        },
        "2b52a8aab1f94ed49ea59883f97b514a": {
          "model_module": "@jupyter-widgets/controls",
          "model_name": "DescriptionStyleModel",
          "model_module_version": "1.5.0",
          "state": {
            "_model_module": "@jupyter-widgets/controls",
            "_model_module_version": "1.5.0",
            "_model_name": "DescriptionStyleModel",
            "_view_count": null,
            "_view_module": "@jupyter-widgets/base",
            "_view_module_version": "1.2.0",
            "_view_name": "StyleView",
            "description_width": ""
          }
        },
        "a2417b569cb94c93af32666e38e22c0d": {
          "model_module": "@jupyter-widgets/base",
          "model_name": "LayoutModel",
          "model_module_version": "1.2.0",
          "state": {
            "_model_module": "@jupyter-widgets/base",
            "_model_module_version": "1.2.0",
            "_model_name": "LayoutModel",
            "_view_count": null,
            "_view_module": "@jupyter-widgets/base",
            "_view_module_version": "1.2.0",
            "_view_name": "LayoutView",
            "align_content": null,
            "align_items": null,
            "align_self": null,
            "border": null,
            "bottom": null,
            "display": null,
            "flex": null,
            "flex_flow": null,
            "grid_area": null,
            "grid_auto_columns": null,
            "grid_auto_flow": null,
            "grid_auto_rows": null,
            "grid_column": null,
            "grid_gap": null,
            "grid_row": null,
            "grid_template_areas": null,
            "grid_template_columns": null,
            "grid_template_rows": null,
            "height": null,
            "justify_content": null,
            "justify_items": null,
            "left": null,
            "margin": null,
            "max_height": null,
            "max_width": null,
            "min_height": null,
            "min_width": null,
            "object_fit": null,
            "object_position": null,
            "order": null,
            "overflow": null,
            "overflow_x": null,
            "overflow_y": null,
            "padding": null,
            "right": null,
            "top": null,
            "visibility": null,
            "width": null
          }
        },
        "8e28037d6f1b43a78e2d5743bd46d8f9": {
          "model_module": "@jupyter-widgets/controls",
          "model_name": "ProgressStyleModel",
          "model_module_version": "1.5.0",
          "state": {
            "_model_module": "@jupyter-widgets/controls",
            "_model_module_version": "1.5.0",
            "_model_name": "ProgressStyleModel",
            "_view_count": null,
            "_view_module": "@jupyter-widgets/base",
            "_view_module_version": "1.2.0",
            "_view_name": "StyleView",
            "bar_color": null,
            "description_width": ""
          }
        },
        "d161e82b7c1d4ca7a6c9512fbd941bad": {
          "model_module": "@jupyter-widgets/base",
          "model_name": "LayoutModel",
          "model_module_version": "1.2.0",
          "state": {
            "_model_module": "@jupyter-widgets/base",
            "_model_module_version": "1.2.0",
            "_model_name": "LayoutModel",
            "_view_count": null,
            "_view_module": "@jupyter-widgets/base",
            "_view_module_version": "1.2.0",
            "_view_name": "LayoutView",
            "align_content": null,
            "align_items": null,
            "align_self": null,
            "border": null,
            "bottom": null,
            "display": null,
            "flex": null,
            "flex_flow": null,
            "grid_area": null,
            "grid_auto_columns": null,
            "grid_auto_flow": null,
            "grid_auto_rows": null,
            "grid_column": null,
            "grid_gap": null,
            "grid_row": null,
            "grid_template_areas": null,
            "grid_template_columns": null,
            "grid_template_rows": null,
            "height": null,
            "justify_content": null,
            "justify_items": null,
            "left": null,
            "margin": null,
            "max_height": null,
            "max_width": null,
            "min_height": null,
            "min_width": null,
            "object_fit": null,
            "object_position": null,
            "order": null,
            "overflow": null,
            "overflow_x": null,
            "overflow_y": null,
            "padding": null,
            "right": null,
            "top": null,
            "visibility": null,
            "width": null
          }
        },
        "3604d1ed261f450794535d26adef4139": {
          "model_module": "@jupyter-widgets/controls",
          "model_name": "DescriptionStyleModel",
          "model_module_version": "1.5.0",
          "state": {
            "_model_module": "@jupyter-widgets/controls",
            "_model_module_version": "1.5.0",
            "_model_name": "DescriptionStyleModel",
            "_view_count": null,
            "_view_module": "@jupyter-widgets/base",
            "_view_module_version": "1.2.0",
            "_view_name": "StyleView",
            "description_width": ""
          }
        },
        "8ffbbd44786a4d12bea99e47ddd541a5": {
          "model_module": "@jupyter-widgets/controls",
          "model_name": "HBoxModel",
          "model_module_version": "1.5.0",
          "state": {
            "_dom_classes": [],
            "_model_module": "@jupyter-widgets/controls",
            "_model_module_version": "1.5.0",
            "_model_name": "HBoxModel",
            "_view_count": null,
            "_view_module": "@jupyter-widgets/controls",
            "_view_module_version": "1.5.0",
            "_view_name": "HBoxView",
            "box_style": "",
            "children": [
              "IPY_MODEL_9620e6d4190548d9bf0817e8968eef68",
              "IPY_MODEL_e5da4459328f4e44b01b54aac526305b",
              "IPY_MODEL_5eb57c93fefc458a9cc4e99fd731f33d"
            ],
            "layout": "IPY_MODEL_a7964fbb6d2e4b308f2d7a1c7ed4820f"
          }
        },
        "9620e6d4190548d9bf0817e8968eef68": {
          "model_module": "@jupyter-widgets/controls",
          "model_name": "HTMLModel",
          "model_module_version": "1.5.0",
          "state": {
            "_dom_classes": [],
            "_model_module": "@jupyter-widgets/controls",
            "_model_module_version": "1.5.0",
            "_model_name": "HTMLModel",
            "_view_count": null,
            "_view_module": "@jupyter-widgets/controls",
            "_view_module_version": "1.5.0",
            "_view_name": "HTMLView",
            "description": "",
            "description_tooltip": null,
            "layout": "IPY_MODEL_bae9a5553f524f53ac41ebfa34ffdd0d",
            "placeholder": "​",
            "style": "IPY_MODEL_a80238ad023f42ddbbe4627e1b4c0a4a",
            "value": "validation-00000-of-00001.parquet: 100%"
          }
        },
        "e5da4459328f4e44b01b54aac526305b": {
          "model_module": "@jupyter-widgets/controls",
          "model_name": "FloatProgressModel",
          "model_module_version": "1.5.0",
          "state": {
            "_dom_classes": [],
            "_model_module": "@jupyter-widgets/controls",
            "_model_module_version": "1.5.0",
            "_model_name": "FloatProgressModel",
            "_view_count": null,
            "_view_module": "@jupyter-widgets/controls",
            "_view_module_version": "1.5.0",
            "_view_name": "ProgressView",
            "bar_style": "success",
            "description": "",
            "description_tooltip": null,
            "layout": "IPY_MODEL_c05c7990c91d4c708872f52c3a0abd9b",
            "max": 338503,
            "min": 0,
            "orientation": "horizontal",
            "style": "IPY_MODEL_49ba716bf6dd4e1f84a244347d71da81",
            "value": 338503
          }
        },
        "5eb57c93fefc458a9cc4e99fd731f33d": {
          "model_module": "@jupyter-widgets/controls",
          "model_name": "HTMLModel",
          "model_module_version": "1.5.0",
          "state": {
            "_dom_classes": [],
            "_model_module": "@jupyter-widgets/controls",
            "_model_module_version": "1.5.0",
            "_model_name": "HTMLModel",
            "_view_count": null,
            "_view_module": "@jupyter-widgets/controls",
            "_view_module_version": "1.5.0",
            "_view_name": "HTMLView",
            "description": "",
            "description_tooltip": null,
            "layout": "IPY_MODEL_6cdf5b951b91499f8e0f43dc912a92e4",
            "placeholder": "​",
            "style": "IPY_MODEL_65cda0988e024252830af1eabb6f494e",
            "value": " 339k/339k [00:00&lt;00:00, 17.5MB/s]"
          }
        },
        "a7964fbb6d2e4b308f2d7a1c7ed4820f": {
          "model_module": "@jupyter-widgets/base",
          "model_name": "LayoutModel",
          "model_module_version": "1.2.0",
          "state": {
            "_model_module": "@jupyter-widgets/base",
            "_model_module_version": "1.2.0",
            "_model_name": "LayoutModel",
            "_view_count": null,
            "_view_module": "@jupyter-widgets/base",
            "_view_module_version": "1.2.0",
            "_view_name": "LayoutView",
            "align_content": null,
            "align_items": null,
            "align_self": null,
            "border": null,
            "bottom": null,
            "display": null,
            "flex": null,
            "flex_flow": null,
            "grid_area": null,
            "grid_auto_columns": null,
            "grid_auto_flow": null,
            "grid_auto_rows": null,
            "grid_column": null,
            "grid_gap": null,
            "grid_row": null,
            "grid_template_areas": null,
            "grid_template_columns": null,
            "grid_template_rows": null,
            "height": null,
            "justify_content": null,
            "justify_items": null,
            "left": null,
            "margin": null,
            "max_height": null,
            "max_width": null,
            "min_height": null,
            "min_width": null,
            "object_fit": null,
            "object_position": null,
            "order": null,
            "overflow": null,
            "overflow_x": null,
            "overflow_y": null,
            "padding": null,
            "right": null,
            "top": null,
            "visibility": null,
            "width": null
          }
        },
        "bae9a5553f524f53ac41ebfa34ffdd0d": {
          "model_module": "@jupyter-widgets/base",
          "model_name": "LayoutModel",
          "model_module_version": "1.2.0",
          "state": {
            "_model_module": "@jupyter-widgets/base",
            "_model_module_version": "1.2.0",
            "_model_name": "LayoutModel",
            "_view_count": null,
            "_view_module": "@jupyter-widgets/base",
            "_view_module_version": "1.2.0",
            "_view_name": "LayoutView",
            "align_content": null,
            "align_items": null,
            "align_self": null,
            "border": null,
            "bottom": null,
            "display": null,
            "flex": null,
            "flex_flow": null,
            "grid_area": null,
            "grid_auto_columns": null,
            "grid_auto_flow": null,
            "grid_auto_rows": null,
            "grid_column": null,
            "grid_gap": null,
            "grid_row": null,
            "grid_template_areas": null,
            "grid_template_columns": null,
            "grid_template_rows": null,
            "height": null,
            "justify_content": null,
            "justify_items": null,
            "left": null,
            "margin": null,
            "max_height": null,
            "max_width": null,
            "min_height": null,
            "min_width": null,
            "object_fit": null,
            "object_position": null,
            "order": null,
            "overflow": null,
            "overflow_x": null,
            "overflow_y": null,
            "padding": null,
            "right": null,
            "top": null,
            "visibility": null,
            "width": null
          }
        },
        "a80238ad023f42ddbbe4627e1b4c0a4a": {
          "model_module": "@jupyter-widgets/controls",
          "model_name": "DescriptionStyleModel",
          "model_module_version": "1.5.0",
          "state": {
            "_model_module": "@jupyter-widgets/controls",
            "_model_module_version": "1.5.0",
            "_model_name": "DescriptionStyleModel",
            "_view_count": null,
            "_view_module": "@jupyter-widgets/base",
            "_view_module_version": "1.2.0",
            "_view_name": "StyleView",
            "description_width": ""
          }
        },
        "c05c7990c91d4c708872f52c3a0abd9b": {
          "model_module": "@jupyter-widgets/base",
          "model_name": "LayoutModel",
          "model_module_version": "1.2.0",
          "state": {
            "_model_module": "@jupyter-widgets/base",
            "_model_module_version": "1.2.0",
            "_model_name": "LayoutModel",
            "_view_count": null,
            "_view_module": "@jupyter-widgets/base",
            "_view_module_version": "1.2.0",
            "_view_name": "LayoutView",
            "align_content": null,
            "align_items": null,
            "align_self": null,
            "border": null,
            "bottom": null,
            "display": null,
            "flex": null,
            "flex_flow": null,
            "grid_area": null,
            "grid_auto_columns": null,
            "grid_auto_flow": null,
            "grid_auto_rows": null,
            "grid_column": null,
            "grid_gap": null,
            "grid_row": null,
            "grid_template_areas": null,
            "grid_template_columns": null,
            "grid_template_rows": null,
            "height": null,
            "justify_content": null,
            "justify_items": null,
            "left": null,
            "margin": null,
            "max_height": null,
            "max_width": null,
            "min_height": null,
            "min_width": null,
            "object_fit": null,
            "object_position": null,
            "order": null,
            "overflow": null,
            "overflow_x": null,
            "overflow_y": null,
            "padding": null,
            "right": null,
            "top": null,
            "visibility": null,
            "width": null
          }
        },
        "49ba716bf6dd4e1f84a244347d71da81": {
          "model_module": "@jupyter-widgets/controls",
          "model_name": "ProgressStyleModel",
          "model_module_version": "1.5.0",
          "state": {
            "_model_module": "@jupyter-widgets/controls",
            "_model_module_version": "1.5.0",
            "_model_name": "ProgressStyleModel",
            "_view_count": null,
            "_view_module": "@jupyter-widgets/base",
            "_view_module_version": "1.2.0",
            "_view_name": "StyleView",
            "bar_color": null,
            "description_width": ""
          }
        },
        "6cdf5b951b91499f8e0f43dc912a92e4": {
          "model_module": "@jupyter-widgets/base",
          "model_name": "LayoutModel",
          "model_module_version": "1.2.0",
          "state": {
            "_model_module": "@jupyter-widgets/base",
            "_model_module_version": "1.2.0",
            "_model_name": "LayoutModel",
            "_view_count": null,
            "_view_module": "@jupyter-widgets/base",
            "_view_module_version": "1.2.0",
            "_view_name": "LayoutView",
            "align_content": null,
            "align_items": null,
            "align_self": null,
            "border": null,
            "bottom": null,
            "display": null,
            "flex": null,
            "flex_flow": null,
            "grid_area": null,
            "grid_auto_columns": null,
            "grid_auto_flow": null,
            "grid_auto_rows": null,
            "grid_column": null,
            "grid_gap": null,
            "grid_row": null,
            "grid_template_areas": null,
            "grid_template_columns": null,
            "grid_template_rows": null,
            "height": null,
            "justify_content": null,
            "justify_items": null,
            "left": null,
            "margin": null,
            "max_height": null,
            "max_width": null,
            "min_height": null,
            "min_width": null,
            "object_fit": null,
            "object_position": null,
            "order": null,
            "overflow": null,
            "overflow_x": null,
            "overflow_y": null,
            "padding": null,
            "right": null,
            "top": null,
            "visibility": null,
            "width": null
          }
        },
        "65cda0988e024252830af1eabb6f494e": {
          "model_module": "@jupyter-widgets/controls",
          "model_name": "DescriptionStyleModel",
          "model_module_version": "1.5.0",
          "state": {
            "_model_module": "@jupyter-widgets/controls",
            "_model_module_version": "1.5.0",
            "_model_name": "DescriptionStyleModel",
            "_view_count": null,
            "_view_module": "@jupyter-widgets/base",
            "_view_module_version": "1.2.0",
            "_view_name": "StyleView",
            "description_width": ""
          }
        },
        "53ec98e5854147cc941eb671316541bc": {
          "model_module": "@jupyter-widgets/controls",
          "model_name": "HBoxModel",
          "model_module_version": "1.5.0",
          "state": {
            "_dom_classes": [],
            "_model_module": "@jupyter-widgets/controls",
            "_model_module_version": "1.5.0",
            "_model_name": "HBoxModel",
            "_view_count": null,
            "_view_module": "@jupyter-widgets/controls",
            "_view_module_version": "1.5.0",
            "_view_name": "HBoxView",
            "box_style": "",
            "children": [
              "IPY_MODEL_eefff75a0d0940399885745a2550fc8f",
              "IPY_MODEL_2094c51cbe3c48a4afc9e55b42a3c9a6",
              "IPY_MODEL_882b556a420b47cfbdd93f572fb79d82"
            ],
            "layout": "IPY_MODEL_ea5dce366c654861b1ab3394ffd2aed3"
          }
        },
        "eefff75a0d0940399885745a2550fc8f": {
          "model_module": "@jupyter-widgets/controls",
          "model_name": "HTMLModel",
          "model_module_version": "1.5.0",
          "state": {
            "_dom_classes": [],
            "_model_module": "@jupyter-widgets/controls",
            "_model_module_version": "1.5.0",
            "_model_name": "HTMLModel",
            "_view_count": null,
            "_view_module": "@jupyter-widgets/controls",
            "_view_module_version": "1.5.0",
            "_view_name": "HTMLView",
            "description": "",
            "description_tooltip": null,
            "layout": "IPY_MODEL_648fa63d9bad4d37b4824555dd6f5fb3",
            "placeholder": "​",
            "style": "IPY_MODEL_1d6d00b5d8014801964d4567c9ee43cc",
            "value": "test-00000-of-00001.parquet: 100%"
          }
        },
        "2094c51cbe3c48a4afc9e55b42a3c9a6": {
          "model_module": "@jupyter-widgets/controls",
          "model_name": "FloatProgressModel",
          "model_module_version": "1.5.0",
          "state": {
            "_dom_classes": [],
            "_model_module": "@jupyter-widgets/controls",
            "_model_module_version": "1.5.0",
            "_model_name": "FloatProgressModel",
            "_view_count": null,
            "_view_module": "@jupyter-widgets/controls",
            "_view_module_version": "1.5.0",
            "_view_name": "ProgressView",
            "bar_style": "success",
            "description": "",
            "description_tooltip": null,
            "layout": "IPY_MODEL_7b321b4a0b8c495ab88d6e3328881ebd",
            "max": 342808,
            "min": 0,
            "orientation": "horizontal",
            "style": "IPY_MODEL_e41a0645631e4f81b569ac87ac409fc6",
            "value": 342808
          }
        },
        "882b556a420b47cfbdd93f572fb79d82": {
          "model_module": "@jupyter-widgets/controls",
          "model_name": "HTMLModel",
          "model_module_version": "1.5.0",
          "state": {
            "_dom_classes": [],
            "_model_module": "@jupyter-widgets/controls",
            "_model_module_version": "1.5.0",
            "_model_name": "HTMLModel",
            "_view_count": null,
            "_view_module": "@jupyter-widgets/controls",
            "_view_module_version": "1.5.0",
            "_view_name": "HTMLView",
            "description": "",
            "description_tooltip": null,
            "layout": "IPY_MODEL_7088e2d2e5a54567bb2cfc4c5430fcf3",
            "placeholder": "​",
            "style": "IPY_MODEL_fa0dc120ee9b41b794ccc55aaa7aef30",
            "value": " 343k/343k [00:00&lt;00:00, 19.4MB/s]"
          }
        },
        "ea5dce366c654861b1ab3394ffd2aed3": {
          "model_module": "@jupyter-widgets/base",
          "model_name": "LayoutModel",
          "model_module_version": "1.2.0",
          "state": {
            "_model_module": "@jupyter-widgets/base",
            "_model_module_version": "1.2.0",
            "_model_name": "LayoutModel",
            "_view_count": null,
            "_view_module": "@jupyter-widgets/base",
            "_view_module_version": "1.2.0",
            "_view_name": "LayoutView",
            "align_content": null,
            "align_items": null,
            "align_self": null,
            "border": null,
            "bottom": null,
            "display": null,
            "flex": null,
            "flex_flow": null,
            "grid_area": null,
            "grid_auto_columns": null,
            "grid_auto_flow": null,
            "grid_auto_rows": null,
            "grid_column": null,
            "grid_gap": null,
            "grid_row": null,
            "grid_template_areas": null,
            "grid_template_columns": null,
            "grid_template_rows": null,
            "height": null,
            "justify_content": null,
            "justify_items": null,
            "left": null,
            "margin": null,
            "max_height": null,
            "max_width": null,
            "min_height": null,
            "min_width": null,
            "object_fit": null,
            "object_position": null,
            "order": null,
            "overflow": null,
            "overflow_x": null,
            "overflow_y": null,
            "padding": null,
            "right": null,
            "top": null,
            "visibility": null,
            "width": null
          }
        },
        "648fa63d9bad4d37b4824555dd6f5fb3": {
          "model_module": "@jupyter-widgets/base",
          "model_name": "LayoutModel",
          "model_module_version": "1.2.0",
          "state": {
            "_model_module": "@jupyter-widgets/base",
            "_model_module_version": "1.2.0",
            "_model_name": "LayoutModel",
            "_view_count": null,
            "_view_module": "@jupyter-widgets/base",
            "_view_module_version": "1.2.0",
            "_view_name": "LayoutView",
            "align_content": null,
            "align_items": null,
            "align_self": null,
            "border": null,
            "bottom": null,
            "display": null,
            "flex": null,
            "flex_flow": null,
            "grid_area": null,
            "grid_auto_columns": null,
            "grid_auto_flow": null,
            "grid_auto_rows": null,
            "grid_column": null,
            "grid_gap": null,
            "grid_row": null,
            "grid_template_areas": null,
            "grid_template_columns": null,
            "grid_template_rows": null,
            "height": null,
            "justify_content": null,
            "justify_items": null,
            "left": null,
            "margin": null,
            "max_height": null,
            "max_width": null,
            "min_height": null,
            "min_width": null,
            "object_fit": null,
            "object_position": null,
            "order": null,
            "overflow": null,
            "overflow_x": null,
            "overflow_y": null,
            "padding": null,
            "right": null,
            "top": null,
            "visibility": null,
            "width": null
          }
        },
        "1d6d00b5d8014801964d4567c9ee43cc": {
          "model_module": "@jupyter-widgets/controls",
          "model_name": "DescriptionStyleModel",
          "model_module_version": "1.5.0",
          "state": {
            "_model_module": "@jupyter-widgets/controls",
            "_model_module_version": "1.5.0",
            "_model_name": "DescriptionStyleModel",
            "_view_count": null,
            "_view_module": "@jupyter-widgets/base",
            "_view_module_version": "1.2.0",
            "_view_name": "StyleView",
            "description_width": ""
          }
        },
        "7b321b4a0b8c495ab88d6e3328881ebd": {
          "model_module": "@jupyter-widgets/base",
          "model_name": "LayoutModel",
          "model_module_version": "1.2.0",
          "state": {
            "_model_module": "@jupyter-widgets/base",
            "_model_module_version": "1.2.0",
            "_model_name": "LayoutModel",
            "_view_count": null,
            "_view_module": "@jupyter-widgets/base",
            "_view_module_version": "1.2.0",
            "_view_name": "LayoutView",
            "align_content": null,
            "align_items": null,
            "align_self": null,
            "border": null,
            "bottom": null,
            "display": null,
            "flex": null,
            "flex_flow": null,
            "grid_area": null,
            "grid_auto_columns": null,
            "grid_auto_flow": null,
            "grid_auto_rows": null,
            "grid_column": null,
            "grid_gap": null,
            "grid_row": null,
            "grid_template_areas": null,
            "grid_template_columns": null,
            "grid_template_rows": null,
            "height": null,
            "justify_content": null,
            "justify_items": null,
            "left": null,
            "margin": null,
            "max_height": null,
            "max_width": null,
            "min_height": null,
            "min_width": null,
            "object_fit": null,
            "object_position": null,
            "order": null,
            "overflow": null,
            "overflow_x": null,
            "overflow_y": null,
            "padding": null,
            "right": null,
            "top": null,
            "visibility": null,
            "width": null
          }
        },
        "e41a0645631e4f81b569ac87ac409fc6": {
          "model_module": "@jupyter-widgets/controls",
          "model_name": "ProgressStyleModel",
          "model_module_version": "1.5.0",
          "state": {
            "_model_module": "@jupyter-widgets/controls",
            "_model_module_version": "1.5.0",
            "_model_name": "ProgressStyleModel",
            "_view_count": null,
            "_view_module": "@jupyter-widgets/base",
            "_view_module_version": "1.2.0",
            "_view_name": "StyleView",
            "bar_color": null,
            "description_width": ""
          }
        },
        "7088e2d2e5a54567bb2cfc4c5430fcf3": {
          "model_module": "@jupyter-widgets/base",
          "model_name": "LayoutModel",
          "model_module_version": "1.2.0",
          "state": {
            "_model_module": "@jupyter-widgets/base",
            "_model_module_version": "1.2.0",
            "_model_name": "LayoutModel",
            "_view_count": null,
            "_view_module": "@jupyter-widgets/base",
            "_view_module_version": "1.2.0",
            "_view_name": "LayoutView",
            "align_content": null,
            "align_items": null,
            "align_self": null,
            "border": null,
            "bottom": null,
            "display": null,
            "flex": null,
            "flex_flow": null,
            "grid_area": null,
            "grid_auto_columns": null,
            "grid_auto_flow": null,
            "grid_auto_rows": null,
            "grid_column": null,
            "grid_gap": null,
            "grid_row": null,
            "grid_template_areas": null,
            "grid_template_columns": null,
            "grid_template_rows": null,
            "height": null,
            "justify_content": null,
            "justify_items": null,
            "left": null,
            "margin": null,
            "max_height": null,
            "max_width": null,
            "min_height": null,
            "min_width": null,
            "object_fit": null,
            "object_position": null,
            "order": null,
            "overflow": null,
            "overflow_x": null,
            "overflow_y": null,
            "padding": null,
            "right": null,
            "top": null,
            "visibility": null,
            "width": null
          }
        },
        "fa0dc120ee9b41b794ccc55aaa7aef30": {
          "model_module": "@jupyter-widgets/controls",
          "model_name": "DescriptionStyleModel",
          "model_module_version": "1.5.0",
          "state": {
            "_model_module": "@jupyter-widgets/controls",
            "_model_module_version": "1.5.0",
            "_model_name": "DescriptionStyleModel",
            "_view_count": null,
            "_view_module": "@jupyter-widgets/base",
            "_view_module_version": "1.2.0",
            "_view_name": "StyleView",
            "description_width": ""
          }
        },
        "d8700dccedf247d4ba8e55aadc9f1067": {
          "model_module": "@jupyter-widgets/controls",
          "model_name": "HBoxModel",
          "model_module_version": "1.5.0",
          "state": {
            "_dom_classes": [],
            "_model_module": "@jupyter-widgets/controls",
            "_model_module_version": "1.5.0",
            "_model_name": "HBoxModel",
            "_view_count": null,
            "_view_module": "@jupyter-widgets/controls",
            "_view_module_version": "1.5.0",
            "_view_name": "HBoxView",
            "box_style": "",
            "children": [
              "IPY_MODEL_9524df42be1c413989277843b344b256",
              "IPY_MODEL_200e8200951e43f1a789eb3d1ce9438a",
              "IPY_MODEL_bc3532cdc8104fb387d14dadcf39058a"
            ],
            "layout": "IPY_MODEL_0d80ebfd4b8644678d6bb03228bf305d"
          }
        },
        "9524df42be1c413989277843b344b256": {
          "model_module": "@jupyter-widgets/controls",
          "model_name": "HTMLModel",
          "model_module_version": "1.5.0",
          "state": {
            "_dom_classes": [],
            "_model_module": "@jupyter-widgets/controls",
            "_model_module_version": "1.5.0",
            "_model_name": "HTMLModel",
            "_view_count": null,
            "_view_module": "@jupyter-widgets/controls",
            "_view_module_version": "1.5.0",
            "_view_name": "HTMLView",
            "description": "",
            "description_tooltip": null,
            "layout": "IPY_MODEL_893b076bb8db405c933152e3e7c40625",
            "placeholder": "​",
            "style": "IPY_MODEL_5bd66da9f31040b492178b55ab6ea32b",
            "value": "Generating train split: 100%"
          }
        },
        "200e8200951e43f1a789eb3d1ce9438a": {
          "model_module": "@jupyter-widgets/controls",
          "model_name": "FloatProgressModel",
          "model_module_version": "1.5.0",
          "state": {
            "_dom_classes": [],
            "_model_module": "@jupyter-widgets/controls",
            "_model_module_version": "1.5.0",
            "_model_name": "FloatProgressModel",
            "_view_count": null,
            "_view_module": "@jupyter-widgets/controls",
            "_view_module_version": "1.5.0",
            "_view_name": "ProgressView",
            "bar_style": "success",
            "description": "",
            "description_tooltip": null,
            "layout": "IPY_MODEL_87d25452a84741a7826529bee35f9c6b",
            "max": 11679,
            "min": 0,
            "orientation": "horizontal",
            "style": "IPY_MODEL_81c6fce6a74d43778351a4474acf952c",
            "value": 11679
          }
        },
        "bc3532cdc8104fb387d14dadcf39058a": {
          "model_module": "@jupyter-widgets/controls",
          "model_name": "HTMLModel",
          "model_module_version": "1.5.0",
          "state": {
            "_dom_classes": [],
            "_model_module": "@jupyter-widgets/controls",
            "_model_module_version": "1.5.0",
            "_model_name": "HTMLModel",
            "_view_count": null,
            "_view_module": "@jupyter-widgets/controls",
            "_view_module_version": "1.5.0",
            "_view_name": "HTMLView",
            "description": "",
            "description_tooltip": null,
            "layout": "IPY_MODEL_b0cea47e5a094499b8c4cb11ee3fffd4",
            "placeholder": "​",
            "style": "IPY_MODEL_1f695d972f154524b8c953539c87f3fc",
            "value": " 11679/11679 [00:00&lt;00:00, 112396.66 examples/s]"
          }
        },
        "0d80ebfd4b8644678d6bb03228bf305d": {
          "model_module": "@jupyter-widgets/base",
          "model_name": "LayoutModel",
          "model_module_version": "1.2.0",
          "state": {
            "_model_module": "@jupyter-widgets/base",
            "_model_module_version": "1.2.0",
            "_model_name": "LayoutModel",
            "_view_count": null,
            "_view_module": "@jupyter-widgets/base",
            "_view_module_version": "1.2.0",
            "_view_name": "LayoutView",
            "align_content": null,
            "align_items": null,
            "align_self": null,
            "border": null,
            "bottom": null,
            "display": null,
            "flex": null,
            "flex_flow": null,
            "grid_area": null,
            "grid_auto_columns": null,
            "grid_auto_flow": null,
            "grid_auto_rows": null,
            "grid_column": null,
            "grid_gap": null,
            "grid_row": null,
            "grid_template_areas": null,
            "grid_template_columns": null,
            "grid_template_rows": null,
            "height": null,
            "justify_content": null,
            "justify_items": null,
            "left": null,
            "margin": null,
            "max_height": null,
            "max_width": null,
            "min_height": null,
            "min_width": null,
            "object_fit": null,
            "object_position": null,
            "order": null,
            "overflow": null,
            "overflow_x": null,
            "overflow_y": null,
            "padding": null,
            "right": null,
            "top": null,
            "visibility": null,
            "width": null
          }
        },
        "893b076bb8db405c933152e3e7c40625": {
          "model_module": "@jupyter-widgets/base",
          "model_name": "LayoutModel",
          "model_module_version": "1.2.0",
          "state": {
            "_model_module": "@jupyter-widgets/base",
            "_model_module_version": "1.2.0",
            "_model_name": "LayoutModel",
            "_view_count": null,
            "_view_module": "@jupyter-widgets/base",
            "_view_module_version": "1.2.0",
            "_view_name": "LayoutView",
            "align_content": null,
            "align_items": null,
            "align_self": null,
            "border": null,
            "bottom": null,
            "display": null,
            "flex": null,
            "flex_flow": null,
            "grid_area": null,
            "grid_auto_columns": null,
            "grid_auto_flow": null,
            "grid_auto_rows": null,
            "grid_column": null,
            "grid_gap": null,
            "grid_row": null,
            "grid_template_areas": null,
            "grid_template_columns": null,
            "grid_template_rows": null,
            "height": null,
            "justify_content": null,
            "justify_items": null,
            "left": null,
            "margin": null,
            "max_height": null,
            "max_width": null,
            "min_height": null,
            "min_width": null,
            "object_fit": null,
            "object_position": null,
            "order": null,
            "overflow": null,
            "overflow_x": null,
            "overflow_y": null,
            "padding": null,
            "right": null,
            "top": null,
            "visibility": null,
            "width": null
          }
        },
        "5bd66da9f31040b492178b55ab6ea32b": {
          "model_module": "@jupyter-widgets/controls",
          "model_name": "DescriptionStyleModel",
          "model_module_version": "1.5.0",
          "state": {
            "_model_module": "@jupyter-widgets/controls",
            "_model_module_version": "1.5.0",
            "_model_name": "DescriptionStyleModel",
            "_view_count": null,
            "_view_module": "@jupyter-widgets/base",
            "_view_module_version": "1.2.0",
            "_view_name": "StyleView",
            "description_width": ""
          }
        },
        "87d25452a84741a7826529bee35f9c6b": {
          "model_module": "@jupyter-widgets/base",
          "model_name": "LayoutModel",
          "model_module_version": "1.2.0",
          "state": {
            "_model_module": "@jupyter-widgets/base",
            "_model_module_version": "1.2.0",
            "_model_name": "LayoutModel",
            "_view_count": null,
            "_view_module": "@jupyter-widgets/base",
            "_view_module_version": "1.2.0",
            "_view_name": "LayoutView",
            "align_content": null,
            "align_items": null,
            "align_self": null,
            "border": null,
            "bottom": null,
            "display": null,
            "flex": null,
            "flex_flow": null,
            "grid_area": null,
            "grid_auto_columns": null,
            "grid_auto_flow": null,
            "grid_auto_rows": null,
            "grid_column": null,
            "grid_gap": null,
            "grid_row": null,
            "grid_template_areas": null,
            "grid_template_columns": null,
            "grid_template_rows": null,
            "height": null,
            "justify_content": null,
            "justify_items": null,
            "left": null,
            "margin": null,
            "max_height": null,
            "max_width": null,
            "min_height": null,
            "min_width": null,
            "object_fit": null,
            "object_position": null,
            "order": null,
            "overflow": null,
            "overflow_x": null,
            "overflow_y": null,
            "padding": null,
            "right": null,
            "top": null,
            "visibility": null,
            "width": null
          }
        },
        "81c6fce6a74d43778351a4474acf952c": {
          "model_module": "@jupyter-widgets/controls",
          "model_name": "ProgressStyleModel",
          "model_module_version": "1.5.0",
          "state": {
            "_model_module": "@jupyter-widgets/controls",
            "_model_module_version": "1.5.0",
            "_model_name": "ProgressStyleModel",
            "_view_count": null,
            "_view_module": "@jupyter-widgets/base",
            "_view_module_version": "1.2.0",
            "_view_name": "StyleView",
            "bar_color": null,
            "description_width": ""
          }
        },
        "b0cea47e5a094499b8c4cb11ee3fffd4": {
          "model_module": "@jupyter-widgets/base",
          "model_name": "LayoutModel",
          "model_module_version": "1.2.0",
          "state": {
            "_model_module": "@jupyter-widgets/base",
            "_model_module_version": "1.2.0",
            "_model_name": "LayoutModel",
            "_view_count": null,
            "_view_module": "@jupyter-widgets/base",
            "_view_module_version": "1.2.0",
            "_view_name": "LayoutView",
            "align_content": null,
            "align_items": null,
            "align_self": null,
            "border": null,
            "bottom": null,
            "display": null,
            "flex": null,
            "flex_flow": null,
            "grid_area": null,
            "grid_auto_columns": null,
            "grid_auto_flow": null,
            "grid_auto_rows": null,
            "grid_column": null,
            "grid_gap": null,
            "grid_row": null,
            "grid_template_areas": null,
            "grid_template_columns": null,
            "grid_template_rows": null,
            "height": null,
            "justify_content": null,
            "justify_items": null,
            "left": null,
            "margin": null,
            "max_height": null,
            "max_width": null,
            "min_height": null,
            "min_width": null,
            "object_fit": null,
            "object_position": null,
            "order": null,
            "overflow": null,
            "overflow_x": null,
            "overflow_y": null,
            "padding": null,
            "right": null,
            "top": null,
            "visibility": null,
            "width": null
          }
        },
        "1f695d972f154524b8c953539c87f3fc": {
          "model_module": "@jupyter-widgets/controls",
          "model_name": "DescriptionStyleModel",
          "model_module_version": "1.5.0",
          "state": {
            "_model_module": "@jupyter-widgets/controls",
            "_model_module_version": "1.5.0",
            "_model_name": "DescriptionStyleModel",
            "_view_count": null,
            "_view_module": "@jupyter-widgets/base",
            "_view_module_version": "1.2.0",
            "_view_name": "StyleView",
            "description_width": ""
          }
        },
        "08c9855748744321bc3cb27bc8e3fa39": {
          "model_module": "@jupyter-widgets/controls",
          "model_name": "HBoxModel",
          "model_module_version": "1.5.0",
          "state": {
            "_dom_classes": [],
            "_model_module": "@jupyter-widgets/controls",
            "_model_module_version": "1.5.0",
            "_model_name": "HBoxModel",
            "_view_count": null,
            "_view_module": "@jupyter-widgets/controls",
            "_view_module_version": "1.5.0",
            "_view_name": "HBoxView",
            "box_style": "",
            "children": [
              "IPY_MODEL_9daadf9a39734f898494a384924da446",
              "IPY_MODEL_88491ef90bd54fd694d1679a1eccfe65",
              "IPY_MODEL_2639405dc99743a3b479e4e9f6a1e118"
            ],
            "layout": "IPY_MODEL_84f565da9e0b485e9d218b3f4872800f"
          }
        },
        "9daadf9a39734f898494a384924da446": {
          "model_module": "@jupyter-widgets/controls",
          "model_name": "HTMLModel",
          "model_module_version": "1.5.0",
          "state": {
            "_dom_classes": [],
            "_model_module": "@jupyter-widgets/controls",
            "_model_module_version": "1.5.0",
            "_model_name": "HTMLModel",
            "_view_count": null,
            "_view_module": "@jupyter-widgets/controls",
            "_view_module_version": "1.5.0",
            "_view_name": "HTMLView",
            "description": "",
            "description_tooltip": null,
            "layout": "IPY_MODEL_760ed77fd9bd43009d7a91ddaaef39cf",
            "placeholder": "​",
            "style": "IPY_MODEL_aa168702ed8a414ba340acaf8b823ee3",
            "value": "Generating validation split: 100%"
          }
        },
        "88491ef90bd54fd694d1679a1eccfe65": {
          "model_module": "@jupyter-widgets/controls",
          "model_name": "FloatProgressModel",
          "model_module_version": "1.5.0",
          "state": {
            "_dom_classes": [],
            "_model_module": "@jupyter-widgets/controls",
            "_model_module_version": "1.5.0",
            "_model_name": "FloatProgressModel",
            "_view_count": null,
            "_view_module": "@jupyter-widgets/controls",
            "_view_module_version": "1.5.0",
            "_view_name": "ProgressView",
            "bar_style": "success",
            "description": "",
            "description_tooltip": null,
            "layout": "IPY_MODEL_9019b7ed1fa245d78b52774764a6dd77",
            "max": 1000,
            "min": 0,
            "orientation": "horizontal",
            "style": "IPY_MODEL_a73951dccf874b58bbcbf59ae685df28",
            "value": 1000
          }
        },
        "2639405dc99743a3b479e4e9f6a1e118": {
          "model_module": "@jupyter-widgets/controls",
          "model_name": "HTMLModel",
          "model_module_version": "1.5.0",
          "state": {
            "_dom_classes": [],
            "_model_module": "@jupyter-widgets/controls",
            "_model_module_version": "1.5.0",
            "_model_name": "HTMLModel",
            "_view_count": null,
            "_view_module": "@jupyter-widgets/controls",
            "_view_module_version": "1.5.0",
            "_view_name": "HTMLView",
            "description": "",
            "description_tooltip": null,
            "layout": "IPY_MODEL_b98298fb304641e6909d710c8f258a21",
            "placeholder": "​",
            "style": "IPY_MODEL_883fb0724f9648c4a7d195a8f664053f",
            "value": " 1000/1000 [00:00&lt;00:00, 31133.49 examples/s]"
          }
        },
        "84f565da9e0b485e9d218b3f4872800f": {
          "model_module": "@jupyter-widgets/base",
          "model_name": "LayoutModel",
          "model_module_version": "1.2.0",
          "state": {
            "_model_module": "@jupyter-widgets/base",
            "_model_module_version": "1.2.0",
            "_model_name": "LayoutModel",
            "_view_count": null,
            "_view_module": "@jupyter-widgets/base",
            "_view_module_version": "1.2.0",
            "_view_name": "LayoutView",
            "align_content": null,
            "align_items": null,
            "align_self": null,
            "border": null,
            "bottom": null,
            "display": null,
            "flex": null,
            "flex_flow": null,
            "grid_area": null,
            "grid_auto_columns": null,
            "grid_auto_flow": null,
            "grid_auto_rows": null,
            "grid_column": null,
            "grid_gap": null,
            "grid_row": null,
            "grid_template_areas": null,
            "grid_template_columns": null,
            "grid_template_rows": null,
            "height": null,
            "justify_content": null,
            "justify_items": null,
            "left": null,
            "margin": null,
            "max_height": null,
            "max_width": null,
            "min_height": null,
            "min_width": null,
            "object_fit": null,
            "object_position": null,
            "order": null,
            "overflow": null,
            "overflow_x": null,
            "overflow_y": null,
            "padding": null,
            "right": null,
            "top": null,
            "visibility": null,
            "width": null
          }
        },
        "760ed77fd9bd43009d7a91ddaaef39cf": {
          "model_module": "@jupyter-widgets/base",
          "model_name": "LayoutModel",
          "model_module_version": "1.2.0",
          "state": {
            "_model_module": "@jupyter-widgets/base",
            "_model_module_version": "1.2.0",
            "_model_name": "LayoutModel",
            "_view_count": null,
            "_view_module": "@jupyter-widgets/base",
            "_view_module_version": "1.2.0",
            "_view_name": "LayoutView",
            "align_content": null,
            "align_items": null,
            "align_self": null,
            "border": null,
            "bottom": null,
            "display": null,
            "flex": null,
            "flex_flow": null,
            "grid_area": null,
            "grid_auto_columns": null,
            "grid_auto_flow": null,
            "grid_auto_rows": null,
            "grid_column": null,
            "grid_gap": null,
            "grid_row": null,
            "grid_template_areas": null,
            "grid_template_columns": null,
            "grid_template_rows": null,
            "height": null,
            "justify_content": null,
            "justify_items": null,
            "left": null,
            "margin": null,
            "max_height": null,
            "max_width": null,
            "min_height": null,
            "min_width": null,
            "object_fit": null,
            "object_position": null,
            "order": null,
            "overflow": null,
            "overflow_x": null,
            "overflow_y": null,
            "padding": null,
            "right": null,
            "top": null,
            "visibility": null,
            "width": null
          }
        },
        "aa168702ed8a414ba340acaf8b823ee3": {
          "model_module": "@jupyter-widgets/controls",
          "model_name": "DescriptionStyleModel",
          "model_module_version": "1.5.0",
          "state": {
            "_model_module": "@jupyter-widgets/controls",
            "_model_module_version": "1.5.0",
            "_model_name": "DescriptionStyleModel",
            "_view_count": null,
            "_view_module": "@jupyter-widgets/base",
            "_view_module_version": "1.2.0",
            "_view_name": "StyleView",
            "description_width": ""
          }
        },
        "9019b7ed1fa245d78b52774764a6dd77": {
          "model_module": "@jupyter-widgets/base",
          "model_name": "LayoutModel",
          "model_module_version": "1.2.0",
          "state": {
            "_model_module": "@jupyter-widgets/base",
            "_model_module_version": "1.2.0",
            "_model_name": "LayoutModel",
            "_view_count": null,
            "_view_module": "@jupyter-widgets/base",
            "_view_module_version": "1.2.0",
            "_view_name": "LayoutView",
            "align_content": null,
            "align_items": null,
            "align_self": null,
            "border": null,
            "bottom": null,
            "display": null,
            "flex": null,
            "flex_flow": null,
            "grid_area": null,
            "grid_auto_columns": null,
            "grid_auto_flow": null,
            "grid_auto_rows": null,
            "grid_column": null,
            "grid_gap": null,
            "grid_row": null,
            "grid_template_areas": null,
            "grid_template_columns": null,
            "grid_template_rows": null,
            "height": null,
            "justify_content": null,
            "justify_items": null,
            "left": null,
            "margin": null,
            "max_height": null,
            "max_width": null,
            "min_height": null,
            "min_width": null,
            "object_fit": null,
            "object_position": null,
            "order": null,
            "overflow": null,
            "overflow_x": null,
            "overflow_y": null,
            "padding": null,
            "right": null,
            "top": null,
            "visibility": null,
            "width": null
          }
        },
        "a73951dccf874b58bbcbf59ae685df28": {
          "model_module": "@jupyter-widgets/controls",
          "model_name": "ProgressStyleModel",
          "model_module_version": "1.5.0",
          "state": {
            "_model_module": "@jupyter-widgets/controls",
            "_model_module_version": "1.5.0",
            "_model_name": "ProgressStyleModel",
            "_view_count": null,
            "_view_module": "@jupyter-widgets/base",
            "_view_module_version": "1.2.0",
            "_view_name": "StyleView",
            "bar_color": null,
            "description_width": ""
          }
        },
        "b98298fb304641e6909d710c8f258a21": {
          "model_module": "@jupyter-widgets/base",
          "model_name": "LayoutModel",
          "model_module_version": "1.2.0",
          "state": {
            "_model_module": "@jupyter-widgets/base",
            "_model_module_version": "1.2.0",
            "_model_name": "LayoutModel",
            "_view_count": null,
            "_view_module": "@jupyter-widgets/base",
            "_view_module_version": "1.2.0",
            "_view_name": "LayoutView",
            "align_content": null,
            "align_items": null,
            "align_self": null,
            "border": null,
            "bottom": null,
            "display": null,
            "flex": null,
            "flex_flow": null,
            "grid_area": null,
            "grid_auto_columns": null,
            "grid_auto_flow": null,
            "grid_auto_rows": null,
            "grid_column": null,
            "grid_gap": null,
            "grid_row": null,
            "grid_template_areas": null,
            "grid_template_columns": null,
            "grid_template_rows": null,
            "height": null,
            "justify_content": null,
            "justify_items": null,
            "left": null,
            "margin": null,
            "max_height": null,
            "max_width": null,
            "min_height": null,
            "min_width": null,
            "object_fit": null,
            "object_position": null,
            "order": null,
            "overflow": null,
            "overflow_x": null,
            "overflow_y": null,
            "padding": null,
            "right": null,
            "top": null,
            "visibility": null,
            "width": null
          }
        },
        "883fb0724f9648c4a7d195a8f664053f": {
          "model_module": "@jupyter-widgets/controls",
          "model_name": "DescriptionStyleModel",
          "model_module_version": "1.5.0",
          "state": {
            "_model_module": "@jupyter-widgets/controls",
            "_model_module_version": "1.5.0",
            "_model_name": "DescriptionStyleModel",
            "_view_count": null,
            "_view_module": "@jupyter-widgets/base",
            "_view_module_version": "1.2.0",
            "_view_name": "StyleView",
            "description_width": ""
          }
        },
        "4f1ac6cfdc244e5989e7f153fef0aecf": {
          "model_module": "@jupyter-widgets/controls",
          "model_name": "HBoxModel",
          "model_module_version": "1.5.0",
          "state": {
            "_dom_classes": [],
            "_model_module": "@jupyter-widgets/controls",
            "_model_module_version": "1.5.0",
            "_model_name": "HBoxModel",
            "_view_count": null,
            "_view_module": "@jupyter-widgets/controls",
            "_view_module_version": "1.5.0",
            "_view_name": "HBoxView",
            "box_style": "",
            "children": [
              "IPY_MODEL_358a3b2a308c4aa3872935e553fbfe0d",
              "IPY_MODEL_74ca68ce707241988293e511d6790a8c",
              "IPY_MODEL_f79aea9e9c284d5b82eaed559ae5d665"
            ],
            "layout": "IPY_MODEL_374a2d44f9b84e9199b0ef661683cb00"
          }
        },
        "358a3b2a308c4aa3872935e553fbfe0d": {
          "model_module": "@jupyter-widgets/controls",
          "model_name": "HTMLModel",
          "model_module_version": "1.5.0",
          "state": {
            "_dom_classes": [],
            "_model_module": "@jupyter-widgets/controls",
            "_model_module_version": "1.5.0",
            "_model_name": "HTMLModel",
            "_view_count": null,
            "_view_module": "@jupyter-widgets/controls",
            "_view_module_version": "1.5.0",
            "_view_name": "HTMLView",
            "description": "",
            "description_tooltip": null,
            "layout": "IPY_MODEL_54cd387ae53548fa893a1d72fd306a93",
            "placeholder": "​",
            "style": "IPY_MODEL_b87efa5fbcd0445b8fd1e265f7dc7cf7",
            "value": "Generating test split: 100%"
          }
        },
        "74ca68ce707241988293e511d6790a8c": {
          "model_module": "@jupyter-widgets/controls",
          "model_name": "FloatProgressModel",
          "model_module_version": "1.5.0",
          "state": {
            "_dom_classes": [],
            "_model_module": "@jupyter-widgets/controls",
            "_model_module_version": "1.5.0",
            "_model_name": "FloatProgressModel",
            "_view_count": null,
            "_view_module": "@jupyter-widgets/controls",
            "_view_module_version": "1.5.0",
            "_view_name": "ProgressView",
            "bar_style": "success",
            "description": "",
            "description_tooltip": null,
            "layout": "IPY_MODEL_177d4bf15e20408cbc5777fca6cd2eb0",
            "max": 1000,
            "min": 0,
            "orientation": "horizontal",
            "style": "IPY_MODEL_71f3a8633074409b92268aa6a7be4640",
            "value": 1000
          }
        },
        "f79aea9e9c284d5b82eaed559ae5d665": {
          "model_module": "@jupyter-widgets/controls",
          "model_name": "HTMLModel",
          "model_module_version": "1.5.0",
          "state": {
            "_dom_classes": [],
            "_model_module": "@jupyter-widgets/controls",
            "_model_module_version": "1.5.0",
            "_model_name": "HTMLModel",
            "_view_count": null,
            "_view_module": "@jupyter-widgets/controls",
            "_view_module_version": "1.5.0",
            "_view_name": "HTMLView",
            "description": "",
            "description_tooltip": null,
            "layout": "IPY_MODEL_a7bd8e9b095942d4806285800ee8d307",
            "placeholder": "​",
            "style": "IPY_MODEL_d3f1b91b29384380b6c2b74f543b3073",
            "value": " 1000/1000 [00:00&lt;00:00, 33229.05 examples/s]"
          }
        },
        "374a2d44f9b84e9199b0ef661683cb00": {
          "model_module": "@jupyter-widgets/base",
          "model_name": "LayoutModel",
          "model_module_version": "1.2.0",
          "state": {
            "_model_module": "@jupyter-widgets/base",
            "_model_module_version": "1.2.0",
            "_model_name": "LayoutModel",
            "_view_count": null,
            "_view_module": "@jupyter-widgets/base",
            "_view_module_version": "1.2.0",
            "_view_name": "LayoutView",
            "align_content": null,
            "align_items": null,
            "align_self": null,
            "border": null,
            "bottom": null,
            "display": null,
            "flex": null,
            "flex_flow": null,
            "grid_area": null,
            "grid_auto_columns": null,
            "grid_auto_flow": null,
            "grid_auto_rows": null,
            "grid_column": null,
            "grid_gap": null,
            "grid_row": null,
            "grid_template_areas": null,
            "grid_template_columns": null,
            "grid_template_rows": null,
            "height": null,
            "justify_content": null,
            "justify_items": null,
            "left": null,
            "margin": null,
            "max_height": null,
            "max_width": null,
            "min_height": null,
            "min_width": null,
            "object_fit": null,
            "object_position": null,
            "order": null,
            "overflow": null,
            "overflow_x": null,
            "overflow_y": null,
            "padding": null,
            "right": null,
            "top": null,
            "visibility": null,
            "width": null
          }
        },
        "54cd387ae53548fa893a1d72fd306a93": {
          "model_module": "@jupyter-widgets/base",
          "model_name": "LayoutModel",
          "model_module_version": "1.2.0",
          "state": {
            "_model_module": "@jupyter-widgets/base",
            "_model_module_version": "1.2.0",
            "_model_name": "LayoutModel",
            "_view_count": null,
            "_view_module": "@jupyter-widgets/base",
            "_view_module_version": "1.2.0",
            "_view_name": "LayoutView",
            "align_content": null,
            "align_items": null,
            "align_self": null,
            "border": null,
            "bottom": null,
            "display": null,
            "flex": null,
            "flex_flow": null,
            "grid_area": null,
            "grid_auto_columns": null,
            "grid_auto_flow": null,
            "grid_auto_rows": null,
            "grid_column": null,
            "grid_gap": null,
            "grid_row": null,
            "grid_template_areas": null,
            "grid_template_columns": null,
            "grid_template_rows": null,
            "height": null,
            "justify_content": null,
            "justify_items": null,
            "left": null,
            "margin": null,
            "max_height": null,
            "max_width": null,
            "min_height": null,
            "min_width": null,
            "object_fit": null,
            "object_position": null,
            "order": null,
            "overflow": null,
            "overflow_x": null,
            "overflow_y": null,
            "padding": null,
            "right": null,
            "top": null,
            "visibility": null,
            "width": null
          }
        },
        "b87efa5fbcd0445b8fd1e265f7dc7cf7": {
          "model_module": "@jupyter-widgets/controls",
          "model_name": "DescriptionStyleModel",
          "model_module_version": "1.5.0",
          "state": {
            "_model_module": "@jupyter-widgets/controls",
            "_model_module_version": "1.5.0",
            "_model_name": "DescriptionStyleModel",
            "_view_count": null,
            "_view_module": "@jupyter-widgets/base",
            "_view_module_version": "1.2.0",
            "_view_name": "StyleView",
            "description_width": ""
          }
        },
        "177d4bf15e20408cbc5777fca6cd2eb0": {
          "model_module": "@jupyter-widgets/base",
          "model_name": "LayoutModel",
          "model_module_version": "1.2.0",
          "state": {
            "_model_module": "@jupyter-widgets/base",
            "_model_module_version": "1.2.0",
            "_model_name": "LayoutModel",
            "_view_count": null,
            "_view_module": "@jupyter-widgets/base",
            "_view_module_version": "1.2.0",
            "_view_name": "LayoutView",
            "align_content": null,
            "align_items": null,
            "align_self": null,
            "border": null,
            "bottom": null,
            "display": null,
            "flex": null,
            "flex_flow": null,
            "grid_area": null,
            "grid_auto_columns": null,
            "grid_auto_flow": null,
            "grid_auto_rows": null,
            "grid_column": null,
            "grid_gap": null,
            "grid_row": null,
            "grid_template_areas": null,
            "grid_template_columns": null,
            "grid_template_rows": null,
            "height": null,
            "justify_content": null,
            "justify_items": null,
            "left": null,
            "margin": null,
            "max_height": null,
            "max_width": null,
            "min_height": null,
            "min_width": null,
            "object_fit": null,
            "object_position": null,
            "order": null,
            "overflow": null,
            "overflow_x": null,
            "overflow_y": null,
            "padding": null,
            "right": null,
            "top": null,
            "visibility": null,
            "width": null
          }
        },
        "71f3a8633074409b92268aa6a7be4640": {
          "model_module": "@jupyter-widgets/controls",
          "model_name": "ProgressStyleModel",
          "model_module_version": "1.5.0",
          "state": {
            "_model_module": "@jupyter-widgets/controls",
            "_model_module_version": "1.5.0",
            "_model_name": "ProgressStyleModel",
            "_view_count": null,
            "_view_module": "@jupyter-widgets/base",
            "_view_module_version": "1.2.0",
            "_view_name": "StyleView",
            "bar_color": null,
            "description_width": ""
          }
        },
        "a7bd8e9b095942d4806285800ee8d307": {
          "model_module": "@jupyter-widgets/base",
          "model_name": "LayoutModel",
          "model_module_version": "1.2.0",
          "state": {
            "_model_module": "@jupyter-widgets/base",
            "_model_module_version": "1.2.0",
            "_model_name": "LayoutModel",
            "_view_count": null,
            "_view_module": "@jupyter-widgets/base",
            "_view_module_version": "1.2.0",
            "_view_name": "LayoutView",
            "align_content": null,
            "align_items": null,
            "align_self": null,
            "border": null,
            "bottom": null,
            "display": null,
            "flex": null,
            "flex_flow": null,
            "grid_area": null,
            "grid_auto_columns": null,
            "grid_auto_flow": null,
            "grid_auto_rows": null,
            "grid_column": null,
            "grid_gap": null,
            "grid_row": null,
            "grid_template_areas": null,
            "grid_template_columns": null,
            "grid_template_rows": null,
            "height": null,
            "justify_content": null,
            "justify_items": null,
            "left": null,
            "margin": null,
            "max_height": null,
            "max_width": null,
            "min_height": null,
            "min_width": null,
            "object_fit": null,
            "object_position": null,
            "order": null,
            "overflow": null,
            "overflow_x": null,
            "overflow_y": null,
            "padding": null,
            "right": null,
            "top": null,
            "visibility": null,
            "width": null
          }
        },
        "d3f1b91b29384380b6c2b74f543b3073": {
          "model_module": "@jupyter-widgets/controls",
          "model_name": "DescriptionStyleModel",
          "model_module_version": "1.5.0",
          "state": {
            "_model_module": "@jupyter-widgets/controls",
            "_model_module_version": "1.5.0",
            "_model_name": "DescriptionStyleModel",
            "_view_count": null,
            "_view_module": "@jupyter-widgets/base",
            "_view_module_version": "1.2.0",
            "_view_name": "StyleView",
            "description_width": ""
          }
        }
      }
    }
  },
  "nbformat": 4,
  "nbformat_minor": 0
}